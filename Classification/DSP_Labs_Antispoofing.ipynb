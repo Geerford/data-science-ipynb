{
  "nbformat": 4,
  "nbformat_minor": 0,
  "metadata": {
    "colab": {
      "name": "DSP Labs Antispoofing",
      "provenance": [],
      "collapsed_sections": [],
      "toc_visible": true,
      "authorship_tag": "ABX9TyPValO5nRz2SvlH7iDvDT3a",
      "include_colab_link": true
    },
    "kernelspec": {
      "display_name": "Python 3",
      "name": "python3"
    }
  },
  "cells": [
    {
      "cell_type": "markdown",
      "metadata": {
        "id": "view-in-github",
        "colab_type": "text"
      },
      "source": [
        "<a href=\"https://colab.research.google.com/github/Geerford/data-science-ipynb/blob/master/Classification/DSP_Labs_Antispoofing.ipynb\" target=\"_parent\"><img src=\"https://colab.research.google.com/assets/colab-badge.svg\" alt=\"Open In Colab\"/></a>"
      ]
    },
    {
      "cell_type": "markdown",
      "metadata": {
        "id": "M7-Tr8RDs-JH"
      },
      "source": [
        "#Init"
      ]
    },
    {
      "cell_type": "markdown",
      "metadata": {
        "id": "cNfMnnwdLpE-"
      },
      "source": [
        "Подключим необходимые библиотеки"
      ]
    },
    {
      "cell_type": "code",
      "metadata": {
        "id": "KuzDxlDCLf55"
      },
      "source": [
        "import glob\n",
        "import os\n",
        "import pickle\n",
        "from multiprocessing import Pool\n",
        "\n",
        "import cv2\n",
        "import numpy as np\n",
        "from skimage.feature import local_binary_pattern as LBP\n",
        "from sklearn.ensemble import GradientBoostingClassifier\n",
        "from sklearn.ensemble import RandomForestClassifier\n",
        "from sklearn.ensemble import StackingClassifier\n",
        "from sklearn.linear_model import LogisticRegression\n",
        "from sklearn.metrics import classification_report\n",
        "from sklearn.metrics import f1_score\n",
        "from sklearn.model_selection import GridSearchCV\n",
        "from sklearn.model_selection import RandomizedSearchCV\n",
        "from sklearn.model_selection import RepeatedStratifiedKFold\n",
        "from sklearn.model_selection import train_test_split\n",
        "from sklearn.naive_bayes import GaussianNB\n",
        "from sklearn.neighbors import KNeighborsClassifier\n",
        "from sklearn.svm import SVC\n",
        "from sklearn.tree import DecisionTreeClassifier\n",
        "from tqdm import tqdm_notebook"
      ],
      "execution_count": null,
      "outputs": []
    },
    {
      "cell_type": "markdown",
      "metadata": {
        "id": "iVjgKNKbtBBx"
      },
      "source": [
        "#Extract feature"
      ]
    },
    {
      "cell_type": "markdown",
      "metadata": {
        "id": "wmj1jXkeLs5_"
      },
      "source": [
        "Для работы с изображениями, найдем их гистограммы — характеристики распределения интенсивности изображения"
      ]
    },
    {
      "cell_type": "code",
      "metadata": {
        "id": "dsEu5bqIWDyg"
      },
      "source": [
        "TRAIN_FILE_ID='1xmALNsYW-zm-Id9T6Ku2H4_cBWoqn23s' \n",
        "TRAIN_FILE_NAME='IDRND_FASDB_train.tar.gz' \n",
        "TEST_FILE_ID='1teaLCo-F-5RCQM8Puxqbk13bI0evqIzg' \n",
        "TEST_FILE_NAME='test.tar.gz'\n",
        "TRAIN_PATH = 'IDRND_FASDB_train'\n",
        "TEST_PATH = 'test'\n",
        "NEW_WIDTH = 480\n",
        "NEW_HEIGHT = 480\n",
        "DOWNLOAD = False\n",
        "EXTRACT = False\n",
        "TUNING = False\n",
        "STATE = 42"
      ],
      "execution_count": null,
      "outputs": []
    },
    {
      "cell_type": "code",
      "metadata": {
        "id": "eWA-a-1tLtRc"
      },
      "source": [
        "def extract_feature_vector(image, p=18, r=2):\n",
        "    channels = list(cv2.split(cv2.cvtColor(image, cv2.COLOR_BGR2HSV))) + \\\n",
        "                list(cv2.split(cv2.cvtColor(image, cv2.COLOR_BGR2YCrCb)))\n",
        "    lbp_features = [LBP(ch, p, r, method=\"uniform\") for ch in channels]\n",
        "    hist_features = [np.histogram(lf,  bins=p+1, normed=True)[0] for lf in lbp_features]\n",
        "    return np.hstack([hf.ravel() for hf in hist_features])\n",
        "\n",
        "\n",
        "def process_single(file):\n",
        "    image = cv2.imread(file)\n",
        "    h, w, c = image.shape\n",
        "    dw, dh = w // 4, h // 4\n",
        "    return extract_feature_vector(cv2.resize(image[dh:h-dh, dw:w-dw, :], (NEW_WIDTH, NEW_HEIGHT)))\n",
        "\n",
        "\n",
        "def extract_features(filelist):\n",
        "    def __impl(files):\n",
        "        pool = Pool(32) \n",
        "        feats = list(tqdm_notebook(pool.imap(process_single, files), total=len(files)))        \n",
        "        return feats\n",
        "    feature_list = __impl(filelist) \n",
        "    return [x for x in feature_list if x is not None]"
      ],
      "execution_count": null,
      "outputs": []
    },
    {
      "cell_type": "markdown",
      "metadata": {
        "id": "zEL46nlutIdO"
      },
      "source": [
        "Скачиваем и распаковываем тренировочный и тестовый датасет"
      ]
    },
    {
      "cell_type": "code",
      "metadata": {
        "id": "JOvKrIl6LLoP"
      },
      "source": [
        "if DOWNLOAD:\n",
        "  !wget --load-cookies /tmp/cookies.txt \"https://docs.google.com/uc?export=download&confirm=$(wget --quiet --save-cookies /tmp/cookies.txt --keep-session-cookies --no-check-certificate 'https://docs.google.com/uc?export=download&id=$TRAIN_FILE_ID' -O- | sed -rn 's/.*confirm=([0-9A-Za-z_]+).*/\\1\\n/p')&id=$TRAIN_FILE_ID\" -O $TRAIN_FILE_NAME && rm -rf /tmp/cookies.txt\n",
        "  !tar -xvzf 'IDRND_FASDB_train.tar.gz'\n",
        "  \n",
        "  !wget --load-cookies /tmp/cookies.txt \"https://docs.google.com/uc?export=download&confirm=$(wget --quiet --save-cookies /tmp/cookies.txt --keep-session-cookies --no-check-certificate 'https://docs.google.com/uc?export=download&id=$TEST_FILE_ID' -O- | sed -rn 's/.*confirm=([0-9A-Za-z_]+).*/\\1\\n/p')&id=$TEST_FILE_ID\" -O $TEST_FILE_NAME && rm -rf /tmp/cookies.txt\n",
        "  !tar -xvzf 'test.tar.gz'"
      ],
      "execution_count": null,
      "outputs": []
    },
    {
      "cell_type": "markdown",
      "metadata": {
        "id": "JhoBoxM8tQ8p"
      },
      "source": [
        "Получаем гисторграммы изображений"
      ]
    },
    {
      "cell_type": "code",
      "metadata": {
        "id": "ZU_uExpeHPVh"
      },
      "source": [
        "if EXTRACT:\n",
        "  train_real_filelist = glob.glob(os.path.join(TRAIN_PATH, 'real/*.png'))\n",
        "  train_spoof_filelist = glob.glob(os.path.join(TRAIN_PATH, 'spoof/*.png'))\n",
        "  test_filelist = glob.glob(os.path.join(TEST_PATH, '*.png'))\n",
        "\n",
        "  train_real_features = extract_features(train_real_filelist)\n",
        "  train_spoof_features = extract_features(train_spoof_filelist)\n",
        "  test_features = extract_features(test_filelist)\n",
        "\n",
        "  train_data = train_real_features + train_spoof_features\n",
        "  train_labels = [0] * len(train_real_features) + [1] * len(train_spoof_features)\n"
      ],
      "execution_count": null,
      "outputs": []
    },
    {
      "cell_type": "markdown",
      "metadata": {
        "id": "4fLAVDCkuqaJ"
      },
      "source": [
        "#Pickle"
      ]
    },
    {
      "cell_type": "markdown",
      "metadata": {
        "id": "fa9h7ADjtnww"
      },
      "source": [
        "Сериализируем преобразованные объекты или загружаем сохраненные объекты"
      ]
    },
    {
      "cell_type": "code",
      "metadata": {
        "id": "gKVaqMEvGdBu"
      },
      "source": [
        "if EXTRACT:\n",
        "  with open('train_data.pkl', 'wb') as f:\n",
        "    pickle.dump(train_data, f, pickle.HIGHEST_PROTOCOL)\n",
        "  with open('train_labels.pkl', 'wb') as f:\n",
        "    pickle.dump(train_labels, f, pickle.HIGHEST_PROTOCOL)\n",
        "\n",
        "  with open('test_data.pkl', 'wb') as f:\n",
        "    pickle.dump(test_features, f, pickle.HIGHEST_PROTOCOL)\n",
        "  with open('test_filelist.pkl', 'wb') as f:\n",
        "    pickle.dump(test_filelist, f, pickle.HIGHEST_PROTOCOL)\n",
        "else:\n",
        "  with open('train_data.pkl', 'rb') as f:\n",
        "    train_data = pickle.load(f)\n",
        "  with open('train_labels.pkl', 'rb') as f:\n",
        "    train_labels = pickle.load(f)\n",
        "    \n",
        "  with open('test_data.pkl', 'rb') as f:\n",
        "    test_data = pickle.load(f)\n",
        "  with open('test_filelist.pkl', 'rb') as f:\n",
        "    test_filelist = pickle.load(f)\n"
      ],
      "execution_count": null,
      "outputs": []
    },
    {
      "cell_type": "markdown",
      "metadata": {
        "id": "N3Dsu37TvB4a"
      },
      "source": [
        "#Dataset split"
      ]
    },
    {
      "cell_type": "markdown",
      "metadata": {
        "id": "iiKdVrE0Q8h4"
      },
      "source": [
        "Разделение выборки на тренировочную и тестовую"
      ]
    },
    {
      "cell_type": "code",
      "metadata": {
        "id": "0D8Nk1kuQ831"
      },
      "source": [
        "(trainData, testData, trainLabels, testLabels) = train_test_split(np.array(train_data), train_labels, test_size=0.25, random_state=STATE)"
      ],
      "execution_count": null,
      "outputs": []
    },
    {
      "cell_type": "code",
      "metadata": {
        "id": "IIoLTDMDUXeX"
      },
      "source": [
        "cv_method = RepeatedStratifiedKFold(n_splits=5, n_repeats=3, random_state=STATE)"
      ],
      "execution_count": null,
      "outputs": []
    },
    {
      "cell_type": "markdown",
      "metadata": {
        "id": "C3ZzbLbShQ_k"
      },
      "source": [
        "#Tuning"
      ]
    },
    {
      "cell_type": "code",
      "metadata": {
        "id": "ILSXHeJBvZXC"
      },
      "source": [
        "def score_model(model, data, target):\n",
        "  probs = model.predict_proba(data)\n",
        "  predictions = model.predict(data)\n",
        "  clf_report = classification_report(target, predictions)\n",
        "  f_score = f1_score(target, predictions, average='macro')\n",
        "\n",
        "  print('Predictions: {}'.format(predictions))\n",
        "  print(clf_report)\n",
        "  print('F1-score: {}'.format(f_score))"
      ],
      "execution_count": null,
      "outputs": []
    },
    {
      "cell_type": "markdown",
      "metadata": {
        "id": "-CGXYRy70w6K"
      },
      "source": [
        "Подбор параметров для SVC"
      ]
    },
    {
      "cell_type": "code",
      "metadata": {
        "id": "R36Tb_XX9f63"
      },
      "source": [
        "if TUNING:\n",
        "  parameters = {'kernel':('linear', 'rbf'), \n",
        "                'C': [1, 10, 100, 1000],\n",
        "                'gamma': [1, 0.1, 0.01, 0.001, 0.0001, 'auto'],\n",
        "                'decision_function_shape':('ovo','ovr'),\n",
        "                'shrinking':(True,False),\n",
        "                'probability': [True]}\n",
        "\n",
        "  grid_svc = GridSearchCV(SVC(), \n",
        "                          parameters, \n",
        "                          refit = True, \n",
        "                          verbose = 3) \n",
        "  grid_svc.fit(trainData, trainLabels)\n",
        "\n",
        "  best_svc_params = grid_svc.best_params_\n",
        "  best_svc_estimator = grid_svc.best_estimator_\n",
        "  print(best_svc_params)\n",
        "  print(best_svc_estimator)\n"
      ],
      "execution_count": null,
      "outputs": []
    },
    {
      "cell_type": "markdown",
      "metadata": {
        "id": "Ppl0FnkA00An"
      },
      "source": [
        "Подбор параметров для LogisticRegression"
      ]
    },
    {
      "cell_type": "code",
      "metadata": {
        "id": "FkbDohnOIYOv"
      },
      "source": [
        "if TUNING:\n",
        "  parameters = [{'penalty': ['l1','l2'], \n",
        "                'C': [0.001,0.01,0.1,1,10,100,1000],\n",
        "                'solver': ['liblinear']}, \n",
        "                {'penalty': ['l2'], \n",
        "                  'C': [0.001,0.01,0.1,1,10,100,1000],\n",
        "                  'solver': ['lbfgs']}]\n",
        "  grid_lr = GridSearchCV(LogisticRegression(max_iter=10000), \n",
        "                        parameters)\n",
        "  grid_lr.fit(trainData, trainLabels)\n",
        "  best_lr_params = grid_lr.best_params_\n",
        "  best_lr_estimator = grid_lr.best_estimator_\n",
        "  print(best_lr_params) \n",
        "  print(best_lr_estimator) "
      ],
      "execution_count": null,
      "outputs": []
    },
    {
      "cell_type": "markdown",
      "metadata": {
        "id": "9hBSPbC7032F"
      },
      "source": [
        "Подбор параметров для KNeighborsClassifier"
      ]
    },
    {
      "cell_type": "code",
      "metadata": {
        "id": "L-pL1lDys35f"
      },
      "source": [
        "if TUNING:\n",
        "  parameters = {'n_neighbors': [1, 2, 3, 4, 5, 6, 7], \n",
        "                'p': [1, 2]}\n",
        "  grid_knn = GridSearchCV(estimator=KNeighborsClassifier(), \n",
        "                          param_grid=params_KNN, \n",
        "                          cv=cv_method, \n",
        "                          verbose=3, \n",
        "                          scoring='accuracy', \n",
        "                          return_train_score=True)\n",
        "  grid_knn.fit(trainData, trainLabels)\n",
        "\n",
        "  best_knn_params = grid_knn.best_params_\n",
        "  best_knn_estimator = grid_knn.best_estimator_\n",
        "  print(best_knn_params)\n",
        "  print(best_knn_estimator)"
      ],
      "execution_count": null,
      "outputs": []
    },
    {
      "cell_type": "markdown",
      "metadata": {
        "id": "lFUaOTMQ04R8"
      },
      "source": [
        "Подбор параметров для GaussianNB"
      ]
    },
    {
      "cell_type": "code",
      "metadata": {
        "id": "8HRwqEtXhMEF"
      },
      "source": [
        "if TUNING:\n",
        "  parameters = {'var_smoothing': np.logspace(0,-9, num=500)}\n",
        "\n",
        "  grid_nb = GridSearchCV(estimator=GaussianNB(), \n",
        "                        param_grid=params_NB, \n",
        "                        cv=cv_method,\n",
        "                        verbose=5, \n",
        "                        scoring='accuracy')\n",
        "  grid_nb.fit(trainData, trainLabels)\n",
        "\n",
        "  best_nb_params = grid_nb.best_params_\n",
        "  best_nb_estimator = grid_nb.best_estimator_\n",
        "  print(best_nb_params)\n",
        "  print(best_nb_estimator)"
      ],
      "execution_count": null,
      "outputs": []
    },
    {
      "cell_type": "markdown",
      "metadata": {
        "id": "xSzbO0ds05E4"
      },
      "source": [
        "Подбор параметров для DecisionTreeClassifier"
      ]
    },
    {
      "cell_type": "code",
      "metadata": {
        "id": "G5BVFLf9ueVy"
      },
      "source": [
        "if TUNING:\n",
        "  parameters = {'criterion': ['gini', 'entropy'],\n",
        "                'splitter': ['best', 'random'],\n",
        "                'min_samples_leaf': range(1, 30, 5),\n",
        "                'min_samples_split': range(2, 30, 5),\n",
        "                'max_depth': range(1, 30)}\n",
        "\n",
        "  grid_dt = GridSearchCV(estimator=DecisionTreeClassifier(random_state=STATE), \n",
        "                        param_grid=parameters, \n",
        "                        cv=cv_method,\n",
        "                        verbose=5, \n",
        "                        scoring='accuracy')\n",
        "  grid_dt.fit(trainData, trainLabels)\n",
        "\n",
        "  best_dt_params = grid_dt.best_params_\n",
        "  best_dt_estimator = grid_dt.best_estimator_\n",
        "  print(best_dt_params)\n",
        "  print(best_dt_estimator)"
      ],
      "execution_count": null,
      "outputs": []
    },
    {
      "cell_type": "markdown",
      "metadata": {
        "id": "FkSo7P5D018I"
      },
      "source": [
        "Подбор параметров для RandomForestClassifier"
      ]
    },
    {
      "cell_type": "code",
      "metadata": {
        "id": "kmwE0Y1dd1yp"
      },
      "source": [
        "if TUNING:\n",
        "  max_depth = [int(x) for x in np.linspace(10, 110, num=11)]\n",
        "  max_depth.append(None)\n",
        "  parameters = {'n_estimators': [int(x) for x in np.linspace(start=200, stop=2000, num=10)],\n",
        "                'max_features': ['auto', 'sqrt'],\n",
        "                'max_depth': max_depth,\n",
        "                'min_samples_split': [2, 5, 10],\n",
        "                'min_samples_leaf': [1, 2, 4],\n",
        "                'bootstrap': [True, False]}\n",
        "  grid_rf = RandomizedSearchCV(estimator=RandomForestClassifier(), \n",
        "                              param_distributions=parameters, \n",
        "                              n_iter=100, \n",
        "                              cv=cv_method,\n",
        "                              verbose=2, \n",
        "                              random_state=42, \n",
        "                              n_jobs=14)\n",
        "  grid_rf.fit(trainData, trainLabels)\n",
        "  best_rf_params = grid_rf.best_params_\n",
        "  best_rf_estimator = grid_rf.best_estimator_\n",
        "  print(best_rf_params)\n",
        "  print(best_rf_estimator)"
      ],
      "execution_count": null,
      "outputs": []
    },
    {
      "cell_type": "markdown",
      "metadata": {
        "id": "P8eYMjQr9znj"
      },
      "source": [
        "#Models"
      ]
    },
    {
      "cell_type": "markdown",
      "metadata": {
        "id": "Mq2JhnllRU5X"
      },
      "source": [
        "## SVC"
      ]
    },
    {
      "cell_type": "code",
      "metadata": {
        "id": "zL7Kf6EFnk4L",
        "outputId": "564066bc-55ca-4964-d12d-c933cb1d23de",
        "colab": {
          "base_uri": "https://localhost:8080/",
          "height": 35
        }
      },
      "source": [
        "svc_model = SVC(C=1000, \n",
        "                decision_function_shape='ovo', \n",
        "                gamma=1, \n",
        "                kernel='rbf', \n",
        "                probability=True, \n",
        "                shrinking=True)\n",
        "svc_model.fit(trainData, trainLabels)\n",
        "svc_model.score(testData, testLabels)"
      ],
      "execution_count": null,
      "outputs": [
        {
          "output_type": "execute_result",
          "data": {
            "text/plain": [
              "0.9884337349397591"
            ]
          },
          "metadata": {
            "tags": []
          },
          "execution_count": 42
        }
      ]
    },
    {
      "cell_type": "code",
      "metadata": {
        "id": "0N34oskIRmE_",
        "outputId": "1acd3d09-ba93-4452-aaf2-257b1f8be96c",
        "colab": {
          "base_uri": "https://localhost:8080/",
          "height": 219
        }
      },
      "source": [
        "score_model(svc_model, testData, testLabels)"
      ],
      "execution_count": null,
      "outputs": [
        {
          "output_type": "stream",
          "text": [
            "Predictions: [1 1 1 ... 1 1 1]\n",
            "              precision    recall  f1-score   support\n",
            "\n",
            "           0       0.97      0.95      0.96       314\n",
            "           1       0.99      1.00      0.99      1761\n",
            "\n",
            "    accuracy                           0.99      2075\n",
            "   macro avg       0.98      0.97      0.98      2075\n",
            "weighted avg       0.99      0.99      0.99      2075\n",
            "\n",
            "F1-score: 0.9772457278625606\n"
          ],
          "name": "stdout"
        }
      ]
    },
    {
      "cell_type": "markdown",
      "metadata": {
        "id": "A94O30W5Idoe"
      },
      "source": [
        "## Logistic Regression"
      ]
    },
    {
      "cell_type": "code",
      "metadata": {
        "id": "tjxyM7ZmzBMR",
        "outputId": "5ce4a66f-851c-46df-965e-cfce320942c0",
        "colab": {
          "base_uri": "https://localhost:8080/",
          "height": 35
        }
      },
      "source": [
        "lr_model = LogisticRegression(C=100, \n",
        "                              penalty='l1', \n",
        "                              solver='liblinear', \n",
        "                              max_iter=10000)\n",
        "lr_model.fit(trainData, trainLabels)\n",
        "lr_model.score(testData, testLabels)"
      ],
      "execution_count": null,
      "outputs": [
        {
          "output_type": "execute_result",
          "data": {
            "text/plain": [
              "0.971566265060241"
            ]
          },
          "metadata": {
            "tags": []
          },
          "execution_count": 41
        }
      ]
    },
    {
      "cell_type": "code",
      "metadata": {
        "id": "-xR4G4f_SkiW",
        "outputId": "c4f699fc-c8e4-4f07-e006-60929ca27b78",
        "colab": {
          "base_uri": "https://localhost:8080/",
          "height": 219
        }
      },
      "source": [
        "score_model(lr_model, testData, testLabels)"
      ],
      "execution_count": null,
      "outputs": [
        {
          "output_type": "stream",
          "text": [
            "Predictions: [1 1 1 ... 1 1 1]\n",
            "              precision    recall  f1-score   support\n",
            "\n",
            "           0       0.91      0.90      0.91       314\n",
            "           1       0.98      0.98      0.98      1761\n",
            "\n",
            "    accuracy                           0.97      2075\n",
            "   macro avg       0.95      0.94      0.94      2075\n",
            "weighted avg       0.97      0.97      0.97      2075\n",
            "\n",
            "F1-score: 0.944284426353728\n"
          ],
          "name": "stdout"
        }
      ]
    },
    {
      "cell_type": "markdown",
      "metadata": {
        "id": "Dz91Ncams4WW"
      },
      "source": [
        "##KNN"
      ]
    },
    {
      "cell_type": "code",
      "metadata": {
        "id": "RKwo95mvtoKQ",
        "outputId": "7f24a90f-461a-41b9-cf72-c666602dfcf1",
        "colab": {
          "base_uri": "https://localhost:8080/",
          "height": 35
        }
      },
      "source": [
        "knn_model = KNeighborsClassifier(n_neighbors=1, p=1)\n",
        "knn_model.fit(trainData, trainLabels)\n",
        "knn_model.score(testData, testLabels)"
      ],
      "execution_count": null,
      "outputs": [
        {
          "output_type": "execute_result",
          "data": {
            "text/plain": [
              "0.984578313253012"
            ]
          },
          "metadata": {
            "tags": []
          },
          "execution_count": 31
        }
      ]
    },
    {
      "cell_type": "code",
      "metadata": {
        "id": "S-28IwBctArO",
        "outputId": "23349f18-203b-4971-dfd3-c1fe24ff6677",
        "colab": {
          "base_uri": "https://localhost:8080/",
          "height": 219
        }
      },
      "source": [
        "score_model(knn_model, testData, testLabels)"
      ],
      "execution_count": null,
      "outputs": [
        {
          "output_type": "stream",
          "text": [
            "Predictions: [1 1 1 ... 1 1 1]\n",
            "              precision    recall  f1-score   support\n",
            "\n",
            "           0       0.94      0.96      0.95       314\n",
            "           1       0.99      0.99      0.99      1761\n",
            "\n",
            "    accuracy                           0.98      2075\n",
            "   macro avg       0.97      0.98      0.97      2075\n",
            "weighted avg       0.98      0.98      0.98      2075\n",
            "\n",
            "F1-score: 0.9702895515870033\n"
          ],
          "name": "stdout"
        }
      ]
    },
    {
      "cell_type": "markdown",
      "metadata": {
        "id": "av0iro71ucWw"
      },
      "source": [
        "##Desition Tree"
      ]
    },
    {
      "cell_type": "code",
      "metadata": {
        "id": "odrc7SZsjsLS",
        "outputId": "cf80b862-a196-485d-ce37-d7df98dc2f1f",
        "colab": {
          "base_uri": "https://localhost:8080/",
          "height": 35
        }
      },
      "source": [
        "dt_model = DecisionTreeClassifier(criterion='entropy', max_depth=15, min_samples_split=2, min_samples_leaf=1, splitter='best', random_state=STATE)\n",
        "dt_model.fit(trainData, trainLabels)\n",
        "dt_model.score(testData, testLabels)"
      ],
      "execution_count": null,
      "outputs": [
        {
          "output_type": "execute_result",
          "data": {
            "text/plain": [
              "0.9224096385542169"
            ]
          },
          "metadata": {
            "tags": []
          },
          "execution_count": 51
        }
      ]
    },
    {
      "cell_type": "code",
      "metadata": {
        "id": "DY7aVFZYufZS",
        "outputId": "12f2d5ad-7fda-4904-887d-7ae941060bb5",
        "colab": {
          "base_uri": "https://localhost:8080/",
          "height": 219
        }
      },
      "source": [
        "score_model(dt_model, testData, testLabels)"
      ],
      "execution_count": null,
      "outputs": [
        {
          "output_type": "stream",
          "text": [
            "Predictions: [1 0 1 ... 1 1 1]\n",
            "              precision    recall  f1-score   support\n",
            "\n",
            "           0       0.75      0.73      0.74       314\n",
            "           1       0.95      0.96      0.95      1761\n",
            "\n",
            "    accuracy                           0.92      2075\n",
            "   macro avg       0.85      0.84      0.85      2075\n",
            "weighted avg       0.92      0.92      0.92      2075\n",
            "\n",
            "F1-score: 0.8467448153804302\n"
          ],
          "name": "stdout"
        }
      ]
    },
    {
      "cell_type": "markdown",
      "metadata": {
        "id": "ngmFnnd9d0Ta"
      },
      "source": [
        "## Random Forest"
      ]
    },
    {
      "cell_type": "code",
      "metadata": {
        "id": "tq0uGkJmT9s0",
        "outputId": "d1091d33-2d44-4077-cd56-32601853e24c",
        "colab": {
          "base_uri": "https://localhost:8080/",
          "height": 35
        }
      },
      "source": [
        "rf_model = RandomForestClassifier(n_estimators=400, min_samples_split=2, min_samples_leaf=1, max_features='sqrt', max_depth=None, bootstrap=False)\n",
        "rf_model.fit(trainData, trainLabels)\n",
        "rf_model.score(testData, testLabels)"
      ],
      "execution_count": null,
      "outputs": [
        {
          "output_type": "execute_result",
          "data": {
            "text/plain": [
              "0.9730120481927711"
            ]
          },
          "metadata": {
            "tags": []
          },
          "execution_count": 40
        }
      ]
    },
    {
      "cell_type": "code",
      "metadata": {
        "id": "-EQYG7rHT9s-",
        "outputId": "853d2ffb-5be1-4ec6-a177-d9284a876b49",
        "colab": {
          "base_uri": "https://localhost:8080/",
          "height": 219
        }
      },
      "source": [
        "score_model(rf_model, testData, testLabels)"
      ],
      "execution_count": null,
      "outputs": [
        {
          "output_type": "stream",
          "text": [
            "Predictions: [1 1 1 ... 1 1 1]\n",
            "              precision    recall  f1-score   support\n",
            "\n",
            "           0       0.99      0.83      0.90       314\n",
            "           1       0.97      1.00      0.98      1761\n",
            "\n",
            "    accuracy                           0.97      2075\n",
            "   macro avg       0.98      0.91      0.94      2075\n",
            "weighted avg       0.97      0.97      0.97      2075\n",
            "\n",
            "F1-score: 0.9437183476249336\n"
          ],
          "name": "stdout"
        }
      ]
    },
    {
      "cell_type": "markdown",
      "metadata": {
        "id": "1u8W2W4s98a9"
      },
      "source": [
        "#Ensemble"
      ]
    },
    {
      "cell_type": "markdown",
      "metadata": {
        "id": "IeJM6VGjdCZB"
      },
      "source": [
        "##Stacking"
      ]
    },
    {
      "cell_type": "code",
      "metadata": {
        "id": "FTA_unwRrEAU",
        "outputId": "6602a8d9-714f-4353-a814-b8b4f3700d59",
        "colab": {
          "base_uri": "https://localhost:8080/",
          "height": 35
        }
      },
      "source": [
        "estimators = [('Support Vector Classification', svc_model), \n",
        "              ('Logistic Regression', lr_model), \n",
        "              ('KNN', knn_model),\n",
        "              ('Decision Tree', dt_model), \n",
        "              ('Random Forest', rf_model)]\n",
        "classifier = StackingClassifier(estimators=estimators, final_estimator=GradientBoostingClassifier())\n",
        "classifier.fit(trainData, trainLabels)\n",
        "classifier.score(testData, testLabels)"
      ],
      "execution_count": null,
      "outputs": [
        {
          "output_type": "execute_result",
          "data": {
            "text/plain": [
              "0.9918072289156626"
            ]
          },
          "metadata": {
            "tags": []
          },
          "execution_count": 94
        }
      ]
    },
    {
      "cell_type": "code",
      "metadata": {
        "id": "UzAvBg6qrEAe",
        "outputId": "621deb26-ab95-4d64-b4b3-63d0b52b0228",
        "colab": {
          "base_uri": "https://localhost:8080/",
          "height": 219
        }
      },
      "source": [
        "score_model(classifier, testData, testLabels)"
      ],
      "execution_count": null,
      "outputs": [
        {
          "output_type": "stream",
          "text": [
            "Predictions: [1 1 1 ... 1 1 1]\n",
            "              precision    recall  f1-score   support\n",
            "\n",
            "           0       0.97      0.97      0.97       314\n",
            "           1       1.00      0.99      1.00      1761\n",
            "\n",
            "    accuracy                           0.99      2075\n",
            "   macro avg       0.98      0.98      0.98      2075\n",
            "weighted avg       0.99      0.99      0.99      2075\n",
            "\n",
            "F1-score: 0.9840723995793578\n"
          ],
          "name": "stdout"
        }
      ]
    },
    {
      "cell_type": "markdown",
      "metadata": {
        "id": "RUTa0s7Yswd-"
      },
      "source": [
        "#Test"
      ]
    },
    {
      "cell_type": "code",
      "metadata": {
        "id": "FeadHOUq8dvl"
      },
      "source": [
        "probs = classifier.predict_proba(test_data)\n",
        "real_scores = probs[:, 0]"
      ],
      "execution_count": null,
      "outputs": []
    },
    {
      "cell_type": "code",
      "metadata": {
        "id": "i8ghEdgK1JPW"
      },
      "source": [
        "with open('results.txt', 'w') as f:\n",
        "    for filepath, score in zip(test_filelist, scores):\n",
        "        f.write('{},{}\\n'.format(filepath.split('/')[-1], score))"
      ],
      "execution_count": null,
      "outputs": []
    }
  ]
}