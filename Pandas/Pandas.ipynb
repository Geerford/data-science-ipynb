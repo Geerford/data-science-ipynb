{
  "nbformat": 4,
  "nbformat_minor": 0,
  "metadata": {
    "colab": {
      "name": "Pandas",
      "provenance": [],
      "collapsed_sections": [],
      "toc_visible": true,
      "authorship_tag": "ABX9TyNy4GBwi/yMA4Hz2peuk44f",
      "include_colab_link": true
    },
    "kernelspec": {
      "name": "python3",
      "display_name": "Python 3"
    }
  },
  "cells": [
    {
      "cell_type": "markdown",
      "metadata": {
        "id": "view-in-github",
        "colab_type": "text"
      },
      "source": [
        "<a href=\"https://colab.research.google.com/github/Geerford/data-science-ipynb/blob/master/Pandas/Pandas.ipynb\" target=\"_parent\"><img src=\"https://colab.research.google.com/assets/colab-badge.svg\" alt=\"Open In Colab\"/></a>"
      ]
    },
    {
      "cell_type": "markdown",
      "metadata": {
        "id": "YZ_aY_kQMYyD",
        "colab_type": "text"
      },
      "source": [
        "Подключение библиотек"
      ]
    },
    {
      "cell_type": "code",
      "metadata": {
        "id": "6XNMihOvMhMs",
        "colab_type": "code",
        "colab": {
          "base_uri": "https://localhost:8080/",
          "height": 54
        },
        "outputId": "975e014e-f7f8-4b8b-95cc-11749cdbd6c4"
      },
      "source": [
        "import pandas as pd\n",
        "import numpy as np\n",
        "import matplotlib.pyplot as plt\n",
        "import seaborn as sns"
      ],
      "execution_count": 2,
      "outputs": [
        {
          "output_type": "stream",
          "text": [
            "/usr/local/lib/python3.6/dist-packages/statsmodels/tools/_testing.py:19: FutureWarning: pandas.util.testing is deprecated. Use the functions in the public API at pandas.testing instead.\n",
            "  import pandas.util.testing as tm\n"
          ],
          "name": "stderr"
        }
      ]
    },
    {
      "cell_type": "markdown",
      "metadata": {
        "id": "Pqbr9peqgrRT",
        "colab_type": "text"
      },
      "source": [
        "Подключение gdrive"
      ]
    },
    {
      "cell_type": "code",
      "metadata": {
        "id": "dioWYv-iQD2R",
        "colab_type": "code",
        "colab": {
          "base_uri": "https://localhost:8080/",
          "height": 35
        },
        "outputId": "9c5f3c1a-69a8-43bb-fe49-1b0ce4d24052"
      },
      "source": [
        "from google.colab import drive\n",
        "drive.mount('/content/drive')"
      ],
      "execution_count": 3,
      "outputs": [
        {
          "output_type": "stream",
          "text": [
            "Mounted at /content/drive\n"
          ],
          "name": "stdout"
        }
      ]
    },
    {
      "cell_type": "code",
      "metadata": {
        "id": "phA61UOcRZr6",
        "colab_type": "code",
        "colab": {
          "base_uri": "https://localhost:8080/",
          "height": 35
        },
        "outputId": "e3d5ebf4-fd85-43f7-8ded-b5c4490f5b6c"
      },
      "source": [
        "%cd '/content/drive/My Drive/Colab Notebooks/Data Science/Pandas'"
      ],
      "execution_count": 4,
      "outputs": [
        {
          "output_type": "stream",
          "text": [
            "/content/drive/My Drive/Colab Notebooks/Data Science/Pandas\n"
          ],
          "name": "stdout"
        }
      ]
    },
    {
      "cell_type": "markdown",
      "metadata": {
        "id": "_Rf067Gvpka1",
        "colab_type": "text"
      },
      "source": [
        "#Base"
      ]
    },
    {
      "cell_type": "markdown",
      "metadata": {
        "id": "KG6HTkfmppip",
        "colab_type": "text"
      },
      "source": [
        "Создание датафрейма"
      ]
    },
    {
      "cell_type": "code",
      "metadata": {
        "id": "GpMn0M2YpkC7",
        "colab_type": "code",
        "colab": {
          "base_uri": "https://localhost:8080/",
          "height": 173
        },
        "outputId": "7065da52-2373-4c90-a884-98e97aa03f7b"
      },
      "source": [
        "my_data = pd.DataFrame({\n",
        "    'type': ['A', 'A', 'B', 'B'],\n",
        "    'value': [10, 14, 12, 23]\n",
        "})\n",
        "my_data"
      ],
      "execution_count": null,
      "outputs": [
        {
          "output_type": "execute_result",
          "data": {
            "text/html": [
              "<div>\n",
              "<style scoped>\n",
              "    .dataframe tbody tr th:only-of-type {\n",
              "        vertical-align: middle;\n",
              "    }\n",
              "\n",
              "    .dataframe tbody tr th {\n",
              "        vertical-align: top;\n",
              "    }\n",
              "\n",
              "    .dataframe thead th {\n",
              "        text-align: right;\n",
              "    }\n",
              "</style>\n",
              "<table border=\"1\" class=\"dataframe\">\n",
              "  <thead>\n",
              "    <tr style=\"text-align: right;\">\n",
              "      <th></th>\n",
              "      <th>type</th>\n",
              "      <th>value</th>\n",
              "    </tr>\n",
              "  </thead>\n",
              "  <tbody>\n",
              "    <tr>\n",
              "      <th>0</th>\n",
              "      <td>A</td>\n",
              "      <td>10</td>\n",
              "    </tr>\n",
              "    <tr>\n",
              "      <th>1</th>\n",
              "      <td>A</td>\n",
              "      <td>14</td>\n",
              "    </tr>\n",
              "    <tr>\n",
              "      <th>2</th>\n",
              "      <td>B</td>\n",
              "      <td>12</td>\n",
              "    </tr>\n",
              "    <tr>\n",
              "      <th>3</th>\n",
              "      <td>B</td>\n",
              "      <td>23</td>\n",
              "    </tr>\n",
              "  </tbody>\n",
              "</table>\n",
              "</div>"
            ],
            "text/plain": [
              "  type  value\n",
              "0    A     10\n",
              "1    A     14\n",
              "2    B     12\n",
              "3    B     23"
            ]
          },
          "metadata": {
            "tags": []
          },
          "execution_count": 4
        }
      ]
    },
    {
      "cell_type": "markdown",
      "metadata": {
        "id": "XosgqQDqqAAk",
        "colab_type": "text"
      },
      "source": [
        "Тестовый датасет"
      ]
    },
    {
      "cell_type": "code",
      "metadata": {
        "id": "eeXBUVQiqAPS",
        "colab_type": "code",
        "colab": {}
      },
      "source": [
        "df = pd.read_csv('stat.csv')"
      ],
      "execution_count": null,
      "outputs": []
    },
    {
      "cell_type": "markdown",
      "metadata": {
        "id": "ebSEhsuWqXOR",
        "colab_type": "text"
      },
      "source": [
        "Первые 10 строк и только 1 и 3 колонку."
      ]
    },
    {
      "cell_type": "code",
      "metadata": {
        "id": "xkMsRDpBqW2n",
        "colab_type": "code",
        "colab": {
          "base_uri": "https://localhost:8080/",
          "height": 359
        },
        "outputId": "db40cf73-542e-4d0b-ad63-b39a160e1b94"
      },
      "source": [
        "df.iloc[:10, [0, 2]]"
      ],
      "execution_count": null,
      "outputs": [
        {
          "output_type": "execute_result",
          "data": {
            "text/html": [
              "<div>\n",
              "<style scoped>\n",
              "    .dataframe tbody tr th:only-of-type {\n",
              "        vertical-align: middle;\n",
              "    }\n",
              "\n",
              "    .dataframe tbody tr th {\n",
              "        vertical-align: top;\n",
              "    }\n",
              "\n",
              "    .dataframe thead th {\n",
              "        text-align: right;\n",
              "    }\n",
              "</style>\n",
              "<table border=\"1\" class=\"dataframe\">\n",
              "  <thead>\n",
              "    <tr style=\"text-align: right;\">\n",
              "      <th></th>\n",
              "      <th>V1</th>\n",
              "      <th>V3</th>\n",
              "    </tr>\n",
              "  </thead>\n",
              "  <tbody>\n",
              "    <tr>\n",
              "      <th>0</th>\n",
              "      <td>2</td>\n",
              "      <td>B</td>\n",
              "    </tr>\n",
              "    <tr>\n",
              "      <th>1</th>\n",
              "      <td>-1</td>\n",
              "      <td>B</td>\n",
              "    </tr>\n",
              "    <tr>\n",
              "      <th>2</th>\n",
              "      <td>0</td>\n",
              "      <td>A</td>\n",
              "    </tr>\n",
              "    <tr>\n",
              "      <th>3</th>\n",
              "      <td>2</td>\n",
              "      <td>A</td>\n",
              "    </tr>\n",
              "    <tr>\n",
              "      <th>4</th>\n",
              "      <td>0</td>\n",
              "      <td>B</td>\n",
              "    </tr>\n",
              "    <tr>\n",
              "      <th>5</th>\n",
              "      <td>2</td>\n",
              "      <td>A</td>\n",
              "    </tr>\n",
              "    <tr>\n",
              "      <th>6</th>\n",
              "      <td>0</td>\n",
              "      <td>A</td>\n",
              "    </tr>\n",
              "    <tr>\n",
              "      <th>7</th>\n",
              "      <td>1</td>\n",
              "      <td>A</td>\n",
              "    </tr>\n",
              "    <tr>\n",
              "      <th>8</th>\n",
              "      <td>0</td>\n",
              "      <td>B</td>\n",
              "    </tr>\n",
              "    <tr>\n",
              "      <th>9</th>\n",
              "      <td>-1</td>\n",
              "      <td>A</td>\n",
              "    </tr>\n",
              "  </tbody>\n",
              "</table>\n",
              "</div>"
            ],
            "text/plain": [
              "   V1 V3\n",
              "0   2  B\n",
              "1  -1  B\n",
              "2   0  A\n",
              "3   2  A\n",
              "4   0  B\n",
              "5   2  A\n",
              "6   0  A\n",
              "7   1  A\n",
              "8   0  B\n",
              "9  -1  A"
            ]
          },
          "metadata": {
            "tags": []
          },
          "execution_count": 6
        }
      ]
    },
    {
      "cell_type": "markdown",
      "metadata": {
        "id": "RJWmT3l5qjbt",
        "colab_type": "text"
      },
      "source": [
        "Все строки кроме 1 и 5 и только 2 и 4 колонку."
      ]
    },
    {
      "cell_type": "code",
      "metadata": {
        "id": "YFIwFMKtqjsh",
        "colab_type": "code",
        "colab": {
          "base_uri": "https://localhost:8080/",
          "height": 419
        },
        "outputId": "bdec74b3-f366-48ca-d2ef-eaf8f3f1dedc"
      },
      "source": [
        "df.drop([0, 4]).iloc[:, [1, 3]]"
      ],
      "execution_count": null,
      "outputs": [
        {
          "output_type": "execute_result",
          "data": {
            "text/html": [
              "<div>\n",
              "<style scoped>\n",
              "    .dataframe tbody tr th:only-of-type {\n",
              "        vertical-align: middle;\n",
              "    }\n",
              "\n",
              "    .dataframe tbody tr th {\n",
              "        vertical-align: top;\n",
              "    }\n",
              "\n",
              "    .dataframe thead th {\n",
              "        text-align: right;\n",
              "    }\n",
              "</style>\n",
              "<table border=\"1\" class=\"dataframe\">\n",
              "  <thead>\n",
              "    <tr style=\"text-align: right;\">\n",
              "      <th></th>\n",
              "      <th>V2</th>\n",
              "      <th>V4</th>\n",
              "    </tr>\n",
              "  </thead>\n",
              "  <tbody>\n",
              "    <tr>\n",
              "      <th>1</th>\n",
              "      <td>7.0</td>\n",
              "      <td>1.0</td>\n",
              "    </tr>\n",
              "    <tr>\n",
              "      <th>2</th>\n",
              "      <td>11.0</td>\n",
              "      <td>0.0</td>\n",
              "    </tr>\n",
              "    <tr>\n",
              "      <th>3</th>\n",
              "      <td>11.0</td>\n",
              "      <td>2.0</td>\n",
              "    </tr>\n",
              "    <tr>\n",
              "      <th>5</th>\n",
              "      <td>11.0</td>\n",
              "      <td>0.0</td>\n",
              "    </tr>\n",
              "    <tr>\n",
              "      <th>6</th>\n",
              "      <td>9.0</td>\n",
              "      <td>2.0</td>\n",
              "    </tr>\n",
              "    <tr>\n",
              "      <th>...</th>\n",
              "      <td>...</td>\n",
              "      <td>...</td>\n",
              "    </tr>\n",
              "    <tr>\n",
              "      <th>495</th>\n",
              "      <td>8.0</td>\n",
              "      <td>-1.0</td>\n",
              "    </tr>\n",
              "    <tr>\n",
              "      <th>496</th>\n",
              "      <td>8.0</td>\n",
              "      <td>1.0</td>\n",
              "    </tr>\n",
              "    <tr>\n",
              "      <th>497</th>\n",
              "      <td>11.0</td>\n",
              "      <td>2.0</td>\n",
              "    </tr>\n",
              "    <tr>\n",
              "      <th>498</th>\n",
              "      <td>11.0</td>\n",
              "      <td>2.0</td>\n",
              "    </tr>\n",
              "    <tr>\n",
              "      <th>499</th>\n",
              "      <td>8.0</td>\n",
              "      <td>1.0</td>\n",
              "    </tr>\n",
              "  </tbody>\n",
              "</table>\n",
              "<p>498 rows × 2 columns</p>\n",
              "</div>"
            ],
            "text/plain": [
              "       V2   V4\n",
              "1     7.0  1.0\n",
              "2    11.0  0.0\n",
              "3    11.0  2.0\n",
              "5    11.0  0.0\n",
              "6     9.0  2.0\n",
              "..    ...  ...\n",
              "495   8.0 -1.0\n",
              "496   8.0  1.0\n",
              "497  11.0  2.0\n",
              "498  11.0  2.0\n",
              "499   8.0  1.0\n",
              "\n",
              "[498 rows x 2 columns]"
            ]
          },
          "metadata": {
            "tags": []
          },
          "execution_count": 7
        }
      ]
    },
    {
      "cell_type": "markdown",
      "metadata": {
        "id": "EipH3VnBrAz2",
        "colab_type": "text"
      },
      "source": [
        "Наблюдения, у которых значения переменной V1  строго больше 0, и значение переменной V3  равняется 'A'\n",
        "\n"
      ]
    },
    {
      "cell_type": "code",
      "metadata": {
        "id": "6w-9UOf4rBCV",
        "colab_type": "code",
        "colab": {
          "base_uri": "https://localhost:8080/",
          "height": 419
        },
        "outputId": "07e7dfbe-aeff-451d-fb51-2cf3c35acbee"
      },
      "source": [
        "df.query(\"V1 > 0 & V3 == 'A'\")"
      ],
      "execution_count": null,
      "outputs": [
        {
          "output_type": "execute_result",
          "data": {
            "text/html": [
              "<div>\n",
              "<style scoped>\n",
              "    .dataframe tbody tr th:only-of-type {\n",
              "        vertical-align: middle;\n",
              "    }\n",
              "\n",
              "    .dataframe tbody tr th {\n",
              "        vertical-align: top;\n",
              "    }\n",
              "\n",
              "    .dataframe thead th {\n",
              "        text-align: right;\n",
              "    }\n",
              "</style>\n",
              "<table border=\"1\" class=\"dataframe\">\n",
              "  <thead>\n",
              "    <tr style=\"text-align: right;\">\n",
              "      <th></th>\n",
              "      <th>V1</th>\n",
              "      <th>V2</th>\n",
              "      <th>V3</th>\n",
              "      <th>V4</th>\n",
              "    </tr>\n",
              "  </thead>\n",
              "  <tbody>\n",
              "    <tr>\n",
              "      <th>3</th>\n",
              "      <td>2</td>\n",
              "      <td>11.0</td>\n",
              "      <td>A</td>\n",
              "      <td>2.0</td>\n",
              "    </tr>\n",
              "    <tr>\n",
              "      <th>5</th>\n",
              "      <td>2</td>\n",
              "      <td>11.0</td>\n",
              "      <td>A</td>\n",
              "      <td>0.0</td>\n",
              "    </tr>\n",
              "    <tr>\n",
              "      <th>7</th>\n",
              "      <td>1</td>\n",
              "      <td>9.0</td>\n",
              "      <td>A</td>\n",
              "      <td>1.0</td>\n",
              "    </tr>\n",
              "    <tr>\n",
              "      <th>10</th>\n",
              "      <td>1</td>\n",
              "      <td>10.0</td>\n",
              "      <td>A</td>\n",
              "      <td>1.0</td>\n",
              "    </tr>\n",
              "    <tr>\n",
              "      <th>13</th>\n",
              "      <td>1</td>\n",
              "      <td>12.0</td>\n",
              "      <td>A</td>\n",
              "      <td>3.0</td>\n",
              "    </tr>\n",
              "    <tr>\n",
              "      <th>...</th>\n",
              "      <td>...</td>\n",
              "      <td>...</td>\n",
              "      <td>...</td>\n",
              "      <td>...</td>\n",
              "    </tr>\n",
              "    <tr>\n",
              "      <th>491</th>\n",
              "      <td>4</td>\n",
              "      <td>7.0</td>\n",
              "      <td>A</td>\n",
              "      <td>2.0</td>\n",
              "    </tr>\n",
              "    <tr>\n",
              "      <th>494</th>\n",
              "      <td>1</td>\n",
              "      <td>11.0</td>\n",
              "      <td>A</td>\n",
              "      <td>1.0</td>\n",
              "    </tr>\n",
              "    <tr>\n",
              "      <th>495</th>\n",
              "      <td>1</td>\n",
              "      <td>8.0</td>\n",
              "      <td>A</td>\n",
              "      <td>-1.0</td>\n",
              "    </tr>\n",
              "    <tr>\n",
              "      <th>496</th>\n",
              "      <td>3</td>\n",
              "      <td>8.0</td>\n",
              "      <td>A</td>\n",
              "      <td>1.0</td>\n",
              "    </tr>\n",
              "    <tr>\n",
              "      <th>498</th>\n",
              "      <td>1</td>\n",
              "      <td>11.0</td>\n",
              "      <td>A</td>\n",
              "      <td>2.0</td>\n",
              "    </tr>\n",
              "  </tbody>\n",
              "</table>\n",
              "<p>88 rows × 4 columns</p>\n",
              "</div>"
            ],
            "text/plain": [
              "     V1    V2 V3   V4\n",
              "3     2  11.0  A  2.0\n",
              "5     2  11.0  A  0.0\n",
              "7     1   9.0  A  1.0\n",
              "10    1  10.0  A  1.0\n",
              "13    1  12.0  A  3.0\n",
              "..   ..   ... ..  ...\n",
              "491   4   7.0  A  2.0\n",
              "494   1  11.0  A  1.0\n",
              "495   1   8.0  A -1.0\n",
              "496   3   8.0  A  1.0\n",
              "498   1  11.0  A  2.0\n",
              "\n",
              "[88 rows x 4 columns]"
            ]
          },
          "metadata": {
            "tags": []
          },
          "execution_count": 8
        }
      ]
    },
    {
      "cell_type": "markdown",
      "metadata": {
        "id": "VpIGLzaprDK-",
        "colab_type": "text"
      },
      "source": [
        "Наблюдения, у которых значения переменной V2  не равняются 10, или значения переменной V4 больше или равно 1"
      ]
    },
    {
      "cell_type": "code",
      "metadata": {
        "id": "Y40P0ACgrDy8",
        "colab_type": "code",
        "colab": {
          "base_uri": "https://localhost:8080/",
          "height": 419
        },
        "outputId": "457ce5f4-c627-465a-ac77-2e8a45916e56"
      },
      "source": [
        "df.query(\"V2 != 10 | V4 >= 1\")"
      ],
      "execution_count": null,
      "outputs": [
        {
          "output_type": "execute_result",
          "data": {
            "text/html": [
              "<div>\n",
              "<style scoped>\n",
              "    .dataframe tbody tr th:only-of-type {\n",
              "        vertical-align: middle;\n",
              "    }\n",
              "\n",
              "    .dataframe tbody tr th {\n",
              "        vertical-align: top;\n",
              "    }\n",
              "\n",
              "    .dataframe thead th {\n",
              "        text-align: right;\n",
              "    }\n",
              "</style>\n",
              "<table border=\"1\" class=\"dataframe\">\n",
              "  <thead>\n",
              "    <tr style=\"text-align: right;\">\n",
              "      <th></th>\n",
              "      <th>V1</th>\n",
              "      <th>V2</th>\n",
              "      <th>V3</th>\n",
              "      <th>V4</th>\n",
              "    </tr>\n",
              "  </thead>\n",
              "  <tbody>\n",
              "    <tr>\n",
              "      <th>0</th>\n",
              "      <td>2</td>\n",
              "      <td>13.0</td>\n",
              "      <td>B</td>\n",
              "      <td>1.0</td>\n",
              "    </tr>\n",
              "    <tr>\n",
              "      <th>1</th>\n",
              "      <td>-1</td>\n",
              "      <td>7.0</td>\n",
              "      <td>B</td>\n",
              "      <td>1.0</td>\n",
              "    </tr>\n",
              "    <tr>\n",
              "      <th>2</th>\n",
              "      <td>0</td>\n",
              "      <td>11.0</td>\n",
              "      <td>A</td>\n",
              "      <td>0.0</td>\n",
              "    </tr>\n",
              "    <tr>\n",
              "      <th>3</th>\n",
              "      <td>2</td>\n",
              "      <td>11.0</td>\n",
              "      <td>A</td>\n",
              "      <td>2.0</td>\n",
              "    </tr>\n",
              "    <tr>\n",
              "      <th>5</th>\n",
              "      <td>2</td>\n",
              "      <td>11.0</td>\n",
              "      <td>A</td>\n",
              "      <td>0.0</td>\n",
              "    </tr>\n",
              "    <tr>\n",
              "      <th>...</th>\n",
              "      <td>...</td>\n",
              "      <td>...</td>\n",
              "      <td>...</td>\n",
              "      <td>...</td>\n",
              "    </tr>\n",
              "    <tr>\n",
              "      <th>495</th>\n",
              "      <td>1</td>\n",
              "      <td>8.0</td>\n",
              "      <td>A</td>\n",
              "      <td>-1.0</td>\n",
              "    </tr>\n",
              "    <tr>\n",
              "      <th>496</th>\n",
              "      <td>3</td>\n",
              "      <td>8.0</td>\n",
              "      <td>A</td>\n",
              "      <td>1.0</td>\n",
              "    </tr>\n",
              "    <tr>\n",
              "      <th>497</th>\n",
              "      <td>-1</td>\n",
              "      <td>11.0</td>\n",
              "      <td>B</td>\n",
              "      <td>2.0</td>\n",
              "    </tr>\n",
              "    <tr>\n",
              "      <th>498</th>\n",
              "      <td>1</td>\n",
              "      <td>11.0</td>\n",
              "      <td>A</td>\n",
              "      <td>2.0</td>\n",
              "    </tr>\n",
              "    <tr>\n",
              "      <th>499</th>\n",
              "      <td>0</td>\n",
              "      <td>8.0</td>\n",
              "      <td>B</td>\n",
              "      <td>1.0</td>\n",
              "    </tr>\n",
              "  </tbody>\n",
              "</table>\n",
              "<p>447 rows × 4 columns</p>\n",
              "</div>"
            ],
            "text/plain": [
              "     V1    V2 V3   V4\n",
              "0     2  13.0  B  1.0\n",
              "1    -1   7.0  B  1.0\n",
              "2     0  11.0  A  0.0\n",
              "3     2  11.0  A  2.0\n",
              "5     2  11.0  A  0.0\n",
              "..   ..   ... ..  ...\n",
              "495   1   8.0  A -1.0\n",
              "496   3   8.0  A  1.0\n",
              "497  -1  11.0  B  2.0\n",
              "498   1  11.0  A  2.0\n",
              "499   0   8.0  B  1.0\n",
              "\n",
              "[447 rows x 4 columns]"
            ]
          },
          "metadata": {
            "tags": []
          },
          "execution_count": 9
        }
      ]
    },
    {
      "cell_type": "markdown",
      "metadata": {
        "id": "JhzasJAmrenK",
        "colab_type": "text"
      },
      "source": [
        "Добавление V5 - сумма V1 и V4.\n",
        "\n",
        "Добавление V6 - логарифм V2"
      ]
    },
    {
      "cell_type": "code",
      "metadata": {
        "id": "N0VVxVuUrfAo",
        "colab_type": "code",
        "colab": {
          "base_uri": "https://localhost:8080/",
          "height": 204
        },
        "outputId": "56516917-f812-44c4-8f6b-2c106d8bee8a"
      },
      "source": [
        "df['V5'] = df['V1'] + df['V4']\n",
        "df['V6'] = np.log(df['V2'])\n",
        "df.head()"
      ],
      "execution_count": null,
      "outputs": [
        {
          "output_type": "execute_result",
          "data": {
            "text/html": [
              "<div>\n",
              "<style scoped>\n",
              "    .dataframe tbody tr th:only-of-type {\n",
              "        vertical-align: middle;\n",
              "    }\n",
              "\n",
              "    .dataframe tbody tr th {\n",
              "        vertical-align: top;\n",
              "    }\n",
              "\n",
              "    .dataframe thead th {\n",
              "        text-align: right;\n",
              "    }\n",
              "</style>\n",
              "<table border=\"1\" class=\"dataframe\">\n",
              "  <thead>\n",
              "    <tr style=\"text-align: right;\">\n",
              "      <th></th>\n",
              "      <th>V1</th>\n",
              "      <th>V2</th>\n",
              "      <th>V3</th>\n",
              "      <th>V4</th>\n",
              "      <th>V5</th>\n",
              "      <th>V6</th>\n",
              "    </tr>\n",
              "  </thead>\n",
              "  <tbody>\n",
              "    <tr>\n",
              "      <th>0</th>\n",
              "      <td>2</td>\n",
              "      <td>13.0</td>\n",
              "      <td>B</td>\n",
              "      <td>1.0</td>\n",
              "      <td>3.0</td>\n",
              "      <td>2.564949</td>\n",
              "    </tr>\n",
              "    <tr>\n",
              "      <th>1</th>\n",
              "      <td>-1</td>\n",
              "      <td>7.0</td>\n",
              "      <td>B</td>\n",
              "      <td>1.0</td>\n",
              "      <td>0.0</td>\n",
              "      <td>1.945910</td>\n",
              "    </tr>\n",
              "    <tr>\n",
              "      <th>2</th>\n",
              "      <td>0</td>\n",
              "      <td>11.0</td>\n",
              "      <td>A</td>\n",
              "      <td>0.0</td>\n",
              "      <td>0.0</td>\n",
              "      <td>2.397895</td>\n",
              "    </tr>\n",
              "    <tr>\n",
              "      <th>3</th>\n",
              "      <td>2</td>\n",
              "      <td>11.0</td>\n",
              "      <td>A</td>\n",
              "      <td>2.0</td>\n",
              "      <td>4.0</td>\n",
              "      <td>2.397895</td>\n",
              "    </tr>\n",
              "    <tr>\n",
              "      <th>4</th>\n",
              "      <td>0</td>\n",
              "      <td>10.0</td>\n",
              "      <td>B</td>\n",
              "      <td>-1.0</td>\n",
              "      <td>-1.0</td>\n",
              "      <td>2.302585</td>\n",
              "    </tr>\n",
              "  </tbody>\n",
              "</table>\n",
              "</div>"
            ],
            "text/plain": [
              "   V1    V2 V3   V4   V5        V6\n",
              "0   2  13.0  B  1.0  3.0  2.564949\n",
              "1  -1   7.0  B  1.0  0.0  1.945910\n",
              "2   0  11.0  A  0.0  0.0  2.397895\n",
              "3   2  11.0  A  2.0  4.0  2.397895\n",
              "4   0  10.0  B -1.0 -1.0  2.302585"
            ]
          },
          "metadata": {
            "tags": []
          },
          "execution_count": 10
        }
      ]
    },
    {
      "cell_type": "markdown",
      "metadata": {
        "id": "nx7VqRhzr9Sp",
        "colab_type": "text"
      },
      "source": [
        "Пропущенные значения → 0"
      ]
    },
    {
      "cell_type": "code",
      "metadata": {
        "id": "FykvSZXRr9iO",
        "colab_type": "code",
        "colab": {}
      },
      "source": [
        "df['V1'] = [i if not np.isnan(i) else 0 for i in df['V1']]"
      ],
      "execution_count": null,
      "outputs": []
    },
    {
      "cell_type": "markdown",
      "metadata": {
        "id": "PENr4X8VsWZr",
        "colab_type": "text"
      },
      "source": [
        "Отрицательные значения → медианное значение переменной V4 (без учета отрицательных значений)"
      ]
    },
    {
      "cell_type": "code",
      "metadata": {
        "id": "ReIRPlD-sNbr",
        "colab_type": "code",
        "colab": {}
      },
      "source": [
        "df['V4'] = [i if i > 0 else pd.DataFrame([j for j in df['V4'] if j >= 0]).median()[0] for i in df['V4']]"
      ],
      "execution_count": null,
      "outputs": []
    },
    {
      "cell_type": "markdown",
      "metadata": {
        "id": "0gAiM2lAtfUq",
        "colab_type": "text"
      },
      "source": [
        "Группировка и агрегация"
      ]
    },
    {
      "cell_type": "code",
      "metadata": {
        "id": "wm-MoTDZtfn_",
        "colab_type": "code",
        "colab": {
          "base_uri": "https://localhost:8080/",
          "height": 111
        },
        "outputId": "0a3bb465-bea5-42a5-a8a2-7250f7e4fdb4"
      },
      "source": [
        "df.groupby('V3', as_index=False).agg({'V1': 'mean'}) \\\n",
        "    .rename(columns={'V1': 'mean'})"
      ],
      "execution_count": null,
      "outputs": [
        {
          "output_type": "execute_result",
          "data": {
            "text/html": [
              "<div>\n",
              "<style scoped>\n",
              "    .dataframe tbody tr th:only-of-type {\n",
              "        vertical-align: middle;\n",
              "    }\n",
              "\n",
              "    .dataframe tbody tr th {\n",
              "        vertical-align: top;\n",
              "    }\n",
              "\n",
              "    .dataframe thead th {\n",
              "        text-align: right;\n",
              "    }\n",
              "</style>\n",
              "<table border=\"1\" class=\"dataframe\">\n",
              "  <thead>\n",
              "    <tr style=\"text-align: right;\">\n",
              "      <th></th>\n",
              "      <th>V3</th>\n",
              "      <th>mean</th>\n",
              "    </tr>\n",
              "  </thead>\n",
              "  <tbody>\n",
              "    <tr>\n",
              "      <th>0</th>\n",
              "      <td>A</td>\n",
              "      <td>0.164659</td>\n",
              "    </tr>\n",
              "    <tr>\n",
              "      <th>1</th>\n",
              "      <td>B</td>\n",
              "      <td>0.027888</td>\n",
              "    </tr>\n",
              "  </tbody>\n",
              "</table>\n",
              "</div>"
            ],
            "text/plain": [
              "  V3      mean\n",
              "0  A  0.164659\n",
              "1  B  0.027888"
            ]
          },
          "metadata": {
            "tags": []
          },
          "execution_count": 13
        }
      ]
    },
    {
      "cell_type": "markdown",
      "metadata": {
        "id": "wiPchkifgLSH",
        "colab_type": "text"
      },
      "source": [
        "#Фильмы"
      ]
    },
    {
      "cell_type": "code",
      "metadata": {
        "id": "72jxGb5ggLg6",
        "colab_type": "code",
        "colab": {
          "base_uri": "https://localhost:8080/",
          "height": 204
        },
        "outputId": "e0425119-a8b1-436a-9886-0cd66d129592"
      },
      "source": [
        "movies = pd.read_csv('movies.csv')[['movie_title', 'budget', 'duration']]\n",
        "movies.head()"
      ],
      "execution_count": null,
      "outputs": [
        {
          "output_type": "execute_result",
          "data": {
            "text/html": [
              "<div>\n",
              "<style scoped>\n",
              "    .dataframe tbody tr th:only-of-type {\n",
              "        vertical-align: middle;\n",
              "    }\n",
              "\n",
              "    .dataframe tbody tr th {\n",
              "        vertical-align: top;\n",
              "    }\n",
              "\n",
              "    .dataframe thead th {\n",
              "        text-align: right;\n",
              "    }\n",
              "</style>\n",
              "<table border=\"1\" class=\"dataframe\">\n",
              "  <thead>\n",
              "    <tr style=\"text-align: right;\">\n",
              "      <th></th>\n",
              "      <th>movie_title</th>\n",
              "      <th>budget</th>\n",
              "      <th>duration</th>\n",
              "    </tr>\n",
              "  </thead>\n",
              "  <tbody>\n",
              "    <tr>\n",
              "      <th>0</th>\n",
              "      <td>Avatar</td>\n",
              "      <td>237000000.0</td>\n",
              "      <td>178.0</td>\n",
              "    </tr>\n",
              "    <tr>\n",
              "      <th>1</th>\n",
              "      <td>Pirates of the Caribbean: At World's End</td>\n",
              "      <td>300000000.0</td>\n",
              "      <td>169.0</td>\n",
              "    </tr>\n",
              "    <tr>\n",
              "      <th>2</th>\n",
              "      <td>Spectre</td>\n",
              "      <td>245000000.0</td>\n",
              "      <td>148.0</td>\n",
              "    </tr>\n",
              "    <tr>\n",
              "      <th>3</th>\n",
              "      <td>The Dark Knight Rises</td>\n",
              "      <td>250000000.0</td>\n",
              "      <td>164.0</td>\n",
              "    </tr>\n",
              "    <tr>\n",
              "      <th>4</th>\n",
              "      <td>Star Wars: Episode VII - The Force Awakens    ...</td>\n",
              "      <td>NaN</td>\n",
              "      <td>NaN</td>\n",
              "    </tr>\n",
              "  </tbody>\n",
              "</table>\n",
              "</div>"
            ],
            "text/plain": [
              "                                         movie_title       budget  duration\n",
              "0                                            Avatar   237000000.0     178.0\n",
              "1          Pirates of the Caribbean: At World's End   300000000.0     169.0\n",
              "2                                           Spectre   245000000.0     148.0\n",
              "3                             The Dark Knight Rises   250000000.0     164.0\n",
              "4  Star Wars: Episode VII - The Force Awakens    ...          NaN       NaN"
            ]
          },
          "metadata": {
            "tags": []
          },
          "execution_count": 53
        }
      ]
    },
    {
      "cell_type": "markdown",
      "metadata": {
        "id": "D3cvUa51hD8t",
        "colab_type": "text"
      },
      "source": [
        "Применяет функцию к каждой ячейке"
      ]
    },
    {
      "cell_type": "code",
      "metadata": {
        "id": "URr8FfZahEPJ",
        "colab_type": "code",
        "colab": {
          "base_uri": "https://localhost:8080/",
          "height": 204
        },
        "outputId": "d7f3f9c1-2cdc-4be1-e85b-de92823f9549"
      },
      "source": [
        "movies[['budget', 'duration']] = movies[['budget', 'duration']].applymap(lambda x: x + 1)\n",
        "movies.head()"
      ],
      "execution_count": null,
      "outputs": [
        {
          "output_type": "execute_result",
          "data": {
            "text/html": [
              "<div>\n",
              "<style scoped>\n",
              "    .dataframe tbody tr th:only-of-type {\n",
              "        vertical-align: middle;\n",
              "    }\n",
              "\n",
              "    .dataframe tbody tr th {\n",
              "        vertical-align: top;\n",
              "    }\n",
              "\n",
              "    .dataframe thead th {\n",
              "        text-align: right;\n",
              "    }\n",
              "</style>\n",
              "<table border=\"1\" class=\"dataframe\">\n",
              "  <thead>\n",
              "    <tr style=\"text-align: right;\">\n",
              "      <th></th>\n",
              "      <th>movie_title</th>\n",
              "      <th>budget</th>\n",
              "      <th>duration</th>\n",
              "    </tr>\n",
              "  </thead>\n",
              "  <tbody>\n",
              "    <tr>\n",
              "      <th>0</th>\n",
              "      <td>Avatar</td>\n",
              "      <td>237000001.0</td>\n",
              "      <td>179.0</td>\n",
              "    </tr>\n",
              "    <tr>\n",
              "      <th>1</th>\n",
              "      <td>Pirates of the Caribbean: At World's End</td>\n",
              "      <td>300000001.0</td>\n",
              "      <td>170.0</td>\n",
              "    </tr>\n",
              "    <tr>\n",
              "      <th>2</th>\n",
              "      <td>Spectre</td>\n",
              "      <td>245000001.0</td>\n",
              "      <td>149.0</td>\n",
              "    </tr>\n",
              "    <tr>\n",
              "      <th>3</th>\n",
              "      <td>The Dark Knight Rises</td>\n",
              "      <td>250000001.0</td>\n",
              "      <td>165.0</td>\n",
              "    </tr>\n",
              "    <tr>\n",
              "      <th>4</th>\n",
              "      <td>Star Wars: Episode VII - The Force Awakens    ...</td>\n",
              "      <td>NaN</td>\n",
              "      <td>NaN</td>\n",
              "    </tr>\n",
              "  </tbody>\n",
              "</table>\n",
              "</div>"
            ],
            "text/plain": [
              "                                         movie_title       budget  duration\n",
              "0                                            Avatar   237000001.0     179.0\n",
              "1          Pirates of the Caribbean: At World's End   300000001.0     170.0\n",
              "2                                           Spectre   245000001.0     149.0\n",
              "3                             The Dark Knight Rises   250000001.0     165.0\n",
              "4  Star Wars: Episode VII - The Force Awakens    ...          NaN       NaN"
            ]
          },
          "metadata": {
            "tags": []
          },
          "execution_count": 49
        }
      ]
    },
    {
      "cell_type": "markdown",
      "metadata": {
        "id": "stP8rfD0lL2R",
        "colab_type": "text"
      },
      "source": [
        "Применяет функцию по колонкам (axis=0, default) или построчно (axis=1)"
      ]
    },
    {
      "cell_type": "code",
      "metadata": {
        "id": "5p_F1N05lMHe",
        "colab_type": "code",
        "colab": {
          "base_uri": "https://localhost:8080/",
          "height": 68
        },
        "outputId": "11eb4a67-a38e-4791-b286-5c84b2202656"
      },
      "source": [
        "movies[['budget', 'duration']].apply(np.mean, axis=0)"
      ],
      "execution_count": null,
      "outputs": [
        {
          "output_type": "execute_result",
          "data": {
            "text/plain": [
              "budget      3.975262e+07\n",
              "duration    1.082011e+02\n",
              "dtype: float64"
            ]
          },
          "metadata": {
            "tags": []
          },
          "execution_count": 50
        }
      ]
    },
    {
      "cell_type": "markdown",
      "metadata": {
        "id": "61Jr5i2gmC-Y",
        "colab_type": "text"
      },
      "source": [
        "Наиболее быстрый способ"
      ]
    },
    {
      "cell_type": "code",
      "metadata": {
        "id": "nUqDh79xl0Bx",
        "colab_type": "code",
        "colab": {
          "base_uri": "https://localhost:8080/",
          "height": 68
        },
        "outputId": "7ac77c0b-1738-4ce3-e028-16565aec7c91"
      },
      "source": [
        "movies.mean()"
      ],
      "execution_count": null,
      "outputs": [
        {
          "output_type": "execute_result",
          "data": {
            "text/plain": [
              "budget      3.975262e+07\n",
              "duration    1.072011e+02\n",
              "dtype: float64"
            ]
          },
          "metadata": {
            "tags": []
          },
          "execution_count": 56
        }
      ]
    },
    {
      "cell_type": "markdown",
      "metadata": {
        "id": "_W5icdKCAwCR",
        "colab_type": "text"
      },
      "source": [
        "#Успеваемость студентов"
      ]
    },
    {
      "cell_type": "code",
      "metadata": {
        "id": "gjrLNkIYSolo",
        "colab_type": "code",
        "colab": {
          "base_uri": "https://localhost:8080/",
          "height": 204
        },
        "outputId": "1a53cbd5-8495-4be0-c2df-5588a919837a"
      },
      "source": [
        "data = pd.read_csv('students_performance.csv')\n",
        "data.head()"
      ],
      "execution_count": null,
      "outputs": [
        {
          "output_type": "execute_result",
          "data": {
            "text/html": [
              "<div>\n",
              "<style scoped>\n",
              "    .dataframe tbody tr th:only-of-type {\n",
              "        vertical-align: middle;\n",
              "    }\n",
              "\n",
              "    .dataframe tbody tr th {\n",
              "        vertical-align: top;\n",
              "    }\n",
              "\n",
              "    .dataframe thead th {\n",
              "        text-align: right;\n",
              "    }\n",
              "</style>\n",
              "<table border=\"1\" class=\"dataframe\">\n",
              "  <thead>\n",
              "    <tr style=\"text-align: right;\">\n",
              "      <th></th>\n",
              "      <th>gender</th>\n",
              "      <th>race/ethnicity</th>\n",
              "      <th>parental level of education</th>\n",
              "      <th>lunch</th>\n",
              "      <th>test preparation course</th>\n",
              "      <th>math score</th>\n",
              "      <th>reading score</th>\n",
              "      <th>writing score</th>\n",
              "    </tr>\n",
              "  </thead>\n",
              "  <tbody>\n",
              "    <tr>\n",
              "      <th>0</th>\n",
              "      <td>female</td>\n",
              "      <td>group B</td>\n",
              "      <td>bachelor's degree</td>\n",
              "      <td>standard</td>\n",
              "      <td>none</td>\n",
              "      <td>72</td>\n",
              "      <td>72</td>\n",
              "      <td>74</td>\n",
              "    </tr>\n",
              "    <tr>\n",
              "      <th>1</th>\n",
              "      <td>female</td>\n",
              "      <td>group C</td>\n",
              "      <td>some college</td>\n",
              "      <td>standard</td>\n",
              "      <td>completed</td>\n",
              "      <td>69</td>\n",
              "      <td>90</td>\n",
              "      <td>88</td>\n",
              "    </tr>\n",
              "    <tr>\n",
              "      <th>2</th>\n",
              "      <td>female</td>\n",
              "      <td>group B</td>\n",
              "      <td>master's degree</td>\n",
              "      <td>standard</td>\n",
              "      <td>none</td>\n",
              "      <td>90</td>\n",
              "      <td>95</td>\n",
              "      <td>93</td>\n",
              "    </tr>\n",
              "    <tr>\n",
              "      <th>3</th>\n",
              "      <td>male</td>\n",
              "      <td>group A</td>\n",
              "      <td>associate's degree</td>\n",
              "      <td>free/reduced</td>\n",
              "      <td>none</td>\n",
              "      <td>47</td>\n",
              "      <td>57</td>\n",
              "      <td>44</td>\n",
              "    </tr>\n",
              "    <tr>\n",
              "      <th>4</th>\n",
              "      <td>male</td>\n",
              "      <td>group C</td>\n",
              "      <td>some college</td>\n",
              "      <td>standard</td>\n",
              "      <td>none</td>\n",
              "      <td>76</td>\n",
              "      <td>78</td>\n",
              "      <td>75</td>\n",
              "    </tr>\n",
              "  </tbody>\n",
              "</table>\n",
              "</div>"
            ],
            "text/plain": [
              "   gender race/ethnicity  ... reading score writing score\n",
              "0  female        group B  ...            72            74\n",
              "1  female        group C  ...            90            88\n",
              "2  female        group B  ...            95            93\n",
              "3    male        group A  ...            57            44\n",
              "4    male        group C  ...            78            75\n",
              "\n",
              "[5 rows x 8 columns]"
            ]
          },
          "metadata": {
            "tags": []
          },
          "execution_count": 15
        }
      ]
    },
    {
      "cell_type": "markdown",
      "metadata": {
        "id": "jMqkYfPx3aDl",
        "colab_type": "text"
      },
      "source": [
        "Доля учеников с бесплатными обедами"
      ]
    },
    {
      "cell_type": "code",
      "metadata": {
        "id": "-r53MeM5XwuV",
        "colab_type": "code",
        "colab": {
          "base_uri": "https://localhost:8080/",
          "height": 34
        },
        "outputId": "d7dfc52b-8ab8-424b-a126-ae1293dc73ff"
      },
      "source": [
        "data.loc[data.lunch == 'free/reduced', 'lunch'].count() / data.loc[:, 'lunch'].count()"
      ],
      "execution_count": null,
      "outputs": [
        {
          "output_type": "execute_result",
          "data": {
            "text/plain": [
              "0.355"
            ]
          },
          "metadata": {
            "tags": []
          },
          "execution_count": 16
        }
      ]
    },
    {
      "cell_type": "markdown",
      "metadata": {
        "id": "cy2GPZ1h3gf9",
        "colab_type": "text"
      },
      "source": [
        "Средняя успеваемость учеников с бесплатными обедами"
      ]
    },
    {
      "cell_type": "code",
      "metadata": {
        "id": "OQ3fjkNPX3Rf",
        "colab_type": "code",
        "colab": {
          "base_uri": "https://localhost:8080/",
          "height": 85
        },
        "outputId": "82341108-9b8c-4312-b994-f452bf25e51b"
      },
      "source": [
        "data.loc[data.lunch == 'free/reduced', [\"math score\", \"reading score\", \"writing score\"]].mean()"
      ],
      "execution_count": null,
      "outputs": [
        {
          "output_type": "execute_result",
          "data": {
            "text/plain": [
              "math score       58.921127\n",
              "reading score    64.653521\n",
              "writing score    63.022535\n",
              "dtype: float64"
            ]
          },
          "metadata": {
            "tags": []
          },
          "execution_count": 17
        }
      ]
    },
    {
      "cell_type": "markdown",
      "metadata": {
        "id": "Lu9MqqJu33LD",
        "colab_type": "text"
      },
      "source": [
        "Дисперсия успеваемости учеников с бесплатными обедами"
      ]
    },
    {
      "cell_type": "code",
      "metadata": {
        "id": "uEWy0SZyX4v6",
        "colab_type": "code",
        "colab": {
          "base_uri": "https://localhost:8080/",
          "height": 85
        },
        "outputId": "f6e2cf25-74fd-48b5-ffe4-d82fee3eb06e"
      },
      "source": [
        "data.loc[data.lunch != 'free/reduced', [\"math score\", \"reading score\", \"writing score\"]].var()"
      ],
      "execution_count": null,
      "outputs": [
        {
          "output_type": "execute_result",
          "data": {
            "text/plain": [
              "math score       186.418089\n",
              "reading score    191.285560\n",
              "writing score    205.620887\n",
              "dtype: float64"
            ]
          },
          "metadata": {
            "tags": []
          },
          "execution_count": 18
        }
      ]
    },
    {
      "cell_type": "markdown",
      "metadata": {
        "id": "_5Uqhrnw39Kg",
        "colab_type": "text"
      },
      "source": [
        "Логорифмирование столбца"
      ]
    },
    {
      "cell_type": "code",
      "metadata": {
        "id": "q4tsA5uQX71x",
        "colab_type": "code",
        "colab": {
          "base_uri": "https://localhost:8080/",
          "height": 221
        },
        "outputId": "22110815-70d7-442e-db2f-193b22ddd641"
      },
      "source": [
        "np.log(data['reading score'])"
      ],
      "execution_count": null,
      "outputs": [
        {
          "output_type": "execute_result",
          "data": {
            "text/plain": [
              "0      4.276666\n",
              "1      4.499810\n",
              "2      4.553877\n",
              "3      4.043051\n",
              "4      4.356709\n",
              "         ...   \n",
              "995    4.595120\n",
              "996    4.007333\n",
              "997    4.262680\n",
              "998    4.356709\n",
              "999    4.454347\n",
              "Name: reading score, Length: 1000, dtype: float64"
            ]
          },
          "metadata": {
            "tags": []
          },
          "execution_count": 19
        }
      ]
    },
    {
      "cell_type": "code",
      "metadata": {
        "id": "YgbRXx2S4BVK",
        "colab_type": "code",
        "colab": {
          "base_uri": "https://localhost:8080/",
          "height": 530
        },
        "outputId": "94ea036b-f400-48b4-eb21-0265a9609fc5"
      },
      "source": [
        "data['writing score'].hist()\n",
        "data.plot.hist()"
      ],
      "execution_count": null,
      "outputs": [
        {
          "output_type": "execute_result",
          "data": {
            "text/plain": [
              "<matplotlib.axes._subplots.AxesSubplot at 0x7f57b5625550>"
            ]
          },
          "metadata": {
            "tags": []
          },
          "execution_count": 20
        },
        {
          "output_type": "display_data",
          "data": {
            "image/png": "[encoded data removed]",
            "text/plain": [
              "<Figure size 432x288 with 1 Axes>"
            ]
          },
          "metadata": {
            "tags": [],
            "needs_background": "light"
          }
        },
        {
          "output_type": "display_data",
          "data": {
            "image/png": "[encoded data removed]",
            "text/plain": [
              "<Figure size 432x288 with 1 Axes>"
            ]
          },
          "metadata": {
            "tags": [],
            "needs_background": "light"
          }
        }
      ]
    },
    {
      "cell_type": "code",
      "metadata": {
        "id": "U-nt_ifO_4Hh",
        "colab_type": "code",
        "colab": {
          "base_uri": "https://localhost:8080/",
          "height": 664
        },
        "outputId": "a97b2a41-5768-4ae8-bd92-84333f7a23e5"
      },
      "source": [
        "data.plot.scatter(x='math score', y='reading score')\n",
        "sns.lmplot(x='math score', y='reading score', hue='gender', data=data)"
      ],
      "execution_count": null,
      "outputs": [
        {
          "output_type": "execute_result",
          "data": {
            "text/plain": [
              "<seaborn.axisgrid.FacetGrid at 0x7f57b54e1198>"
            ]
          },
          "metadata": {
            "tags": []
          },
          "execution_count": 21
        },
        {
          "output_type": "display_data",
          "data": {
            "image/png": "[encoded data removed]",
            "text/plain": [
              "<Figure size 432x288 with 1 Axes>"
            ]
          },
          "metadata": {
            "tags": [],
            "needs_background": "light"
          }
        },
        {
          "output_type": "display_data",
          "data": {
            "image/png": "[encoded data removed]",
            "text/plain": [
              "<Figure size 430.5x360 with 1 Axes>"
            ]
          },
          "metadata": {
            "tags": [],
            "needs_background": "light"
          }
        }
      ]
    },
    {
      "cell_type": "markdown",
      "metadata": {
        "id": "j1jvpqsM_-FK",
        "colab_type": "text"
      },
      "source": [
        "#Герои Warcraft Dota"
      ]
    },
    {
      "cell_type": "code",
      "metadata": {
        "id": "xN4eKkLe_-Vk",
        "colab_type": "code",
        "colab": {
          "base_uri": "https://localhost:8080/",
          "height": 204
        },
        "outputId": "949fbf28-7879-4ac5-ebec-f35f7f65d7b9"
      },
      "source": [
        "data = pd.read_csv('dota_hero_stats.csv', index_col=0)\n",
        "data.head()"
      ],
      "execution_count": null,
      "outputs": [
        {
          "output_type": "execute_result",
          "data": {
            "text/html": [
              "<div>\n",
              "<style scoped>\n",
              "    .dataframe tbody tr th:only-of-type {\n",
              "        vertical-align: middle;\n",
              "    }\n",
              "\n",
              "    .dataframe tbody tr th {\n",
              "        vertical-align: top;\n",
              "    }\n",
              "\n",
              "    .dataframe thead th {\n",
              "        text-align: right;\n",
              "    }\n",
              "</style>\n",
              "<table border=\"1\" class=\"dataframe\">\n",
              "  <thead>\n",
              "    <tr style=\"text-align: right;\">\n",
              "      <th></th>\n",
              "      <th>attack_type</th>\n",
              "      <th>id</th>\n",
              "      <th>legs</th>\n",
              "      <th>localized_name</th>\n",
              "      <th>name</th>\n",
              "      <th>primary_attr</th>\n",
              "      <th>roles</th>\n",
              "    </tr>\n",
              "  </thead>\n",
              "  <tbody>\n",
              "    <tr>\n",
              "      <th>0</th>\n",
              "      <td>Melee</td>\n",
              "      <td>1</td>\n",
              "      <td>2</td>\n",
              "      <td>Anti-Mage</td>\n",
              "      <td>npc_dota_hero_antimage</td>\n",
              "      <td>agi</td>\n",
              "      <td>['Carry', 'Escape', 'Nuker']</td>\n",
              "    </tr>\n",
              "    <tr>\n",
              "      <th>1</th>\n",
              "      <td>Melee</td>\n",
              "      <td>2</td>\n",
              "      <td>2</td>\n",
              "      <td>Axe</td>\n",
              "      <td>npc_dota_hero_axe</td>\n",
              "      <td>str</td>\n",
              "      <td>['Initiator', 'Durable', 'Disabler', 'Jungler']</td>\n",
              "    </tr>\n",
              "    <tr>\n",
              "      <th>2</th>\n",
              "      <td>Ranged</td>\n",
              "      <td>3</td>\n",
              "      <td>4</td>\n",
              "      <td>Bane</td>\n",
              "      <td>npc_dota_hero_bane</td>\n",
              "      <td>int</td>\n",
              "      <td>['Support', 'Disabler', 'Nuker', 'Durable']</td>\n",
              "    </tr>\n",
              "    <tr>\n",
              "      <th>3</th>\n",
              "      <td>Melee</td>\n",
              "      <td>4</td>\n",
              "      <td>2</td>\n",
              "      <td>Bloodseeker</td>\n",
              "      <td>npc_dota_hero_bloodseeker</td>\n",
              "      <td>agi</td>\n",
              "      <td>['Carry', 'Disabler', 'Jungler', 'Nuker', 'Ini...</td>\n",
              "    </tr>\n",
              "    <tr>\n",
              "      <th>4</th>\n",
              "      <td>Ranged</td>\n",
              "      <td>5</td>\n",
              "      <td>2</td>\n",
              "      <td>Crystal Maiden</td>\n",
              "      <td>npc_dota_hero_crystal_maiden</td>\n",
              "      <td>int</td>\n",
              "      <td>['Support', 'Disabler', 'Nuker', 'Jungler']</td>\n",
              "    </tr>\n",
              "  </tbody>\n",
              "</table>\n",
              "</div>"
            ],
            "text/plain": [
              "  attack_type  ...                                              roles\n",
              "0       Melee  ...                       ['Carry', 'Escape', 'Nuker']\n",
              "1       Melee  ...    ['Initiator', 'Durable', 'Disabler', 'Jungler']\n",
              "2      Ranged  ...        ['Support', 'Disabler', 'Nuker', 'Durable']\n",
              "3       Melee  ...  ['Carry', 'Disabler', 'Jungler', 'Nuker', 'Ini...\n",
              "4      Ranged  ...        ['Support', 'Disabler', 'Nuker', 'Jungler']\n",
              "\n",
              "[5 rows x 7 columns]"
            ]
          },
          "metadata": {
            "tags": []
          },
          "execution_count": 22
        }
      ]
    },
    {
      "cell_type": "markdown",
      "metadata": {
        "id": "_-cl-KqTBH_a",
        "colab_type": "text"
      },
      "source": [
        "Группировка по количеству ног героя"
      ]
    },
    {
      "cell_type": "code",
      "metadata": {
        "id": "QJSDRKURAF68",
        "colab_type": "code",
        "colab": {
          "base_uri": "https://localhost:8080/",
          "height": 235
        },
        "outputId": "d2bb8502-9c10-40fd-f172-fdc62b998e9b"
      },
      "source": [
        "data.groupby('legs').aggregate({'id': 'count'}).rename(columns={'id': 'count'})"
      ],
      "execution_count": null,
      "outputs": [
        {
          "output_type": "execute_result",
          "data": {
            "text/html": [
              "<div>\n",
              "<style scoped>\n",
              "    .dataframe tbody tr th:only-of-type {\n",
              "        vertical-align: middle;\n",
              "    }\n",
              "\n",
              "    .dataframe tbody tr th {\n",
              "        vertical-align: top;\n",
              "    }\n",
              "\n",
              "    .dataframe thead th {\n",
              "        text-align: right;\n",
              "    }\n",
              "</style>\n",
              "<table border=\"1\" class=\"dataframe\">\n",
              "  <thead>\n",
              "    <tr style=\"text-align: right;\">\n",
              "      <th></th>\n",
              "      <th>count</th>\n",
              "    </tr>\n",
              "    <tr>\n",
              "      <th>legs</th>\n",
              "      <th></th>\n",
              "    </tr>\n",
              "  </thead>\n",
              "  <tbody>\n",
              "    <tr>\n",
              "      <th>0</th>\n",
              "      <td>11</td>\n",
              "    </tr>\n",
              "    <tr>\n",
              "      <th>2</th>\n",
              "      <td>95</td>\n",
              "    </tr>\n",
              "    <tr>\n",
              "      <th>4</th>\n",
              "      <td>7</td>\n",
              "    </tr>\n",
              "    <tr>\n",
              "      <th>6</th>\n",
              "      <td>3</td>\n",
              "    </tr>\n",
              "    <tr>\n",
              "      <th>8</th>\n",
              "      <td>1</td>\n",
              "    </tr>\n",
              "  </tbody>\n",
              "</table>\n",
              "</div>"
            ],
            "text/plain": [
              "      count\n",
              "legs       \n",
              "0        11\n",
              "2        95\n",
              "4         7\n",
              "6         3\n",
              "8         1"
            ]
          },
          "metadata": {
            "tags": []
          },
          "execution_count": 23
        }
      ]
    },
    {
      "cell_type": "markdown",
      "metadata": {
        "id": "JuOzXpGLBOdR",
        "colab_type": "text"
      },
      "source": [
        "Двойная группировка: по типу атаки и по атрибуту героя"
      ]
    },
    {
      "cell_type": "code",
      "metadata": {
        "id": "KsJg9zsOBNgW",
        "colab_type": "code",
        "colab": {
          "base_uri": "https://localhost:8080/",
          "height": 266
        },
        "outputId": "9b53f3b2-288a-4901-df09-c05f580e57c9"
      },
      "source": [
        "data.groupby(['attack_type', 'primary_attr']).count()"
      ],
      "execution_count": null,
      "outputs": [
        {
          "output_type": "execute_result",
          "data": {
            "text/html": [
              "<div>\n",
              "<style scoped>\n",
              "    .dataframe tbody tr th:only-of-type {\n",
              "        vertical-align: middle;\n",
              "    }\n",
              "\n",
              "    .dataframe tbody tr th {\n",
              "        vertical-align: top;\n",
              "    }\n",
              "\n",
              "    .dataframe thead th {\n",
              "        text-align: right;\n",
              "    }\n",
              "</style>\n",
              "<table border=\"1\" class=\"dataframe\">\n",
              "  <thead>\n",
              "    <tr style=\"text-align: right;\">\n",
              "      <th></th>\n",
              "      <th></th>\n",
              "      <th>id</th>\n",
              "      <th>legs</th>\n",
              "      <th>localized_name</th>\n",
              "      <th>name</th>\n",
              "      <th>roles</th>\n",
              "    </tr>\n",
              "    <tr>\n",
              "      <th>attack_type</th>\n",
              "      <th>primary_attr</th>\n",
              "      <th></th>\n",
              "      <th></th>\n",
              "      <th></th>\n",
              "      <th></th>\n",
              "      <th></th>\n",
              "    </tr>\n",
              "  </thead>\n",
              "  <tbody>\n",
              "    <tr>\n",
              "      <th rowspan=\"3\" valign=\"top\">Melee</th>\n",
              "      <th>agi</th>\n",
              "      <td>19</td>\n",
              "      <td>19</td>\n",
              "      <td>19</td>\n",
              "      <td>19</td>\n",
              "      <td>19</td>\n",
              "    </tr>\n",
              "    <tr>\n",
              "      <th>int</th>\n",
              "      <td>2</td>\n",
              "      <td>2</td>\n",
              "      <td>2</td>\n",
              "      <td>2</td>\n",
              "      <td>2</td>\n",
              "    </tr>\n",
              "    <tr>\n",
              "      <th>str</th>\n",
              "      <td>35</td>\n",
              "      <td>35</td>\n",
              "      <td>35</td>\n",
              "      <td>35</td>\n",
              "      <td>35</td>\n",
              "    </tr>\n",
              "    <tr>\n",
              "      <th rowspan=\"3\" valign=\"top\">Ranged</th>\n",
              "      <th>agi</th>\n",
              "      <td>18</td>\n",
              "      <td>18</td>\n",
              "      <td>18</td>\n",
              "      <td>18</td>\n",
              "      <td>18</td>\n",
              "    </tr>\n",
              "    <tr>\n",
              "      <th>int</th>\n",
              "      <td>40</td>\n",
              "      <td>40</td>\n",
              "      <td>40</td>\n",
              "      <td>40</td>\n",
              "      <td>40</td>\n",
              "    </tr>\n",
              "    <tr>\n",
              "      <th>str</th>\n",
              "      <td>3</td>\n",
              "      <td>3</td>\n",
              "      <td>3</td>\n",
              "      <td>3</td>\n",
              "      <td>3</td>\n",
              "    </tr>\n",
              "  </tbody>\n",
              "</table>\n",
              "</div>"
            ],
            "text/plain": [
              "                          id  legs  localized_name  name  roles\n",
              "attack_type primary_attr                                       \n",
              "Melee       agi           19    19              19    19     19\n",
              "            int            2     2               2     2      2\n",
              "            str           35    35              35    35     35\n",
              "Ranged      agi           18    18              18    18     18\n",
              "            int           40    40              40    40     40\n",
              "            str            3     3               3     3      3"
            ]
          },
          "metadata": {
            "tags": []
          },
          "execution_count": 24
        }
      ]
    },
    {
      "cell_type": "markdown",
      "metadata": {
        "id": "6nI7QloWBjv1",
        "colab_type": "text"
      },
      "source": [
        "Количество ролей героя"
      ]
    },
    {
      "cell_type": "code",
      "metadata": {
        "id": "wZ8UkQUDBkDx",
        "colab_type": "code",
        "colab": {
          "base_uri": "https://localhost:8080/",
          "height": 282
        },
        "outputId": "309b9eae-ee7f-47f6-d014-b203cb17ac0f"
      },
      "source": [
        "data['role_count'] = [len(r.split(',')) for r in data.roles]\n",
        "data.legs.hist()"
      ],
      "execution_count": null,
      "outputs": [
        {
          "output_type": "execute_result",
          "data": {
            "text/plain": [
              "<matplotlib.axes._subplots.AxesSubplot at 0x7f57b2789748>"
            ]
          },
          "metadata": {
            "tags": []
          },
          "execution_count": 25
        },
        {
          "output_type": "display_data",
          "data": {
            "image/png": "[encoded data removed]",
            "text/plain": [
              "<Figure size 432x288 with 1 Axes>"
            ]
          },
          "metadata": {
            "tags": [],
            "needs_background": "light"
          }
        }
      ]
    },
    {
      "cell_type": "markdown",
      "metadata": {
        "id": "T-f-PYk2WobH",
        "colab_type": "text"
      },
      "source": [
        "Способ получения первых 10 элементов"
      ]
    },
    {
      "cell_type": "code",
      "metadata": {
        "id": "kaS1bg6OWxJN",
        "colab_type": "code",
        "colab": {
          "base_uri": "https://localhost:8080/",
          "height": 359
        },
        "outputId": "4a06b55e-4df8-4677-b8d0-274538cdc82e"
      },
      "source": [
        "data.loc[:9] # если индекс представляет собой последовательность чисел от 0 с шагом 1\n",
        "data.head(10)\n",
        "data.iloc[0:10]\n",
        "data.iloc[:10]"
      ],
      "execution_count": null,
      "outputs": [
        {
          "output_type": "execute_result",
          "data": {
            "text/html": [
              "<div>\n",
              "<style scoped>\n",
              "    .dataframe tbody tr th:only-of-type {\n",
              "        vertical-align: middle;\n",
              "    }\n",
              "\n",
              "    .dataframe tbody tr th {\n",
              "        vertical-align: top;\n",
              "    }\n",
              "\n",
              "    .dataframe thead th {\n",
              "        text-align: right;\n",
              "    }\n",
              "</style>\n",
              "<table border=\"1\" class=\"dataframe\">\n",
              "  <thead>\n",
              "    <tr style=\"text-align: right;\">\n",
              "      <th></th>\n",
              "      <th>attack_type</th>\n",
              "      <th>id</th>\n",
              "      <th>legs</th>\n",
              "      <th>localized_name</th>\n",
              "      <th>name</th>\n",
              "      <th>primary_attr</th>\n",
              "      <th>roles</th>\n",
              "      <th>role_count</th>\n",
              "    </tr>\n",
              "  </thead>\n",
              "  <tbody>\n",
              "    <tr>\n",
              "      <th>0</th>\n",
              "      <td>Melee</td>\n",
              "      <td>1</td>\n",
              "      <td>2</td>\n",
              "      <td>Anti-Mage</td>\n",
              "      <td>npc_dota_hero_antimage</td>\n",
              "      <td>agi</td>\n",
              "      <td>['Carry', 'Escape', 'Nuker']</td>\n",
              "      <td>3</td>\n",
              "    </tr>\n",
              "    <tr>\n",
              "      <th>1</th>\n",
              "      <td>Melee</td>\n",
              "      <td>2</td>\n",
              "      <td>2</td>\n",
              "      <td>Axe</td>\n",
              "      <td>npc_dota_hero_axe</td>\n",
              "      <td>str</td>\n",
              "      <td>['Initiator', 'Durable', 'Disabler', 'Jungler']</td>\n",
              "      <td>4</td>\n",
              "    </tr>\n",
              "    <tr>\n",
              "      <th>2</th>\n",
              "      <td>Ranged</td>\n",
              "      <td>3</td>\n",
              "      <td>4</td>\n",
              "      <td>Bane</td>\n",
              "      <td>npc_dota_hero_bane</td>\n",
              "      <td>int</td>\n",
              "      <td>['Support', 'Disabler', 'Nuker', 'Durable']</td>\n",
              "      <td>4</td>\n",
              "    </tr>\n",
              "    <tr>\n",
              "      <th>3</th>\n",
              "      <td>Melee</td>\n",
              "      <td>4</td>\n",
              "      <td>2</td>\n",
              "      <td>Bloodseeker</td>\n",
              "      <td>npc_dota_hero_bloodseeker</td>\n",
              "      <td>agi</td>\n",
              "      <td>['Carry', 'Disabler', 'Jungler', 'Nuker', 'Ini...</td>\n",
              "      <td>5</td>\n",
              "    </tr>\n",
              "    <tr>\n",
              "      <th>4</th>\n",
              "      <td>Ranged</td>\n",
              "      <td>5</td>\n",
              "      <td>2</td>\n",
              "      <td>Crystal Maiden</td>\n",
              "      <td>npc_dota_hero_crystal_maiden</td>\n",
              "      <td>int</td>\n",
              "      <td>['Support', 'Disabler', 'Nuker', 'Jungler']</td>\n",
              "      <td>4</td>\n",
              "    </tr>\n",
              "    <tr>\n",
              "      <th>5</th>\n",
              "      <td>Ranged</td>\n",
              "      <td>6</td>\n",
              "      <td>2</td>\n",
              "      <td>Drow Ranger</td>\n",
              "      <td>npc_dota_hero_drow_ranger</td>\n",
              "      <td>agi</td>\n",
              "      <td>['Carry', 'Disabler', 'Pusher']</td>\n",
              "      <td>3</td>\n",
              "    </tr>\n",
              "    <tr>\n",
              "      <th>6</th>\n",
              "      <td>Melee</td>\n",
              "      <td>7</td>\n",
              "      <td>2</td>\n",
              "      <td>Earthshaker</td>\n",
              "      <td>npc_dota_hero_earthshaker</td>\n",
              "      <td>str</td>\n",
              "      <td>['Support', 'Initiator', 'Disabler', 'Nuker']</td>\n",
              "      <td>4</td>\n",
              "    </tr>\n",
              "    <tr>\n",
              "      <th>7</th>\n",
              "      <td>Melee</td>\n",
              "      <td>8</td>\n",
              "      <td>2</td>\n",
              "      <td>Juggernaut</td>\n",
              "      <td>npc_dota_hero_juggernaut</td>\n",
              "      <td>agi</td>\n",
              "      <td>['Carry', 'Pusher', 'Escape']</td>\n",
              "      <td>3</td>\n",
              "    </tr>\n",
              "    <tr>\n",
              "      <th>8</th>\n",
              "      <td>Ranged</td>\n",
              "      <td>9</td>\n",
              "      <td>2</td>\n",
              "      <td>Mirana</td>\n",
              "      <td>npc_dota_hero_mirana</td>\n",
              "      <td>agi</td>\n",
              "      <td>['Carry', 'Support', 'Escape', 'Nuker', 'Disab...</td>\n",
              "      <td>5</td>\n",
              "    </tr>\n",
              "    <tr>\n",
              "      <th>9</th>\n",
              "      <td>Ranged</td>\n",
              "      <td>10</td>\n",
              "      <td>0</td>\n",
              "      <td>Morphling</td>\n",
              "      <td>npc_dota_hero_morphling</td>\n",
              "      <td>agi</td>\n",
              "      <td>['Carry', 'Escape', 'Durable', 'Nuker', 'Disab...</td>\n",
              "      <td>5</td>\n",
              "    </tr>\n",
              "  </tbody>\n",
              "</table>\n",
              "</div>"
            ],
            "text/plain": [
              "  attack_type  ...  role_count\n",
              "0       Melee  ...           3\n",
              "1       Melee  ...           4\n",
              "2      Ranged  ...           4\n",
              "3       Melee  ...           5\n",
              "4      Ranged  ...           4\n",
              "5      Ranged  ...           3\n",
              "6       Melee  ...           4\n",
              "7       Melee  ...           3\n",
              "8      Ranged  ...           5\n",
              "9      Ranged  ...           5\n",
              "\n",
              "[10 rows x 8 columns]"
            ]
          },
          "metadata": {
            "tags": []
          },
          "execution_count": 26
        }
      ]
    },
    {
      "cell_type": "markdown",
      "metadata": {
        "id": "FbPMRWYSqRQk",
        "colab_type": "text"
      },
      "source": [
        "#Водоросли"
      ]
    },
    {
      "cell_type": "code",
      "metadata": {
        "id": "szv0V1XMqRhW",
        "colab_type": "code",
        "colab": {
          "base_uri": "https://localhost:8080/",
          "height": 204
        },
        "outputId": "d59e5616-a8d1-4ff3-e4ed-a444e10f5fb6"
      },
      "source": [
        "concentrations = pd.read_csv('algae.csv')\n",
        "concentrations.head()"
      ],
      "execution_count": null,
      "outputs": [
        {
          "output_type": "execute_result",
          "data": {
            "text/html": [
              "<div>\n",
              "<style scoped>\n",
              "    .dataframe tbody tr th:only-of-type {\n",
              "        vertical-align: middle;\n",
              "    }\n",
              "\n",
              "    .dataframe tbody tr th {\n",
              "        vertical-align: top;\n",
              "    }\n",
              "\n",
              "    .dataframe thead th {\n",
              "        text-align: right;\n",
              "    }\n",
              "</style>\n",
              "<table border=\"1\" class=\"dataframe\">\n",
              "  <thead>\n",
              "    <tr style=\"text-align: right;\">\n",
              "      <th></th>\n",
              "      <th>species</th>\n",
              "      <th>genus</th>\n",
              "      <th>group</th>\n",
              "      <th>sucrose</th>\n",
              "      <th>alanin</th>\n",
              "      <th>citrate</th>\n",
              "      <th>glucose</th>\n",
              "      <th>oleic_acid</th>\n",
              "    </tr>\n",
              "  </thead>\n",
              "  <tbody>\n",
              "    <tr>\n",
              "      <th>0</th>\n",
              "      <td>Fucus_vesiculosus</td>\n",
              "      <td>Fucus</td>\n",
              "      <td>brown</td>\n",
              "      <td>3.001472</td>\n",
              "      <td>3.711498</td>\n",
              "      <td>5.004262</td>\n",
              "      <td>2.548459</td>\n",
              "      <td>6.405165</td>\n",
              "    </tr>\n",
              "    <tr>\n",
              "      <th>1</th>\n",
              "      <td>Saccharina_japonica</td>\n",
              "      <td>Saccharina</td>\n",
              "      <td>brown</td>\n",
              "      <td>6.731070</td>\n",
              "      <td>1.255251</td>\n",
              "      <td>5.621499</td>\n",
              "      <td>6.013219</td>\n",
              "      <td>4.156700</td>\n",
              "    </tr>\n",
              "    <tr>\n",
              "      <th>2</th>\n",
              "      <td>Fucus_serratus</td>\n",
              "      <td>Fucus</td>\n",
              "      <td>brown</td>\n",
              "      <td>3.276870</td>\n",
              "      <td>0.346431</td>\n",
              "      <td>1.216767</td>\n",
              "      <td>3.623225</td>\n",
              "      <td>0.304573</td>\n",
              "    </tr>\n",
              "    <tr>\n",
              "      <th>3</th>\n",
              "      <td>Fucus_distichus</td>\n",
              "      <td>Fucus</td>\n",
              "      <td>brown</td>\n",
              "      <td>6.786996</td>\n",
              "      <td>6.641303</td>\n",
              "      <td>6.423606</td>\n",
              "      <td>2.272724</td>\n",
              "      <td>3.393203</td>\n",
              "    </tr>\n",
              "    <tr>\n",
              "      <th>4</th>\n",
              "      <td>Cladophora_fracta</td>\n",
              "      <td>Cladophora</td>\n",
              "      <td>green</td>\n",
              "      <td>3.861470</td>\n",
              "      <td>1.648450</td>\n",
              "      <td>6.940588</td>\n",
              "      <td>2.316955</td>\n",
              "      <td>2.528886</td>\n",
              "    </tr>\n",
              "  </tbody>\n",
              "</table>\n",
              "</div>"
            ],
            "text/plain": [
              "               species       genus  group  ...   citrate   glucose  oleic_acid\n",
              "0    Fucus_vesiculosus       Fucus  brown  ...  5.004262  2.548459    6.405165\n",
              "1  Saccharina_japonica  Saccharina  brown  ...  5.621499  6.013219    4.156700\n",
              "2       Fucus_serratus       Fucus  brown  ...  1.216767  3.623225    0.304573\n",
              "3      Fucus_distichus       Fucus  brown  ...  6.423606  2.272724    3.393203\n",
              "4    Cladophora_fracta  Cladophora  green  ...  6.940588  2.316955    2.528886\n",
              "\n",
              "[5 rows x 8 columns]"
            ]
          },
          "metadata": {
            "tags": []
          },
          "execution_count": 27
        }
      ]
    },
    {
      "cell_type": "markdown",
      "metadata": {
        "id": "fzTLnM-mWneu",
        "colab_type": "text"
      },
      "source": [
        "Средняя концентрация каждого вещества и каждого рода (**genus**)"
      ]
    },
    {
      "cell_type": "code",
      "metadata": {
        "id": "EKSOb7IbpEhf",
        "colab_type": "code",
        "colab": {
          "base_uri": "https://localhost:8080/",
          "height": 235
        },
        "outputId": "75059b9e-0959-46be-a249-181ce7723592"
      },
      "source": [
        "mean_concentrations = concentrations.groupby('genus')\\\n",
        "      .aggregate({'sucrose': 'mean', \n",
        "                  'alanin': 'mean', \n",
        "                  'citrate': 'mean', \n",
        "                  'glucose': 'mean', \n",
        "                  'oleic_acid': 'mean'})\n",
        "mean_concentrations"
      ],
      "execution_count": null,
      "outputs": [
        {
          "output_type": "execute_result",
          "data": {
            "text/html": [
              "<div>\n",
              "<style scoped>\n",
              "    .dataframe tbody tr th:only-of-type {\n",
              "        vertical-align: middle;\n",
              "    }\n",
              "\n",
              "    .dataframe tbody tr th {\n",
              "        vertical-align: top;\n",
              "    }\n",
              "\n",
              "    .dataframe thead th {\n",
              "        text-align: right;\n",
              "    }\n",
              "</style>\n",
              "<table border=\"1\" class=\"dataframe\">\n",
              "  <thead>\n",
              "    <tr style=\"text-align: right;\">\n",
              "      <th></th>\n",
              "      <th>sucrose</th>\n",
              "      <th>alanin</th>\n",
              "      <th>citrate</th>\n",
              "      <th>glucose</th>\n",
              "      <th>oleic_acid</th>\n",
              "    </tr>\n",
              "    <tr>\n",
              "      <th>genus</th>\n",
              "      <th></th>\n",
              "      <th></th>\n",
              "      <th></th>\n",
              "      <th></th>\n",
              "      <th></th>\n",
              "    </tr>\n",
              "  </thead>\n",
              "  <tbody>\n",
              "    <tr>\n",
              "      <th>Ascophyllum</th>\n",
              "      <td>6.825467</td>\n",
              "      <td>0.875429</td>\n",
              "      <td>5.253527</td>\n",
              "      <td>3.414961</td>\n",
              "      <td>2.432526</td>\n",
              "    </tr>\n",
              "    <tr>\n",
              "      <th>Cladophora</th>\n",
              "      <td>4.008792</td>\n",
              "      <td>3.997055</td>\n",
              "      <td>5.288311</td>\n",
              "      <td>2.800276</td>\n",
              "      <td>2.263472</td>\n",
              "    </tr>\n",
              "    <tr>\n",
              "      <th>Fucus</th>\n",
              "      <td>4.355112</td>\n",
              "      <td>3.566411</td>\n",
              "      <td>4.214878</td>\n",
              "      <td>2.814803</td>\n",
              "      <td>3.367647</td>\n",
              "    </tr>\n",
              "    <tr>\n",
              "      <th>Palmaria</th>\n",
              "      <td>0.704580</td>\n",
              "      <td>3.176440</td>\n",
              "      <td>5.573905</td>\n",
              "      <td>3.242090</td>\n",
              "      <td>2.245538</td>\n",
              "    </tr>\n",
              "    <tr>\n",
              "      <th>Saccharina</th>\n",
              "      <td>4.183596</td>\n",
              "      <td>3.524207</td>\n",
              "      <td>3.346710</td>\n",
              "      <td>4.980594</td>\n",
              "      <td>4.487252</td>\n",
              "    </tr>\n",
              "  </tbody>\n",
              "</table>\n",
              "</div>"
            ],
            "text/plain": [
              "              sucrose    alanin   citrate   glucose  oleic_acid\n",
              "genus                                                          \n",
              "Ascophyllum  6.825467  0.875429  5.253527  3.414961    2.432526\n",
              "Cladophora   4.008792  3.997055  5.288311  2.800276    2.263472\n",
              "Fucus        4.355112  3.566411  4.214878  2.814803    3.367647\n",
              "Palmaria     0.704580  3.176440  5.573905  3.242090    2.245538\n",
              "Saccharina   4.183596  3.524207  3.346710  4.980594    4.487252"
            ]
          },
          "metadata": {
            "tags": []
          },
          "execution_count": 28
        }
      ]
    },
    {
      "cell_type": "markdown",
      "metadata": {
        "id": "_09tvL80qtf8",
        "colab_type": "text"
      },
      "source": [
        "Концентрации **alanin** среди видов рода **Fucus**"
      ]
    },
    {
      "cell_type": "code",
      "metadata": {
        "id": "c1PpzLEXqtz2",
        "colab_type": "code",
        "colab": {
          "base_uri": "https://localhost:8080/",
          "height": 142
        },
        "outputId": "a1901ba3-99a5-46fd-cf73-11a8e7280b12"
      },
      "source": [
        "concentrations.loc[:, ['genus', 'alanin']].groupby('genus', as_index=False) \\\n",
        "    .filter(lambda x: (x['genus'] == 'Fucus').any()) \\\n",
        "    .agg({'min', 'mean', 'max'})"
      ],
      "execution_count": null,
      "outputs": [
        {
          "output_type": "execute_result",
          "data": {
            "text/html": [
              "<div>\n",
              "<style scoped>\n",
              "    .dataframe tbody tr th:only-of-type {\n",
              "        vertical-align: middle;\n",
              "    }\n",
              "\n",
              "    .dataframe tbody tr th {\n",
              "        vertical-align: top;\n",
              "    }\n",
              "\n",
              "    .dataframe thead th {\n",
              "        text-align: right;\n",
              "    }\n",
              "</style>\n",
              "<table border=\"1\" class=\"dataframe\">\n",
              "  <thead>\n",
              "    <tr style=\"text-align: right;\">\n",
              "      <th></th>\n",
              "      <th>genus</th>\n",
              "      <th>alanin</th>\n",
              "    </tr>\n",
              "  </thead>\n",
              "  <tbody>\n",
              "    <tr>\n",
              "      <th>max</th>\n",
              "      <td>Fucus</td>\n",
              "      <td>6.641303</td>\n",
              "    </tr>\n",
              "    <tr>\n",
              "      <th>min</th>\n",
              "      <td>Fucus</td>\n",
              "      <td>0.346431</td>\n",
              "    </tr>\n",
              "    <tr>\n",
              "      <th>mean</th>\n",
              "      <td>NaN</td>\n",
              "      <td>3.566411</td>\n",
              "    </tr>\n",
              "  </tbody>\n",
              "</table>\n",
              "</div>"
            ],
            "text/plain": [
              "      genus    alanin\n",
              "max   Fucus  6.641303\n",
              "min   Fucus  0.346431\n",
              "mean    NaN  3.566411"
            ]
          },
          "metadata": {
            "tags": []
          },
          "execution_count": 30
        }
      ]
    },
    {
      "cell_type": "markdown",
      "metadata": {
        "id": "UuiMf0amJP68",
        "colab_type": "text"
      },
      "source": [
        "Дисперсия **citrate**, количество групп и размах sucrose"
      ]
    },
    {
      "cell_type": "code",
      "metadata": {
        "id": "lhq8r7TkJQLA",
        "colab_type": "code",
        "colab": {
          "base_uri": "https://localhost:8080/",
          "height": 173
        },
        "outputId": "73d19a65-6a68-4d20-aaf9-f3c6ccb5d351"
      },
      "source": [
        "concentrations.groupby('group').agg({'citrate': 'var', 'group': 'count', 'sucrose': lambda x: max(x) - min(x)}) \\\n",
        "    .rename({'citrate': 'citrate_var', 'group': 'group_count', 'sucrose': 'sucrose_range'}, axis=1)"
      ],
      "execution_count": null,
      "outputs": [
        {
          "output_type": "execute_result",
          "data": {
            "text/html": [
              "<div>\n",
              "<style scoped>\n",
              "    .dataframe tbody tr th:only-of-type {\n",
              "        vertical-align: middle;\n",
              "    }\n",
              "\n",
              "    .dataframe tbody tr th {\n",
              "        vertical-align: top;\n",
              "    }\n",
              "\n",
              "    .dataframe thead th {\n",
              "        text-align: right;\n",
              "    }\n",
              "</style>\n",
              "<table border=\"1\" class=\"dataframe\">\n",
              "  <thead>\n",
              "    <tr style=\"text-align: right;\">\n",
              "      <th></th>\n",
              "      <th>citrate_var</th>\n",
              "      <th>group_count</th>\n",
              "      <th>sucrose_range</th>\n",
              "    </tr>\n",
              "    <tr>\n",
              "      <th>group</th>\n",
              "      <th></th>\n",
              "      <th></th>\n",
              "      <th></th>\n",
              "    </tr>\n",
              "  </thead>\n",
              "  <tbody>\n",
              "    <tr>\n",
              "      <th>brown</th>\n",
              "      <td>5.468942</td>\n",
              "      <td>6</td>\n",
              "      <td>5.189345</td>\n",
              "    </tr>\n",
              "    <tr>\n",
              "      <th>green</th>\n",
              "      <td>3.950113</td>\n",
              "      <td>3</td>\n",
              "      <td>3.259662</td>\n",
              "    </tr>\n",
              "    <tr>\n",
              "      <th>red</th>\n",
              "      <td>NaN</td>\n",
              "      <td>1</td>\n",
              "      <td>0.000000</td>\n",
              "    </tr>\n",
              "  </tbody>\n",
              "</table>\n",
              "</div>"
            ],
            "text/plain": [
              "       citrate_var  group_count  sucrose_range\n",
              "group                                         \n",
              "brown     5.468942            6       5.189345\n",
              "green     3.950113            3       3.259662\n",
              "red            NaN            1       0.000000"
            ]
          },
          "metadata": {
            "tags": []
          },
          "execution_count": 31
        }
      ]
    },
    {
      "cell_type": "markdown",
      "metadata": {
        "id": "X7A7-tV0k-vo",
        "colab_type": "text"
      },
      "source": [
        "#Способы отрисовки"
      ]
    },
    {
      "cell_type": "code",
      "metadata": {
        "id": "0aci9ynZlgHJ",
        "colab_type": "code",
        "colab": {}
      },
      "source": [
        "df = pd.read_csv('income.csv')\n",
        "df.head()"
      ],
      "execution_count": null,
      "outputs": []
    },
    {
      "cell_type": "markdown",
      "metadata": {
        "id": "aF6aoCWjmC5g",
        "colab_type": "text"
      },
      "source": [
        "Идентичные способы отрисовки"
      ]
    },
    {
      "cell_type": "code",
      "metadata": {
        "id": "MWHhSziIk_AB",
        "colab_type": "code",
        "colab": {}
      },
      "source": [
        "df.plot()\n",
        "df.plot(kind='line')\n",
        "df['income'].plot()\n",
        "df.income.plot()\n",
        "plt.plot(df.index, df.income)\n",
        "sns.lineplot(x=df.index, y=df.income)\n",
        "sns.lineplot(data=df)"
      ],
      "execution_count": null,
      "outputs": []
    },
    {
      "cell_type": "markdown",
      "metadata": {
        "id": "Q0DvT8rFmZmg",
        "colab_type": "text"
      },
      "source": [
        "#Геномные расстояния между видами"
      ]
    },
    {
      "cell_type": "code",
      "metadata": {
        "id": "dAMQXB7OmZ5S",
        "colab_type": "code",
        "colab": {
          "base_uri": "https://localhost:8080/",
          "height": 265
        },
        "outputId": "d81dc134-0057-4c7c-c9ff-efdb61876f27"
      },
      "source": [
        "data = pd.read_csv('genome_matrix.csv', index_col=0)\n",
        "g = sns.heatmap(data=data, cmap='viridis')\n",
        "g.yaxis.set_tick_params(rotation=360)"
      ],
      "execution_count": null,
      "outputs": [
        {
          "output_type": "display_data",
          "data": {
            "image/png": "[encoded data removed]",
            "text/plain": [
              "<Figure size 432x288 with 2 Axes>"
            ]
          },
          "metadata": {
            "tags": [],
            "needs_background": "light"
          }
        }
      ]
    },
    {
      "cell_type": "markdown",
      "metadata": {
        "id": "QoXif802nPbb",
        "colab_type": "text"
      },
      "source": [
        "#Ирисы"
      ]
    },
    {
      "cell_type": "markdown",
      "metadata": {
        "id": "kN7caIkvn6Q7",
        "colab_type": "text"
      },
      "source": [
        "Распределения без разделения на вид"
      ]
    },
    {
      "cell_type": "code",
      "metadata": {
        "id": "rKUFmsPtnPpw",
        "colab_type": "code",
        "colab": {
          "base_uri": "https://localhost:8080/",
          "height": 1000
        },
        "outputId": "4b82d3ac-c316-4dd0-fcbc-e947836932bb"
      },
      "source": [
        "data = pd.read_csv('iris.csv', index_col=0)\n",
        "for column in data:\n",
        "    ax = sns.distplot(data[column])\n",
        "    plt.show()"
      ],
      "execution_count": 5,
      "outputs": [
        {
          "output_type": "display_data",
          "data": {
            "image/png": "[encoded data removed]",
            "text/plain": [
              "<Figure size 432x288 with 1 Axes>"
            ]
          },
          "metadata": {
            "tags": [],
            "needs_background": "light"
          }
        },
        {
          "output_type": "display_data",
          "data": {
            "image/png": "[encoded data removed]",
            "text/plain": [
              "<Figure size 432x288 with 1 Axes>"
            ]
          },
          "metadata": {
            "tags": [],
            "needs_background": "light"
          }
        },
        {
          "output_type": "display_data",
          "data": {
            "image/png": "[encoded data removed]",
            "text/plain": [
              "<Figure size 432x288 with 1 Axes>"
            ]
          },
          "metadata": {
            "tags": [],
            "needs_background": "light"
          }
        },
        {
          "output_type": "display_data",
          "data": {
            "image/png": "[encoded data removed]",
            "text/plain": [
              "<Figure size 432x288 with 1 Axes>"
            ]
          },
          "metadata": {
            "tags": [],
            "needs_background": "light"
          }
        },
        {
          "output_type": "display_data",
          "data": {
            "image/png": "[encoded data removed]",
            "text/plain": [
              "<Figure size 432x288 with 1 Axes>"
            ]
          },
          "metadata": {
            "tags": [],
            "needs_background": "light"
          }
        }
      ]
    },
    {
      "cell_type": "markdown",
      "metadata": {
        "id": "g6ynDL97nqAf",
        "colab_type": "text"
      },
      "source": [
        "Скрипичная диаграмма. Распределение длины лепестков ирисов (**petal length**)"
      ]
    },
    {
      "cell_type": "code",
      "metadata": {
        "id": "dp01eG7onqSx",
        "colab_type": "code",
        "colab": {
          "base_uri": "https://localhost:8080/",
          "height": 270
        },
        "outputId": "2f79a0db-2a1c-4c84-f2a2-77700352bc4f"
      },
      "source": [
        "sns.violinplot(y='petal length', data=data)"
      ],
      "execution_count": 6,
      "outputs": [
        {
          "output_type": "execute_result",
          "data": {
            "text/plain": [
              "<matplotlib.axes._subplots.AxesSubplot at 0x7f684db00d68>"
            ]
          },
          "metadata": {
            "tags": []
          },
          "execution_count": 6
        },
        {
          "output_type": "display_data",
          "data": {
            "image/png": "[encoded data removed]",
            "text/plain": [
              "<Figure size 432x288 with 1 Axes>"
            ]
          },
          "metadata": {
            "tags": [],
            "needs_background": "light"
          }
        }
      ]
    },
    {
      "cell_type": "markdown",
      "metadata": {
        "id": "oIIBxd0VoUhc",
        "colab_type": "text"
      },
      "source": [
        "Зависимость пар переменных друг от друга и распределение каждой переменной. \n",
        "\n",
        "Пара **petal width** и **petal length** имеет наибольшую корреляцию"
      ]
    },
    {
      "cell_type": "code",
      "metadata": {
        "id": "46xVdVa2oU15",
        "colab_type": "code",
        "colab": {
          "base_uri": "https://localhost:8080/",
          "height": 766
        },
        "outputId": "936c2a4f-0912-4583-9a2e-b3d45a781061"
      },
      "source": [
        "sns.pairplot(data, hue=\"species\")"
      ],
      "execution_count": 7,
      "outputs": [
        {
          "output_type": "execute_result",
          "data": {
            "text/plain": [
              "<seaborn.axisgrid.PairGrid at 0x7f684db00cf8>"
            ]
          },
          "metadata": {
            "tags": []
          },
          "execution_count": 7
        },
        {
          "output_type": "display_data",
          "data": {
            "image/png": "[encoded data removed]",
            "text/plain": [
              "<Figure size 765.375x720 with 20 Axes>"
            ]
          },
          "metadata": {
            "tags": [],
            "needs_background": "light"
          }
        }
      ]
    },
    {
      "cell_type": "markdown",
      "metadata": {
        "id": "OUOhUVe3moeb",
        "colab_type": "text"
      },
      "source": [
        "#Amazon. TimeSeries"
      ]
    },
    {
      "cell_type": "code",
      "metadata": {
        "id": "9PfAFGD6motq",
        "colab_type": "code",
        "colab": {
          "base_uri": "https://localhost:8080/",
          "height": 235
        },
        "outputId": "b051d52f-edae-4768-db16-11cb2f52a86a"
      },
      "source": [
        "stock = pd.read_csv('amzn_stock.csv', index_col='Date', parse_dates=True)\n",
        "stock.head()"
      ],
      "execution_count": null,
      "outputs": [
        {
          "output_type": "execute_result",
          "data": {
            "text/html": [
              "<div>\n",
              "<style scoped>\n",
              "    .dataframe tbody tr th:only-of-type {\n",
              "        vertical-align: middle;\n",
              "    }\n",
              "\n",
              "    .dataframe tbody tr th {\n",
              "        vertical-align: top;\n",
              "    }\n",
              "\n",
              "    .dataframe thead th {\n",
              "        text-align: right;\n",
              "    }\n",
              "</style>\n",
              "<table border=\"1\" class=\"dataframe\">\n",
              "  <thead>\n",
              "    <tr style=\"text-align: right;\">\n",
              "      <th></th>\n",
              "      <th>Open</th>\n",
              "      <th>High</th>\n",
              "      <th>Low</th>\n",
              "      <th>Close</th>\n",
              "      <th>Volume</th>\n",
              "    </tr>\n",
              "    <tr>\n",
              "      <th>Date</th>\n",
              "      <th></th>\n",
              "      <th></th>\n",
              "      <th></th>\n",
              "      <th></th>\n",
              "      <th></th>\n",
              "    </tr>\n",
              "  </thead>\n",
              "  <tbody>\n",
              "    <tr>\n",
              "      <th>2010-01-04</th>\n",
              "      <td>136.25</td>\n",
              "      <td>136.61</td>\n",
              "      <td>133.14</td>\n",
              "      <td>133.90</td>\n",
              "      <td>7600543</td>\n",
              "    </tr>\n",
              "    <tr>\n",
              "      <th>2010-01-05</th>\n",
              "      <td>133.43</td>\n",
              "      <td>135.48</td>\n",
              "      <td>131.81</td>\n",
              "      <td>134.69</td>\n",
              "      <td>8856456</td>\n",
              "    </tr>\n",
              "    <tr>\n",
              "      <th>2010-01-06</th>\n",
              "      <td>134.60</td>\n",
              "      <td>134.73</td>\n",
              "      <td>131.65</td>\n",
              "      <td>132.25</td>\n",
              "      <td>7180977</td>\n",
              "    </tr>\n",
              "    <tr>\n",
              "      <th>2010-01-07</th>\n",
              "      <td>132.01</td>\n",
              "      <td>132.32</td>\n",
              "      <td>128.80</td>\n",
              "      <td>130.00</td>\n",
              "      <td>11030124</td>\n",
              "    </tr>\n",
              "    <tr>\n",
              "      <th>2010-01-08</th>\n",
              "      <td>130.56</td>\n",
              "      <td>133.68</td>\n",
              "      <td>129.03</td>\n",
              "      <td>133.52</td>\n",
              "      <td>9833829</td>\n",
              "    </tr>\n",
              "  </tbody>\n",
              "</table>\n",
              "</div>"
            ],
            "text/plain": [
              "              Open    High     Low   Close    Volume\n",
              "Date                                                \n",
              "2010-01-04  136.25  136.61  133.14  133.90   7600543\n",
              "2010-01-05  133.43  135.48  131.81  134.69   8856456\n",
              "2010-01-06  134.60  134.73  131.65  132.25   7180977\n",
              "2010-01-07  132.01  132.32  128.80  130.00  11030124\n",
              "2010-01-08  130.56  133.68  129.03  133.52   9833829"
            ]
          },
          "metadata": {
            "tags": []
          },
          "execution_count": 57
        }
      ]
    },
    {
      "cell_type": "markdown",
      "metadata": {
        "id": "cVsyqsP4nAUY",
        "colab_type": "text"
      },
      "source": [
        "Индексация по частичной дате"
      ]
    },
    {
      "cell_type": "code",
      "metadata": {
        "id": "E_pJbQMvnCgO",
        "colab_type": "code",
        "colab": {
          "base_uri": "https://localhost:8080/",
          "height": 450
        },
        "outputId": "64c387b0-4bbe-48cd-9fcb-1afa6d40da7e"
      },
      "source": [
        "stock['2010']"
      ],
      "execution_count": null,
      "outputs": [
        {
          "output_type": "execute_result",
          "data": {
            "text/html": [
              "<div>\n",
              "<style scoped>\n",
              "    .dataframe tbody tr th:only-of-type {\n",
              "        vertical-align: middle;\n",
              "    }\n",
              "\n",
              "    .dataframe tbody tr th {\n",
              "        vertical-align: top;\n",
              "    }\n",
              "\n",
              "    .dataframe thead th {\n",
              "        text-align: right;\n",
              "    }\n",
              "</style>\n",
              "<table border=\"1\" class=\"dataframe\">\n",
              "  <thead>\n",
              "    <tr style=\"text-align: right;\">\n",
              "      <th></th>\n",
              "      <th>Open</th>\n",
              "      <th>High</th>\n",
              "      <th>Low</th>\n",
              "      <th>Close</th>\n",
              "      <th>Volume</th>\n",
              "    </tr>\n",
              "    <tr>\n",
              "      <th>Date</th>\n",
              "      <th></th>\n",
              "      <th></th>\n",
              "      <th></th>\n",
              "      <th></th>\n",
              "      <th></th>\n",
              "    </tr>\n",
              "  </thead>\n",
              "  <tbody>\n",
              "    <tr>\n",
              "      <th>2010-01-04</th>\n",
              "      <td>136.25</td>\n",
              "      <td>136.61</td>\n",
              "      <td>133.14</td>\n",
              "      <td>133.90</td>\n",
              "      <td>7600543</td>\n",
              "    </tr>\n",
              "    <tr>\n",
              "      <th>2010-01-05</th>\n",
              "      <td>133.43</td>\n",
              "      <td>135.48</td>\n",
              "      <td>131.81</td>\n",
              "      <td>134.69</td>\n",
              "      <td>8856456</td>\n",
              "    </tr>\n",
              "    <tr>\n",
              "      <th>2010-01-06</th>\n",
              "      <td>134.60</td>\n",
              "      <td>134.73</td>\n",
              "      <td>131.65</td>\n",
              "      <td>132.25</td>\n",
              "      <td>7180977</td>\n",
              "    </tr>\n",
              "    <tr>\n",
              "      <th>2010-01-07</th>\n",
              "      <td>132.01</td>\n",
              "      <td>132.32</td>\n",
              "      <td>128.80</td>\n",
              "      <td>130.00</td>\n",
              "      <td>11030124</td>\n",
              "    </tr>\n",
              "    <tr>\n",
              "      <th>2010-01-08</th>\n",
              "      <td>130.56</td>\n",
              "      <td>133.68</td>\n",
              "      <td>129.03</td>\n",
              "      <td>133.52</td>\n",
              "      <td>9833829</td>\n",
              "    </tr>\n",
              "    <tr>\n",
              "      <th>...</th>\n",
              "      <td>...</td>\n",
              "      <td>...</td>\n",
              "      <td>...</td>\n",
              "      <td>...</td>\n",
              "      <td>...</td>\n",
              "    </tr>\n",
              "    <tr>\n",
              "      <th>2010-12-27</th>\n",
              "      <td>181.90</td>\n",
              "      <td>183.14</td>\n",
              "      <td>180.45</td>\n",
              "      <td>182.14</td>\n",
              "      <td>2249734</td>\n",
              "    </tr>\n",
              "    <tr>\n",
              "      <th>2010-12-28</th>\n",
              "      <td>182.10</td>\n",
              "      <td>182.77</td>\n",
              "      <td>181.05</td>\n",
              "      <td>181.09</td>\n",
              "      <td>1975718</td>\n",
              "    </tr>\n",
              "    <tr>\n",
              "      <th>2010-12-29</th>\n",
              "      <td>181.80</td>\n",
              "      <td>184.35</td>\n",
              "      <td>180.41</td>\n",
              "      <td>183.37</td>\n",
              "      <td>3122379</td>\n",
              "    </tr>\n",
              "    <tr>\n",
              "      <th>2010-12-30</th>\n",
              "      <td>183.92</td>\n",
              "      <td>184.55</td>\n",
              "      <td>182.75</td>\n",
              "      <td>182.75</td>\n",
              "      <td>1961549</td>\n",
              "    </tr>\n",
              "    <tr>\n",
              "      <th>2010-12-31</th>\n",
              "      <td>181.96</td>\n",
              "      <td>182.30</td>\n",
              "      <td>179.51</td>\n",
              "      <td>180.00</td>\n",
              "      <td>3453895</td>\n",
              "    </tr>\n",
              "  </tbody>\n",
              "</table>\n",
              "<p>251 rows × 5 columns</p>\n",
              "</div>"
            ],
            "text/plain": [
              "              Open    High     Low   Close    Volume\n",
              "Date                                                \n",
              "2010-01-04  136.25  136.61  133.14  133.90   7600543\n",
              "2010-01-05  133.43  135.48  131.81  134.69   8856456\n",
              "2010-01-06  134.60  134.73  131.65  132.25   7180977\n",
              "2010-01-07  132.01  132.32  128.80  130.00  11030124\n",
              "2010-01-08  130.56  133.68  129.03  133.52   9833829\n",
              "...            ...     ...     ...     ...       ...\n",
              "2010-12-27  181.90  183.14  180.45  182.14   2249734\n",
              "2010-12-28  182.10  182.77  181.05  181.09   1975718\n",
              "2010-12-29  181.80  184.35  180.41  183.37   3122379\n",
              "2010-12-30  183.92  184.55  182.75  182.75   1961549\n",
              "2010-12-31  181.96  182.30  179.51  180.00   3453895\n",
              "\n",
              "[251 rows x 5 columns]"
            ]
          },
          "metadata": {
            "tags": []
          },
          "execution_count": 60
        }
      ]
    },
    {
      "cell_type": "code",
      "metadata": {
        "id": "4UZwqvBBnS85",
        "colab_type": "code",
        "colab": {
          "base_uri": "https://localhost:8080/",
          "height": 450
        },
        "outputId": "ddacac33-a548-4e77-d014-58be963a84eb"
      },
      "source": [
        "stock['2010-02':'2011-03']"
      ],
      "execution_count": null,
      "outputs": [
        {
          "output_type": "execute_result",
          "data": {
            "text/html": [
              "<div>\n",
              "<style scoped>\n",
              "    .dataframe tbody tr th:only-of-type {\n",
              "        vertical-align: middle;\n",
              "    }\n",
              "\n",
              "    .dataframe tbody tr th {\n",
              "        vertical-align: top;\n",
              "    }\n",
              "\n",
              "    .dataframe thead th {\n",
              "        text-align: right;\n",
              "    }\n",
              "</style>\n",
              "<table border=\"1\" class=\"dataframe\">\n",
              "  <thead>\n",
              "    <tr style=\"text-align: right;\">\n",
              "      <th></th>\n",
              "      <th>Open</th>\n",
              "      <th>High</th>\n",
              "      <th>Low</th>\n",
              "      <th>Close</th>\n",
              "      <th>Volume</th>\n",
              "    </tr>\n",
              "    <tr>\n",
              "      <th>Date</th>\n",
              "      <th></th>\n",
              "      <th></th>\n",
              "      <th></th>\n",
              "      <th></th>\n",
              "      <th></th>\n",
              "    </tr>\n",
              "  </thead>\n",
              "  <tbody>\n",
              "    <tr>\n",
              "      <th>2010-02-01</th>\n",
              "      <td>123.18</td>\n",
              "      <td>124.86</td>\n",
              "      <td>113.82</td>\n",
              "      <td>118.87</td>\n",
              "      <td>37774317</td>\n",
              "    </tr>\n",
              "    <tr>\n",
              "      <th>2010-02-02</th>\n",
              "      <td>118.79</td>\n",
              "      <td>118.98</td>\n",
              "      <td>114.40</td>\n",
              "      <td>118.12</td>\n",
              "      <td>23084986</td>\n",
              "    </tr>\n",
              "    <tr>\n",
              "      <th>2010-02-03</th>\n",
              "      <td>117.12</td>\n",
              "      <td>119.61</td>\n",
              "      <td>116.56</td>\n",
              "      <td>119.10</td>\n",
              "      <td>12409012</td>\n",
              "    </tr>\n",
              "    <tr>\n",
              "      <th>2010-02-04</th>\n",
              "      <td>118.64</td>\n",
              "      <td>120.33</td>\n",
              "      <td>115.74</td>\n",
              "      <td>115.94</td>\n",
              "      <td>12783912</td>\n",
              "    </tr>\n",
              "    <tr>\n",
              "      <th>2010-02-05</th>\n",
              "      <td>115.88</td>\n",
              "      <td>117.65</td>\n",
              "      <td>114.10</td>\n",
              "      <td>117.39</td>\n",
              "      <td>11027086</td>\n",
              "    </tr>\n",
              "    <tr>\n",
              "      <th>...</th>\n",
              "      <td>...</td>\n",
              "      <td>...</td>\n",
              "      <td>...</td>\n",
              "      <td>...</td>\n",
              "      <td>...</td>\n",
              "    </tr>\n",
              "    <tr>\n",
              "      <th>2011-03-25</th>\n",
              "      <td>171.64</td>\n",
              "      <td>173.49</td>\n",
              "      <td>170.30</td>\n",
              "      <td>170.98</td>\n",
              "      <td>4294302</td>\n",
              "    </tr>\n",
              "    <tr>\n",
              "      <th>2011-03-28</th>\n",
              "      <td>171.80</td>\n",
              "      <td>172.50</td>\n",
              "      <td>169.25</td>\n",
              "      <td>169.35</td>\n",
              "      <td>3400936</td>\n",
              "    </tr>\n",
              "    <tr>\n",
              "      <th>2011-03-29</th>\n",
              "      <td>170.73</td>\n",
              "      <td>174.84</td>\n",
              "      <td>170.07</td>\n",
              "      <td>174.62</td>\n",
              "      <td>4887443</td>\n",
              "    </tr>\n",
              "    <tr>\n",
              "      <th>2011-03-30</th>\n",
              "      <td>177.78</td>\n",
              "      <td>181.16</td>\n",
              "      <td>177.66</td>\n",
              "      <td>179.42</td>\n",
              "      <td>6860586</td>\n",
              "    </tr>\n",
              "    <tr>\n",
              "      <th>2011-03-31</th>\n",
              "      <td>179.31</td>\n",
              "      <td>181.57</td>\n",
              "      <td>178.50</td>\n",
              "      <td>180.13</td>\n",
              "      <td>4828345</td>\n",
              "    </tr>\n",
              "  </tbody>\n",
              "</table>\n",
              "<p>294 rows × 5 columns</p>\n",
              "</div>"
            ],
            "text/plain": [
              "              Open    High     Low   Close    Volume\n",
              "Date                                                \n",
              "2010-02-01  123.18  124.86  113.82  118.87  37774317\n",
              "2010-02-02  118.79  118.98  114.40  118.12  23084986\n",
              "2010-02-03  117.12  119.61  116.56  119.10  12409012\n",
              "2010-02-04  118.64  120.33  115.74  115.94  12783912\n",
              "2010-02-05  115.88  117.65  114.10  117.39  11027086\n",
              "...            ...     ...     ...     ...       ...\n",
              "2011-03-25  171.64  173.49  170.30  170.98   4294302\n",
              "2011-03-28  171.80  172.50  169.25  169.35   3400936\n",
              "2011-03-29  170.73  174.84  170.07  174.62   4887443\n",
              "2011-03-30  177.78  181.16  177.66  179.42   6860586\n",
              "2011-03-31  179.31  181.57  178.50  180.13   4828345\n",
              "\n",
              "[294 rows x 5 columns]"
            ]
          },
          "metadata": {
            "tags": []
          },
          "execution_count": 61
        }
      ]
    },
    {
      "cell_type": "markdown",
      "metadata": {
        "id": "WKoM80BqnkpW",
        "colab_type": "text"
      },
      "source": [
        "Resample позволяет увеличить или уменьшить масштаб в датасете"
      ]
    },
    {
      "cell_type": "code",
      "metadata": {
        "id": "xNXrigU_nk8g",
        "colab_type": "code",
        "colab": {
          "base_uri": "https://localhost:8080/",
          "height": 450
        },
        "outputId": "3c378ee7-f280-4534-d1dd-df03ca2910a1"
      },
      "source": [
        "stock.resample('2h').asfreq()"
      ],
      "execution_count": null,
      "outputs": [
        {
          "output_type": "execute_result",
          "data": {
            "text/html": [
              "<div>\n",
              "<style scoped>\n",
              "    .dataframe tbody tr th:only-of-type {\n",
              "        vertical-align: middle;\n",
              "    }\n",
              "\n",
              "    .dataframe tbody tr th {\n",
              "        vertical-align: top;\n",
              "    }\n",
              "\n",
              "    .dataframe thead th {\n",
              "        text-align: right;\n",
              "    }\n",
              "</style>\n",
              "<table border=\"1\" class=\"dataframe\">\n",
              "  <thead>\n",
              "    <tr style=\"text-align: right;\">\n",
              "      <th></th>\n",
              "      <th>Open</th>\n",
              "      <th>High</th>\n",
              "      <th>Low</th>\n",
              "      <th>Close</th>\n",
              "      <th>Volume</th>\n",
              "    </tr>\n",
              "    <tr>\n",
              "      <th>Date</th>\n",
              "      <th></th>\n",
              "      <th></th>\n",
              "      <th></th>\n",
              "      <th></th>\n",
              "      <th></th>\n",
              "    </tr>\n",
              "  </thead>\n",
              "  <tbody>\n",
              "    <tr>\n",
              "      <th>2010-01-04 00:00:00</th>\n",
              "      <td>136.25</td>\n",
              "      <td>136.61</td>\n",
              "      <td>133.14</td>\n",
              "      <td>133.90</td>\n",
              "      <td>7600543.0</td>\n",
              "    </tr>\n",
              "    <tr>\n",
              "      <th>2010-01-04 02:00:00</th>\n",
              "      <td>NaN</td>\n",
              "      <td>NaN</td>\n",
              "      <td>NaN</td>\n",
              "      <td>NaN</td>\n",
              "      <td>NaN</td>\n",
              "    </tr>\n",
              "    <tr>\n",
              "      <th>2010-01-04 04:00:00</th>\n",
              "      <td>NaN</td>\n",
              "      <td>NaN</td>\n",
              "      <td>NaN</td>\n",
              "      <td>NaN</td>\n",
              "      <td>NaN</td>\n",
              "    </tr>\n",
              "    <tr>\n",
              "      <th>2010-01-04 06:00:00</th>\n",
              "      <td>NaN</td>\n",
              "      <td>NaN</td>\n",
              "      <td>NaN</td>\n",
              "      <td>NaN</td>\n",
              "      <td>NaN</td>\n",
              "    </tr>\n",
              "    <tr>\n",
              "      <th>2010-01-04 08:00:00</th>\n",
              "      <td>NaN</td>\n",
              "      <td>NaN</td>\n",
              "      <td>NaN</td>\n",
              "      <td>NaN</td>\n",
              "      <td>NaN</td>\n",
              "    </tr>\n",
              "    <tr>\n",
              "      <th>...</th>\n",
              "      <td>...</td>\n",
              "      <td>...</td>\n",
              "      <td>...</td>\n",
              "      <td>...</td>\n",
              "      <td>...</td>\n",
              "    </tr>\n",
              "    <tr>\n",
              "      <th>2017-07-16 16:00:00</th>\n",
              "      <td>NaN</td>\n",
              "      <td>NaN</td>\n",
              "      <td>NaN</td>\n",
              "      <td>NaN</td>\n",
              "      <td>NaN</td>\n",
              "    </tr>\n",
              "    <tr>\n",
              "      <th>2017-07-16 18:00:00</th>\n",
              "      <td>NaN</td>\n",
              "      <td>NaN</td>\n",
              "      <td>NaN</td>\n",
              "      <td>NaN</td>\n",
              "      <td>NaN</td>\n",
              "    </tr>\n",
              "    <tr>\n",
              "      <th>2017-07-16 20:00:00</th>\n",
              "      <td>NaN</td>\n",
              "      <td>NaN</td>\n",
              "      <td>NaN</td>\n",
              "      <td>NaN</td>\n",
              "      <td>NaN</td>\n",
              "    </tr>\n",
              "    <tr>\n",
              "      <th>2017-07-16 22:00:00</th>\n",
              "      <td>NaN</td>\n",
              "      <td>NaN</td>\n",
              "      <td>NaN</td>\n",
              "      <td>NaN</td>\n",
              "      <td>NaN</td>\n",
              "    </tr>\n",
              "    <tr>\n",
              "      <th>2017-07-17 00:00:00</th>\n",
              "      <td>1004.69</td>\n",
              "      <td>1014.75</td>\n",
              "      <td>1003.81</td>\n",
              "      <td>1010.04</td>\n",
              "      <td>3668721.0</td>\n",
              "    </tr>\n",
              "  </tbody>\n",
              "</table>\n",
              "<p>33013 rows × 5 columns</p>\n",
              "</div>"
            ],
            "text/plain": [
              "                        Open     High      Low    Close     Volume\n",
              "Date                                                              \n",
              "2010-01-04 00:00:00   136.25   136.61   133.14   133.90  7600543.0\n",
              "2010-01-04 02:00:00      NaN      NaN      NaN      NaN        NaN\n",
              "2010-01-04 04:00:00      NaN      NaN      NaN      NaN        NaN\n",
              "2010-01-04 06:00:00      NaN      NaN      NaN      NaN        NaN\n",
              "2010-01-04 08:00:00      NaN      NaN      NaN      NaN        NaN\n",
              "...                      ...      ...      ...      ...        ...\n",
              "2017-07-16 16:00:00      NaN      NaN      NaN      NaN        NaN\n",
              "2017-07-16 18:00:00      NaN      NaN      NaN      NaN        NaN\n",
              "2017-07-16 20:00:00      NaN      NaN      NaN      NaN        NaN\n",
              "2017-07-16 22:00:00      NaN      NaN      NaN      NaN        NaN\n",
              "2017-07-17 00:00:00  1004.69  1014.75  1003.81  1010.04  3668721.0\n",
              "\n",
              "[33013 rows x 5 columns]"
            ]
          },
          "metadata": {
            "tags": []
          },
          "execution_count": 63
        }
      ]
    },
    {
      "cell_type": "code",
      "metadata": {
        "id": "485HGk1yoE9j",
        "colab_type": "code",
        "colab": {
          "base_uri": "https://localhost:8080/",
          "height": 450
        },
        "outputId": "6ac5d27b-066d-451d-cab8-5d5047f5238f"
      },
      "source": [
        "stock.resample('1w').mean()"
      ],
      "execution_count": null,
      "outputs": [
        {
          "output_type": "execute_result",
          "data": {
            "text/html": [
              "<div>\n",
              "<style scoped>\n",
              "    .dataframe tbody tr th:only-of-type {\n",
              "        vertical-align: middle;\n",
              "    }\n",
              "\n",
              "    .dataframe tbody tr th {\n",
              "        vertical-align: top;\n",
              "    }\n",
              "\n",
              "    .dataframe thead th {\n",
              "        text-align: right;\n",
              "    }\n",
              "</style>\n",
              "<table border=\"1\" class=\"dataframe\">\n",
              "  <thead>\n",
              "    <tr style=\"text-align: right;\">\n",
              "      <th></th>\n",
              "      <th>Open</th>\n",
              "      <th>High</th>\n",
              "      <th>Low</th>\n",
              "      <th>Close</th>\n",
              "      <th>Volume</th>\n",
              "    </tr>\n",
              "    <tr>\n",
              "      <th>Date</th>\n",
              "      <th></th>\n",
              "      <th></th>\n",
              "      <th></th>\n",
              "      <th></th>\n",
              "      <th></th>\n",
              "    </tr>\n",
              "  </thead>\n",
              "  <tbody>\n",
              "    <tr>\n",
              "      <th>2010-01-10</th>\n",
              "      <td>133.3700</td>\n",
              "      <td>134.564</td>\n",
              "      <td>130.8860</td>\n",
              "      <td>132.872</td>\n",
              "      <td>8900385.80</td>\n",
              "    </tr>\n",
              "    <tr>\n",
              "      <th>2010-01-17</th>\n",
              "      <td>129.5660</td>\n",
              "      <td>130.472</td>\n",
              "      <td>126.9940</td>\n",
              "      <td>128.252</td>\n",
              "      <td>10756782.40</td>\n",
              "    </tr>\n",
              "    <tr>\n",
              "      <th>2010-01-24</th>\n",
              "      <td>126.5475</td>\n",
              "      <td>128.255</td>\n",
              "      <td>123.7925</td>\n",
              "      <td>125.360</td>\n",
              "      <td>9883903.25</td>\n",
              "    </tr>\n",
              "    <tr>\n",
              "      <th>2010-01-31</th>\n",
              "      <td>123.5780</td>\n",
              "      <td>125.528</td>\n",
              "      <td>120.5840</td>\n",
              "      <td>122.796</td>\n",
              "      <td>18627194.20</td>\n",
              "    </tr>\n",
              "    <tr>\n",
              "      <th>2010-02-07</th>\n",
              "      <td>118.7220</td>\n",
              "      <td>120.286</td>\n",
              "      <td>114.9240</td>\n",
              "      <td>117.884</td>\n",
              "      <td>19415862.60</td>\n",
              "    </tr>\n",
              "    <tr>\n",
              "      <th>...</th>\n",
              "      <td>...</td>\n",
              "      <td>...</td>\n",
              "      <td>...</td>\n",
              "      <td>...</td>\n",
              "      <td>...</td>\n",
              "    </tr>\n",
              "    <tr>\n",
              "      <th>2017-06-25</th>\n",
              "      <td>1003.6940</td>\n",
              "      <td>1007.236</td>\n",
              "      <td>993.9580</td>\n",
              "      <td>999.006</td>\n",
              "      <td>3435057.40</td>\n",
              "    </tr>\n",
              "    <tr>\n",
              "      <th>2017-07-02</th>\n",
              "      <td>987.3720</td>\n",
              "      <td>994.062</td>\n",
              "      <td>974.0140</td>\n",
              "      <td>981.004</td>\n",
              "      <td>3719885.20</td>\n",
              "    </tr>\n",
              "    <tr>\n",
              "      <th>2017-07-09</th>\n",
              "      <td>967.1325</td>\n",
              "      <td>976.000</td>\n",
              "      <td>958.6025</td>\n",
              "      <td>967.240</td>\n",
              "      <td>3116265.75</td>\n",
              "    </tr>\n",
              "    <tr>\n",
              "      <th>2017-07-16</th>\n",
              "      <td>997.1340</td>\n",
              "      <td>1003.062</td>\n",
              "      <td>991.6220</td>\n",
              "      <td>999.910</td>\n",
              "      <td>3024161.20</td>\n",
              "    </tr>\n",
              "    <tr>\n",
              "      <th>2017-07-23</th>\n",
              "      <td>1004.6900</td>\n",
              "      <td>1014.750</td>\n",
              "      <td>1003.8100</td>\n",
              "      <td>1010.040</td>\n",
              "      <td>3668721.00</td>\n",
              "    </tr>\n",
              "  </tbody>\n",
              "</table>\n",
              "<p>394 rows × 5 columns</p>\n",
              "</div>"
            ],
            "text/plain": [
              "                 Open      High        Low     Close       Volume\n",
              "Date                                                             \n",
              "2010-01-10   133.3700   134.564   130.8860   132.872   8900385.80\n",
              "2010-01-17   129.5660   130.472   126.9940   128.252  10756782.40\n",
              "2010-01-24   126.5475   128.255   123.7925   125.360   9883903.25\n",
              "2010-01-31   123.5780   125.528   120.5840   122.796  18627194.20\n",
              "2010-02-07   118.7220   120.286   114.9240   117.884  19415862.60\n",
              "...               ...       ...        ...       ...          ...\n",
              "2017-06-25  1003.6940  1007.236   993.9580   999.006   3435057.40\n",
              "2017-07-02   987.3720   994.062   974.0140   981.004   3719885.20\n",
              "2017-07-09   967.1325   976.000   958.6025   967.240   3116265.75\n",
              "2017-07-16   997.1340  1003.062   991.6220   999.910   3024161.20\n",
              "2017-07-23  1004.6900  1014.750  1003.8100  1010.040   3668721.00\n",
              "\n",
              "[394 rows x 5 columns]"
            ]
          },
          "metadata": {
            "tags": []
          },
          "execution_count": 65
        }
      ]
    },
    {
      "cell_type": "markdown",
      "metadata": {
        "id": "uc7OitNlopv9",
        "colab_type": "text"
      },
      "source": [
        "Метод скользящего окна. Используются для сглаживания кривых. В данном случае размер окна = 3 и каждый элемент в колонке использует два значения выше и текущее значение.\n",
        "\n",
        "Минимальный период для применения. Для первого - его значение, для второго - значение первого и второго"
      ]
    },
    {
      "cell_type": "code",
      "metadata": {
        "id": "3UVR-e7Kop_v",
        "colab_type": "code",
        "colab": {
          "base_uri": "https://localhost:8080/",
          "height": 450
        },
        "outputId": "1852c65f-3159-4671-bd93-7ceb8cb4048f"
      },
      "source": [
        "window_size = 3\n",
        "period = 1\n",
        "rolling = stock.rolling(window_size, min_periods=period).mean()\n",
        "rolling"
      ],
      "execution_count": null,
      "outputs": [
        {
          "output_type": "execute_result",
          "data": {
            "text/html": [
              "<div>\n",
              "<style scoped>\n",
              "    .dataframe tbody tr th:only-of-type {\n",
              "        vertical-align: middle;\n",
              "    }\n",
              "\n",
              "    .dataframe tbody tr th {\n",
              "        vertical-align: top;\n",
              "    }\n",
              "\n",
              "    .dataframe thead th {\n",
              "        text-align: right;\n",
              "    }\n",
              "</style>\n",
              "<table border=\"1\" class=\"dataframe\">\n",
              "  <thead>\n",
              "    <tr style=\"text-align: right;\">\n",
              "      <th></th>\n",
              "      <th>Open</th>\n",
              "      <th>High</th>\n",
              "      <th>Low</th>\n",
              "      <th>Close</th>\n",
              "      <th>Volume</th>\n",
              "    </tr>\n",
              "    <tr>\n",
              "      <th>Date</th>\n",
              "      <th></th>\n",
              "      <th></th>\n",
              "      <th></th>\n",
              "      <th></th>\n",
              "      <th></th>\n",
              "    </tr>\n",
              "  </thead>\n",
              "  <tbody>\n",
              "    <tr>\n",
              "      <th>2010-01-04</th>\n",
              "      <td>136.250000</td>\n",
              "      <td>136.610000</td>\n",
              "      <td>133.140000</td>\n",
              "      <td>133.900000</td>\n",
              "      <td>7.600543e+06</td>\n",
              "    </tr>\n",
              "    <tr>\n",
              "      <th>2010-01-05</th>\n",
              "      <td>134.840000</td>\n",
              "      <td>136.045000</td>\n",
              "      <td>132.475000</td>\n",
              "      <td>134.295000</td>\n",
              "      <td>8.228500e+06</td>\n",
              "    </tr>\n",
              "    <tr>\n",
              "      <th>2010-01-06</th>\n",
              "      <td>134.760000</td>\n",
              "      <td>135.606667</td>\n",
              "      <td>132.200000</td>\n",
              "      <td>133.613333</td>\n",
              "      <td>7.879325e+06</td>\n",
              "    </tr>\n",
              "    <tr>\n",
              "      <th>2010-01-07</th>\n",
              "      <td>133.346667</td>\n",
              "      <td>134.176667</td>\n",
              "      <td>130.753333</td>\n",
              "      <td>132.313333</td>\n",
              "      <td>9.022519e+06</td>\n",
              "    </tr>\n",
              "    <tr>\n",
              "      <th>2010-01-08</th>\n",
              "      <td>132.390000</td>\n",
              "      <td>133.576667</td>\n",
              "      <td>129.826667</td>\n",
              "      <td>131.923333</td>\n",
              "      <td>9.348310e+06</td>\n",
              "    </tr>\n",
              "    <tr>\n",
              "      <th>...</th>\n",
              "      <td>...</td>\n",
              "      <td>...</td>\n",
              "      <td>...</td>\n",
              "      <td>...</td>\n",
              "      <td>...</td>\n",
              "    </tr>\n",
              "    <tr>\n",
              "      <th>2017-07-11</th>\n",
              "      <td>982.516667</td>\n",
              "      <td>991.846667</td>\n",
              "      <td>978.786667</td>\n",
              "      <td>989.786667</td>\n",
              "      <td>3.057460e+06</td>\n",
              "    </tr>\n",
              "    <tr>\n",
              "      <th>2017-07-12</th>\n",
              "      <td>992.883333</td>\n",
              "      <td>1001.326667</td>\n",
              "      <td>988.440000</td>\n",
              "      <td>999.036667</td>\n",
              "      <td>3.379189e+06</td>\n",
              "    </tr>\n",
              "    <tr>\n",
              "      <th>2017-07-13</th>\n",
              "      <td>999.423333</td>\n",
              "      <td>1003.806667</td>\n",
              "      <td>992.573333</td>\n",
              "      <td>1000.423333</td>\n",
              "      <td>3.157356e+06</td>\n",
              "    </tr>\n",
              "    <tr>\n",
              "      <th>2017-07-14</th>\n",
              "      <td>1002.556667</td>\n",
              "      <td>1006.626667</td>\n",
              "      <td>996.963333</td>\n",
              "      <td>1002.983333</td>\n",
              "      <td>2.863937e+06</td>\n",
              "    </tr>\n",
              "    <tr>\n",
              "      <th>2017-07-17</th>\n",
              "      <td>1003.903333</td>\n",
              "      <td>1008.693333</td>\n",
              "      <td>998.866667</td>\n",
              "      <td>1004.160000</td>\n",
              "      <td>2.883986e+06</td>\n",
              "    </tr>\n",
              "  </tbody>\n",
              "</table>\n",
              "<p>1896 rows × 5 columns</p>\n",
              "</div>"
            ],
            "text/plain": [
              "                   Open         High         Low        Close        Volume\n",
              "Date                                                                       \n",
              "2010-01-04   136.250000   136.610000  133.140000   133.900000  7.600543e+06\n",
              "2010-01-05   134.840000   136.045000  132.475000   134.295000  8.228500e+06\n",
              "2010-01-06   134.760000   135.606667  132.200000   133.613333  7.879325e+06\n",
              "2010-01-07   133.346667   134.176667  130.753333   132.313333  9.022519e+06\n",
              "2010-01-08   132.390000   133.576667  129.826667   131.923333  9.348310e+06\n",
              "...                 ...          ...         ...          ...           ...\n",
              "2017-07-11   982.516667   991.846667  978.786667   989.786667  3.057460e+06\n",
              "2017-07-12   992.883333  1001.326667  988.440000   999.036667  3.379189e+06\n",
              "2017-07-13   999.423333  1003.806667  992.573333  1000.423333  3.157356e+06\n",
              "2017-07-14  1002.556667  1006.626667  996.963333  1002.983333  2.863937e+06\n",
              "2017-07-17  1003.903333  1008.693333  998.866667  1004.160000  2.883986e+06\n",
              "\n",
              "[1896 rows x 5 columns]"
            ]
          },
          "metadata": {
            "tags": []
          },
          "execution_count": 80
        }
      ]
    },
    {
      "cell_type": "code",
      "metadata": {
        "id": "tcFvq6n8sI2U",
        "colab_type": "code",
        "colab": {
          "base_uri": "https://localhost:8080/",
          "height": 286
        },
        "outputId": "bccba0cc-0d49-4a5d-8af5-b6cff3c95497"
      },
      "source": [
        "stock.Open.plot()\n",
        "rolling.Open.plot()"
      ],
      "execution_count": null,
      "outputs": [
        {
          "output_type": "execute_result",
          "data": {
            "text/plain": [
              "<matplotlib.axes._subplots.AxesSubplot at 0x7f57b56098d0>"
            ]
          },
          "metadata": {
            "tags": []
          },
          "execution_count": 79
        },
        {
          "output_type": "display_data",
          "data": {
            "image/png": "[encoded data removed]",
            "text/plain": [
              "<Figure size 432x288 with 1 Axes>"
            ]
          },
          "metadata": {
            "tags": [],
            "needs_background": "light"
          }
        }
      ]
    },
    {
      "cell_type": "markdown",
      "metadata": {
        "id": "Gaps6LvIqxVk",
        "colab_type": "text"
      },
      "source": [
        "Окно каждый раз увеличивается"
      ]
    },
    {
      "cell_type": "code",
      "metadata": {
        "id": "eFKMCU8fqZLu",
        "colab_type": "code",
        "colab": {
          "base_uri": "https://localhost:8080/",
          "height": 450
        },
        "outputId": "5a91dac1-765b-401b-9a92-a96bd143f46a"
      },
      "source": [
        "expanding = stock.expanding().mean()\n",
        "expanding"
      ],
      "execution_count": null,
      "outputs": [
        {
          "output_type": "execute_result",
          "data": {
            "text/html": [
              "<div>\n",
              "<style scoped>\n",
              "    .dataframe tbody tr th:only-of-type {\n",
              "        vertical-align: middle;\n",
              "    }\n",
              "\n",
              "    .dataframe tbody tr th {\n",
              "        vertical-align: top;\n",
              "    }\n",
              "\n",
              "    .dataframe thead th {\n",
              "        text-align: right;\n",
              "    }\n",
              "</style>\n",
              "<table border=\"1\" class=\"dataframe\">\n",
              "  <thead>\n",
              "    <tr style=\"text-align: right;\">\n",
              "      <th></th>\n",
              "      <th>Open</th>\n",
              "      <th>High</th>\n",
              "      <th>Low</th>\n",
              "      <th>Close</th>\n",
              "      <th>Volume</th>\n",
              "    </tr>\n",
              "    <tr>\n",
              "      <th>Date</th>\n",
              "      <th></th>\n",
              "      <th></th>\n",
              "      <th></th>\n",
              "      <th></th>\n",
              "      <th></th>\n",
              "    </tr>\n",
              "  </thead>\n",
              "  <tbody>\n",
              "    <tr>\n",
              "      <th>2010-01-04</th>\n",
              "      <td>136.250000</td>\n",
              "      <td>136.610000</td>\n",
              "      <td>133.140000</td>\n",
              "      <td>133.900000</td>\n",
              "      <td>7.600543e+06</td>\n",
              "    </tr>\n",
              "    <tr>\n",
              "      <th>2010-01-05</th>\n",
              "      <td>134.840000</td>\n",
              "      <td>136.045000</td>\n",
              "      <td>132.475000</td>\n",
              "      <td>134.295000</td>\n",
              "      <td>8.228500e+06</td>\n",
              "    </tr>\n",
              "    <tr>\n",
              "      <th>2010-01-06</th>\n",
              "      <td>134.760000</td>\n",
              "      <td>135.606667</td>\n",
              "      <td>132.200000</td>\n",
              "      <td>133.613333</td>\n",
              "      <td>7.879325e+06</td>\n",
              "    </tr>\n",
              "    <tr>\n",
              "      <th>2010-01-07</th>\n",
              "      <td>134.072500</td>\n",
              "      <td>134.785000</td>\n",
              "      <td>131.350000</td>\n",
              "      <td>132.710000</td>\n",
              "      <td>8.667025e+06</td>\n",
              "    </tr>\n",
              "    <tr>\n",
              "      <th>2010-01-08</th>\n",
              "      <td>133.370000</td>\n",
              "      <td>134.564000</td>\n",
              "      <td>130.886000</td>\n",
              "      <td>132.872000</td>\n",
              "      <td>8.900386e+06</td>\n",
              "    </tr>\n",
              "    <tr>\n",
              "      <th>...</th>\n",
              "      <td>...</td>\n",
              "      <td>...</td>\n",
              "      <td>...</td>\n",
              "      <td>...</td>\n",
              "      <td>...</td>\n",
              "    </tr>\n",
              "    <tr>\n",
              "      <th>2017-07-11</th>\n",
              "      <td>376.749450</td>\n",
              "      <td>380.480122</td>\n",
              "      <td>372.654524</td>\n",
              "      <td>376.793171</td>\n",
              "      <td>4.534246e+06</td>\n",
              "    </tr>\n",
              "    <tr>\n",
              "      <th>2017-07-12</th>\n",
              "      <td>377.079033</td>\n",
              "      <td>380.811907</td>\n",
              "      <td>372.984923</td>\n",
              "      <td>377.125827</td>\n",
              "      <td>4.533757e+06</td>\n",
              "    </tr>\n",
              "    <tr>\n",
              "      <th>2017-07-13</th>\n",
              "      <td>377.410364</td>\n",
              "      <td>381.142460</td>\n",
              "      <td>373.313812</td>\n",
              "      <td>377.455026</td>\n",
              "      <td>4.532884e+06</td>\n",
              "    </tr>\n",
              "    <tr>\n",
              "      <th>2017-07-14</th>\n",
              "      <td>377.740174</td>\n",
              "      <td>381.471383</td>\n",
              "      <td>373.642876</td>\n",
              "      <td>377.784501</td>\n",
              "      <td>4.531602e+06</td>\n",
              "    </tr>\n",
              "    <tr>\n",
              "      <th>2017-07-17</th>\n",
              "      <td>378.070844</td>\n",
              "      <td>381.805390</td>\n",
              "      <td>373.975243</td>\n",
              "      <td>378.117969</td>\n",
              "      <td>4.531147e+06</td>\n",
              "    </tr>\n",
              "  </tbody>\n",
              "</table>\n",
              "<p>1896 rows × 5 columns</p>\n",
              "</div>"
            ],
            "text/plain": [
              "                  Open        High         Low       Close        Volume\n",
              "Date                                                                    \n",
              "2010-01-04  136.250000  136.610000  133.140000  133.900000  7.600543e+06\n",
              "2010-01-05  134.840000  136.045000  132.475000  134.295000  8.228500e+06\n",
              "2010-01-06  134.760000  135.606667  132.200000  133.613333  7.879325e+06\n",
              "2010-01-07  134.072500  134.785000  131.350000  132.710000  8.667025e+06\n",
              "2010-01-08  133.370000  134.564000  130.886000  132.872000  8.900386e+06\n",
              "...                ...         ...         ...         ...           ...\n",
              "2017-07-11  376.749450  380.480122  372.654524  376.793171  4.534246e+06\n",
              "2017-07-12  377.079033  380.811907  372.984923  377.125827  4.533757e+06\n",
              "2017-07-13  377.410364  381.142460  373.313812  377.455026  4.532884e+06\n",
              "2017-07-14  377.740174  381.471383  373.642876  377.784501  4.531602e+06\n",
              "2017-07-17  378.070844  381.805390  373.975243  378.117969  4.531147e+06\n",
              "\n",
              "[1896 rows x 5 columns]"
            ]
          },
          "metadata": {
            "tags": []
          },
          "execution_count": 81
        }
      ]
    },
    {
      "cell_type": "code",
      "metadata": {
        "id": "oCvF7Fhnslv8",
        "colab_type": "code",
        "colab": {
          "base_uri": "https://localhost:8080/",
          "height": 286
        },
        "outputId": "b20468ad-81a2-4d45-cbb6-8573aae0825a"
      },
      "source": [
        "stock.Open.plot()\n",
        "expanding.Open.plot()"
      ],
      "execution_count": null,
      "outputs": [
        {
          "output_type": "execute_result",
          "data": {
            "text/plain": [
              "<matplotlib.axes._subplots.AxesSubplot at 0x7f57b0299ba8>"
            ]
          },
          "metadata": {
            "tags": []
          },
          "execution_count": 82
        },
        {
          "output_type": "display_data",
          "data": {
            "image/png": "[encoded data removed]",
            "text/plain": [
              "<Figure size 432x288 with 1 Axes>"
            ]
          },
          "metadata": {
            "tags": [],
            "needs_background": "light"
          }
        }
      ]
    },
    {
      "cell_type": "markdown",
      "metadata": {
        "id": "EsIIFMmjq1E7",
        "colab_type": "text"
      },
      "source": [
        "Экспотенциально-взвешенное окно. Аналогично expanding window, однако для расчета значения в ячейке предыдущие значения будут уменьшены на значения alpha\n",
        "\n",
        "Alpha ∈ (0, 1). 1 - ближе к expanding, 0 - ближе к оригинальному"
      ]
    },
    {
      "cell_type": "code",
      "metadata": {
        "id": "oJ124vsZq1VK",
        "colab_type": "code",
        "colab": {
          "base_uri": "https://localhost:8080/",
          "height": 450
        },
        "outputId": "e1547b03-22e0-4a8d-9440-5ee2e8441107"
      },
      "source": [
        "ewm = stock.ewm(alpha=0.4).mean()\n",
        "ewm"
      ],
      "execution_count": null,
      "outputs": [
        {
          "output_type": "execute_result",
          "data": {
            "text/html": [
              "<div>\n",
              "<style scoped>\n",
              "    .dataframe tbody tr th:only-of-type {\n",
              "        vertical-align: middle;\n",
              "    }\n",
              "\n",
              "    .dataframe tbody tr th {\n",
              "        vertical-align: top;\n",
              "    }\n",
              "\n",
              "    .dataframe thead th {\n",
              "        text-align: right;\n",
              "    }\n",
              "</style>\n",
              "<table border=\"1\" class=\"dataframe\">\n",
              "  <thead>\n",
              "    <tr style=\"text-align: right;\">\n",
              "      <th></th>\n",
              "      <th>Open</th>\n",
              "      <th>High</th>\n",
              "      <th>Low</th>\n",
              "      <th>Close</th>\n",
              "      <th>Volume</th>\n",
              "    </tr>\n",
              "    <tr>\n",
              "      <th>Date</th>\n",
              "      <th></th>\n",
              "      <th></th>\n",
              "      <th></th>\n",
              "      <th></th>\n",
              "      <th></th>\n",
              "    </tr>\n",
              "  </thead>\n",
              "  <tbody>\n",
              "    <tr>\n",
              "      <th>2010-01-04</th>\n",
              "      <td>136.250000</td>\n",
              "      <td>136.610000</td>\n",
              "      <td>133.140000</td>\n",
              "      <td>133.900000</td>\n",
              "      <td>7.600543e+06</td>\n",
              "    </tr>\n",
              "    <tr>\n",
              "      <th>2010-01-05</th>\n",
              "      <td>134.487500</td>\n",
              "      <td>135.903750</td>\n",
              "      <td>132.308750</td>\n",
              "      <td>134.393750</td>\n",
              "      <td>8.385489e+06</td>\n",
              "    </tr>\n",
              "    <tr>\n",
              "      <th>2010-01-06</th>\n",
              "      <td>134.544898</td>\n",
              "      <td>135.304898</td>\n",
              "      <td>131.972653</td>\n",
              "      <td>133.300000</td>\n",
              "      <td>7.770942e+06</td>\n",
              "    </tr>\n",
              "    <tr>\n",
              "      <th>2010-01-07</th>\n",
              "      <td>133.379963</td>\n",
              "      <td>133.933162</td>\n",
              "      <td>130.514632</td>\n",
              "      <td>131.783456</td>\n",
              "      <td>9.268728e+06</td>\n",
              "    </tr>\n",
              "    <tr>\n",
              "      <th>2010-01-08</th>\n",
              "      <td>132.156870</td>\n",
              "      <td>133.823359</td>\n",
              "      <td>129.870708</td>\n",
              "      <td>132.536641</td>\n",
              "      <td>9.513827e+06</td>\n",
              "    </tr>\n",
              "    <tr>\n",
              "      <th>...</th>\n",
              "      <td>...</td>\n",
              "      <td>...</td>\n",
              "      <td>...</td>\n",
              "      <td>...</td>\n",
              "      <td>...</td>\n",
              "    </tr>\n",
              "    <tr>\n",
              "      <th>2017-07-11</th>\n",
              "      <td>982.556969</td>\n",
              "      <td>990.620311</td>\n",
              "      <td>976.360504</td>\n",
              "      <td>986.769160</td>\n",
              "      <td>3.158398e+06</td>\n",
              "    </tr>\n",
              "    <tr>\n",
              "      <th>2017-07-12</th>\n",
              "      <td>989.794181</td>\n",
              "      <td>997.792186</td>\n",
              "      <td>985.056302</td>\n",
              "      <td>994.665496</td>\n",
              "      <td>3.338468e+06</td>\n",
              "    </tr>\n",
              "    <tr>\n",
              "      <th>2017-07-13</th>\n",
              "      <td>995.724509</td>\n",
              "      <td>1001.427312</td>\n",
              "      <td>989.393781</td>\n",
              "      <td>997.051297</td>\n",
              "      <td>3.155389e+06</td>\n",
              "    </tr>\n",
              "    <tr>\n",
              "      <th>2017-07-14</th>\n",
              "      <td>998.394705</td>\n",
              "      <td>1002.636387</td>\n",
              "      <td>992.392269</td>\n",
              "      <td>998.954778</td>\n",
              "      <td>2.734221e+06</td>\n",
              "    </tr>\n",
              "    <tr>\n",
              "      <th>2017-07-17</th>\n",
              "      <td>1000.912823</td>\n",
              "      <td>1007.481832</td>\n",
              "      <td>996.959361</td>\n",
              "      <td>1003.388867</td>\n",
              "      <td>3.108021e+06</td>\n",
              "    </tr>\n",
              "  </tbody>\n",
              "</table>\n",
              "<p>1896 rows × 5 columns</p>\n",
              "</div>"
            ],
            "text/plain": [
              "                   Open         High         Low        Close        Volume\n",
              "Date                                                                       \n",
              "2010-01-04   136.250000   136.610000  133.140000   133.900000  7.600543e+06\n",
              "2010-01-05   134.487500   135.903750  132.308750   134.393750  8.385489e+06\n",
              "2010-01-06   134.544898   135.304898  131.972653   133.300000  7.770942e+06\n",
              "2010-01-07   133.379963   133.933162  130.514632   131.783456  9.268728e+06\n",
              "2010-01-08   132.156870   133.823359  129.870708   132.536641  9.513827e+06\n",
              "...                 ...          ...         ...          ...           ...\n",
              "2017-07-11   982.556969   990.620311  976.360504   986.769160  3.158398e+06\n",
              "2017-07-12   989.794181   997.792186  985.056302   994.665496  3.338468e+06\n",
              "2017-07-13   995.724509  1001.427312  989.393781   997.051297  3.155389e+06\n",
              "2017-07-14   998.394705  1002.636387  992.392269   998.954778  2.734221e+06\n",
              "2017-07-17  1000.912823  1007.481832  996.959361  1003.388867  3.108021e+06\n",
              "\n",
              "[1896 rows x 5 columns]"
            ]
          },
          "metadata": {
            "tags": []
          },
          "execution_count": 96
        }
      ]
    },
    {
      "cell_type": "code",
      "metadata": {
        "id": "sf9PEObJstx2",
        "colab_type": "code",
        "colab": {
          "base_uri": "https://localhost:8080/",
          "height": 286
        },
        "outputId": "16d1f31a-ac9a-44db-feac-96761a319fec"
      },
      "source": [
        "stock.Open.plot()\n",
        "ewm.Open.plot()"
      ],
      "execution_count": null,
      "outputs": [
        {
          "output_type": "execute_result",
          "data": {
            "text/plain": [
              "<matplotlib.axes._subplots.AxesSubplot at 0x7f57afe05f98>"
            ]
          },
          "metadata": {
            "tags": []
          },
          "execution_count": 97
        },
        {
          "output_type": "display_data",
          "data": {
            "image/png": "[encoded data removed]",
            "text/plain": [
              "<Figure size 432x288 with 1 Axes>"
            ]
          },
          "metadata": {
            "tags": [],
            "needs_background": "light"
          }
        }
      ]
    }
  ]
}