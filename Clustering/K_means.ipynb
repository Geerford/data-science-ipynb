{
  "nbformat": 4,
  "nbformat_minor": 0,
  "metadata": {
    "colab": {
      "name": "K-means",
      "provenance": [],
      "collapsed_sections": [],
      "authorship_tag": "ABX9TyPBhvEfgPWCtI8EuTj1FYDi",
      "include_colab_link": true
    },
    "kernelspec": {
      "name": "python3",
      "display_name": "Python 3"
    }
  },
  "cells": [
    {
      "cell_type": "markdown",
      "metadata": {
        "id": "view-in-github",
        "colab_type": "text"
      },
      "source": [
        "<a href=\"https://colab.research.google.com/github/Geerford/data-science-ipynb/blob/master/Clustering/K_means.ipynb\" target=\"_parent\"><img src=\"https://colab.research.google.com/assets/colab-badge.svg\" alt=\"Open In Colab\"/></a>"
      ]
    },
    {
      "cell_type": "markdown",
      "metadata": {
        "id": "YZ_aY_kQMYyD",
        "colab_type": "text"
      },
      "source": [
        "Подключение библиотек"
      ]
    },
    {
      "cell_type": "code",
      "metadata": {
        "id": "ExurCehXMMsj",
        "colab_type": "code",
        "colab": {}
      },
      "source": [
        "import numpy as np\n",
        "import pandas as pd\n",
        "from sklearn.cluster import KMeans"
      ],
      "execution_count": null,
      "outputs": []
    },
    {
      "cell_type": "markdown",
      "metadata": {
        "id": "Pqbr9peqgrRT",
        "colab_type": "text"
      },
      "source": [
        "Подключение gdrive"
      ]
    },
    {
      "cell_type": "code",
      "metadata": {
        "id": "dioWYv-iQD2R",
        "colab_type": "code",
        "colab": {
          "base_uri": "https://localhost:8080/",
          "height": 34
        },
        "outputId": "79572a65-5a77-4a2d-d52a-f592ed7479d4"
      },
      "source": [
        "from google.colab import drive\n",
        "drive.mount('/content/drive')"
      ],
      "execution_count": null,
      "outputs": [
        {
          "output_type": "stream",
          "text": [
            "Drive already mounted at /content/drive; to attempt to forcibly remount, call drive.mount(\"/content/drive\", force_remount=True).\n"
          ],
          "name": "stdout"
        }
      ]
    },
    {
      "cell_type": "code",
      "metadata": {
        "id": "phA61UOcRZr6",
        "colab_type": "code",
        "colab": {
          "base_uri": "https://localhost:8080/",
          "height": 34
        },
        "outputId": "47b611ca-e543-43df-e24b-fba4e23d85c0"
      },
      "source": [
        "%cd '/content/drive/My Drive/Colab Notebooks/Data Science/Clustering'"
      ],
      "execution_count": null,
      "outputs": [
        {
          "output_type": "stream",
          "text": [
            "/content/drive/My Drive/Colab Notebooks/Data Science/Clustering\n"
          ],
          "name": "stdout"
        }
      ]
    },
    {
      "cell_type": "markdown",
      "metadata": {
        "id": "N6v8bFgDMx2j",
        "colab_type": "text"
      },
      "source": [
        "Обработка данных"
      ]
    },
    {
      "cell_type": "code",
      "metadata": {
        "id": "CJyBsWhuSCqe",
        "colab_type": "code",
        "colab": {}
      },
      "source": [
        "data = pd.read_csv(\"k-means.csv\", delimiter=',', index_col='Object')\n",
        "X = data.drop('Cluster', axis=1)\n",
        "y = data['Cluster']"
      ],
      "execution_count": null,
      "outputs": []
    },
    {
      "cell_type": "markdown",
      "metadata": {
        "id": "pzIxFrW8v5Bt",
        "colab_type": "text"
      },
      "source": [
        "Обучение модели. n_init - количество запуска алгоритма с разными сидами центроидов"
      ]
    },
    {
      "cell_type": "code",
      "metadata": {
        "id": "ghjWsCCMgojU",
        "colab_type": "code",
        "colab": {
          "base_uri": "https://localhost:8080/",
          "height": 119
        },
        "outputId": "4166464b-f617-4c94-db10-bed58a169740"
      },
      "source": [
        "init_centroids = np.array([[11.6, 12.4], [12.13, 9.13], [1.5, 18.0]])\n",
        "model = KMeans(n_clusters=3, init=init_centroids, max_iter=100, n_init=1)\n",
        "model.fit(X)"
      ],
      "execution_count": null,
      "outputs": [
        {
          "output_type": "execute_result",
          "data": {
            "text/plain": [
              "KMeans(algorithm='auto', copy_x=True,\n",
              "       init=array([[11.6 , 12.4 ],\n",
              "       [12.13,  9.13],\n",
              "       [ 1.5 , 18.  ]]),\n",
              "       max_iter=100, n_clusters=3, n_init=1, n_jobs=None,\n",
              "       precompute_distances='auto', random_state=None, tol=0.0001, verbose=0)"
            ]
          },
          "metadata": {
            "tags": []
          },
          "execution_count": 5
        }
      ]
    },
    {
      "cell_type": "markdown",
      "metadata": {
        "id": "VHmftCPGx6mm",
        "colab_type": "text"
      },
      "source": [
        "Расстояние от данных до всех центроидов"
      ]
    },
    {
      "cell_type": "code",
      "metadata": {
        "id": "6i9MT04SxYd2",
        "colab_type": "code",
        "colab": {
          "base_uri": "https://localhost:8080/",
          "height": 289
        },
        "outputId": "84c7e6f7-4ba9-4680-9c5c-0b43cda7613d"
      },
      "source": [
        "print('All distances: \\n{}'.format(model.fit_transform(X)))"
      ],
      "execution_count": null,
      "outputs": [
        {
          "output_type": "stream",
          "text": [
            "All distances: \n",
            "[[ 1.01379376  9.26350366 12.98768648]\n",
            " [ 1.53659074  7.40354645 13.8014492 ]\n",
            " [14.70921858 18.91593244  6.31506136]\n",
            " [ 7.12000312 14.67353059 11.37013632]\n",
            " [13.44226337 13.20274593  2.80713377]\n",
            " [13.17931882 16.81703006  4.20475921]\n",
            " [11.51930746  9.76281209  5.5569776 ]\n",
            " [ 4.32370726  7.16327439  8.83628881]\n",
            " [ 5.06896878  3.28823661 12.39677377]\n",
            " [ 8.08462189  1.52069063 15.38440769]\n",
            " [ 2.94863434  6.73145601 14.82160585]\n",
            " [ 7.09655629  1.95256242 14.96930192]\n",
            " [13.30517861  5.36772764 15.33883959]\n",
            " [14.40003858 14.15317985  3.04630924]\n",
            " [ 4.62180821  7.7014609  16.81903683]]\n"
          ],
          "name": "stdout"
        }
      ]
    },
    {
      "cell_type": "markdown",
      "metadata": {
        "id": "k7LqqwPJyrQd",
        "colab_type": "text"
      },
      "source": [
        "Полученные классы всех объектов"
      ]
    },
    {
      "cell_type": "code",
      "metadata": {
        "id": "NIjTfVHEyrh-",
        "colab_type": "code",
        "colab": {
          "base_uri": "https://localhost:8080/",
          "height": 34
        },
        "outputId": "b85c9285-acda-4460-b31c-418909f2d3fc"
      },
      "source": [
        "print('Labels for each object: {}'.format(model.labels_))"
      ],
      "execution_count": null,
      "outputs": [
        {
          "output_type": "stream",
          "text": [
            "Labels for each object: [0 0 2 0 2 2 2 0 1 1 0 1 1 2 0]\n"
          ],
          "name": "stdout"
        }
      ]
    },
    {
      "cell_type": "markdown",
      "metadata": {
        "id": "poztuly2y2OS",
        "colab_type": "text"
      },
      "source": [
        "Финальные координаты центроидов"
      ]
    },
    {
      "cell_type": "code",
      "metadata": {
        "id": "p5SvRtsQkwYW",
        "colab_type": "code",
        "colab": {
          "base_uri": "https://localhost:8080/",
          "height": 85
        },
        "outputId": "c928017b-0132-4312-8fd1-e4a49b9bd7ed"
      },
      "source": [
        "print('Centroids: \\n{}'.format(model.cluster_centers_))"
      ],
      "execution_count": null,
      "outputs": [
        {
          "output_type": "stream",
          "text": [
            "Centroids: \n",
            "[[14.83333333 14.        ]\n",
            " [14.5         5.75      ]\n",
            " [ 2.2        12.8       ]]\n"
          ],
          "name": "stdout"
        }
      ]
    }
  ]
}