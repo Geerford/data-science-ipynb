{
  "nbformat": 4,
  "nbformat_minor": 0,
  "metadata": {
    "colab": {
      "name": "Reinforement learning",
      "provenance": [],
      "collapsed_sections": [],
      "include_colab_link": true
    },
    "kernelspec": {
      "name": "python3",
      "display_name": "Python 3"
    }
  },
  "cells": [
    {
      "cell_type": "markdown",
      "metadata": {
        "id": "view-in-github",
        "colab_type": "text"
      },
      "source": [
        "<a href=\"https://colab.research.google.com/github/Geerford/data-science-ipynb/blob/master/Reinforcement%20learning/Reinforement_learning.ipynb\" target=\"_parent\"><img src=\"https://colab.research.google.com/assets/colab-badge.svg\" alt=\"Open In Colab\"/></a>"
      ]
    },
    {
      "cell_type": "markdown",
      "metadata": {
        "id": "tIkoW5Nte1qZ",
        "colab_type": "text"
      },
      "source": [
        "Подключение необходимых библиотек"
      ]
    },
    {
      "cell_type": "code",
      "metadata": {
        "id": "VUzDtlyoe4g3",
        "colab_type": "code",
        "colab": {}
      },
      "source": [
        "import gym\n",
        "import numpy as np\n",
        "import time\n",
        "import matplotlib.pyplot as plt\n",
        "from IPython.display import clear_output\n",
        "from tqdm import tqdm"
      ],
      "execution_count": null,
      "outputs": []
    },
    {
      "cell_type": "markdown",
      "metadata": {
        "id": "ZDQzNIZXAoFE",
        "colab_type": "text"
      },
      "source": [
        "Параметры"
      ]
    },
    {
      "cell_type": "code",
      "metadata": {
        "id": "NOMw2ZbOAmOZ",
        "colab_type": "code",
        "colab": {}
      },
      "source": [
        "epsilon = 0.1 # Параметр ε-жадной стратегии\n",
        "gamma = 0.8 # Коэффциент дисконтирования\n",
        "random_seed = 2020\n",
        "learning_rate = 0.9\n",
        "map_size = 6\n",
        "frozen_prob = 0.8\n",
        "total_games = 30000\n",
        "max_steps = 100"
      ],
      "execution_count": null,
      "outputs": []
    },
    {
      "cell_type": "markdown",
      "metadata": {
        "id": "d4xSzbn3myT3",
        "colab_type": "text"
      },
      "source": [
        "Поиск в глубину (Depth-first search). Проверка пути"
      ]
    },
    {
      "cell_type": "code",
      "metadata": {
        "id": "MP4qwWfcmyqb",
        "colab_type": "code",
        "colab": {}
      },
      "source": [
        "def is_valid(res, size):\n",
        "  frontier, discovered = [], set()\n",
        "  frontier.append((0,0))\n",
        "  while frontier:\n",
        "    r, c = frontier.pop()\n",
        "    if not (r,c) in discovered:\n",
        "      discovered.add((r,c))\n",
        "      directions = [(1, 0), (0, 1), (-1, 0), (0, -1)]\n",
        "      for x, y in directions:\n",
        "        r_new = r + x\n",
        "        c_new = c + y\n",
        "        if r_new < 0 or r_new >= size or c_new < 0 or c_new >= size:\n",
        "            continue\n",
        "        if res[r_new][c_new] == 'G':\n",
        "            return True\n",
        "        if (res[r_new][c_new] not in '#H'):\n",
        "              frontier.append((r_new, c_new))\n",
        "  return False"
      ],
      "execution_count": null,
      "outputs": []
    },
    {
      "cell_type": "markdown",
      "metadata": {
        "id": "pQu5IYHX8jId",
        "colab_type": "text"
      },
      "source": [
        "Генерация карты. \n",
        "Параметр *p* - вероятность льдистой ячейки.\n",
        "Параметр *is_slippery* - скольжение.\n",
        "*   *S* - старт\n",
        "*   *F* - лед (безопасная ячейка)\n",
        "*   *H* - проталина (нет пути)\n",
        "*   *G* - цель"
      ]
    },
    {
      "cell_type": "code",
      "metadata": {
        "id": "awL7CCCwD6C3",
        "colab_type": "code",
        "colab": {
          "base_uri": "https://localhost:8080/",
          "height": 136
        },
        "outputId": "8ef18ef6-84ee-4678-9c85-9db7d89ffc96"
      },
      "source": [
        "def generate_random_map(size, p):\n",
        "  np.random.seed(random_seed)\n",
        "  valid = False\n",
        "  while not valid:\n",
        "    p = min(1, p)\n",
        "    res = np.random.choice(['F', 'H'], (size, size), p=[p, 1-p])\n",
        "    res[0][0] = 'S'\n",
        "    res[-1][-1] = 'G'\n",
        "    valid = is_valid(res, size)\n",
        "  return [''.join(x) for x in res]\n",
        "\n",
        "random_map = generate_random_map(size=map_size, p=frozen_prob) #Генерация карты\n",
        "env = gym.make('FrozenLake-v0', desc=random_map, is_slippery=False) #Инициализируем среду\n",
        "env.render()"
      ],
      "execution_count": null,
      "outputs": [
        {
          "output_type": "stream",
          "text": [
            "\n",
            "\u001b[41mS\u001b[0mHFFFF\n",
            "FFHFFF\n",
            "FFFFFF\n",
            "FFHFFH\n",
            "FFFFFF\n",
            "FHFFHG\n"
          ],
          "name": "stdout"
        }
      ]
    },
    {
      "cell_type": "markdown",
      "metadata": {
        "id": "D5TbDqn6G_Pt",
        "colab_type": "text"
      },
      "source": [
        "Выбор действия, алгоритмы обучения\n",
        "\n"
      ]
    },
    {
      "cell_type": "code",
      "metadata": {
        "id": "CdQBpxaTOK7u",
        "colab_type": "code",
        "colab": {}
      },
      "source": [
        "def choose_action(state, Q):\n",
        "  action = 0\n",
        "  if np.random.uniform(0, 1) < epsilon:\n",
        "    action = env.action_space.sample()\n",
        "  else:\n",
        "    action = np.random.choice(np.array(np.argwhere(Q[state, :] == np.amax(Q[state, :])).flatten().tolist()))\n",
        "  return action\n",
        "\n",
        "def q_learn(state, state2, reward, action, done, Q):\n",
        "  if done:\n",
        "    Q[state, action] += learning_rate * (reward - Q[state, action])\n",
        "  else:\n",
        "    Q[state, action] += learning_rate * (reward + gamma * np.max(Q[state2]) - Q[state, action])\n",
        "  return Q\n",
        "\n",
        "def sarsa_learn(state, state2, reward, action, action2, done, Q):\n",
        "  if done:\n",
        "    Q[state, action] += learning_rate * (reward - Q[state, action])\n",
        "  else:\n",
        "    Q[state, action] += learning_rate * (reward + gamma * Q[state2, action2] - Q[state, action])\n",
        "  return Q"
      ],
      "execution_count": null,
      "outputs": []
    },
    {
      "cell_type": "markdown",
      "metadata": {
        "id": "gK0-FyktuqUR",
        "colab_type": "text"
      },
      "source": [
        "Q-обучение и SARSA-алгоритм"
      ]
    },
    {
      "cell_type": "code",
      "metadata": {
        "id": "apVuXbR_usJ5",
        "colab_type": "code",
        "colab": {}
      },
      "source": [
        "def q_simulate(total_games, max_steps):\n",
        "  np.random.seed(random_seed)\n",
        "  Q = np.zeros((env.observation_space.n, env.action_space.n))\n",
        "  win = 0\n",
        "  win_streaks = []\n",
        "  for game in tqdm(range(total_games)):\n",
        "    state = env.reset()\n",
        "    step = 0\n",
        "    while step < max_steps:\n",
        "      step += 1\n",
        "      action = choose_action(state, Q)\n",
        "      state2, reward, done, info = env.step(action)\n",
        "      if step == max_steps:\n",
        "        done = True  \n",
        "      Q = q_learn(state, state2, reward, action, done, Q)\n",
        "      state = state2\n",
        "      if done:\n",
        "        if reward == 1:\n",
        "          win += 1\n",
        "        else:\n",
        "          if win > 0:\n",
        "            win_streaks.append(win)\n",
        "          win = 0\n",
        "        break\n",
        "  return Q, win, win_streaks\n",
        "\n",
        "def sarsa_simulate(total_games, max_steps):\n",
        "  np.random.seed(random_seed)\n",
        "  Q = np.zeros((env.observation_space.n, env.action_space.n))\n",
        "  win = 0\n",
        "  win_streaks = []\n",
        "  for game in tqdm(range(total_games)):\n",
        "    state = env.reset()\n",
        "    step = 0\n",
        "    action = choose_action(state, Q) # Выбор действия в начале каждой игры\n",
        "    while step < max_steps:\n",
        "      step += 1      \n",
        "      state2, reward, done, info = env.step(action)\n",
        "      action2 = choose_action(state2, Q) # Выбор действия для следующего шага игры и для обновления ценности совершенного действия\n",
        "      if step == max_steps:\n",
        "        done = True  \n",
        "      Q = sarsa_learn(state, state2, reward, action, action2, done, Q)\n",
        "      state = state2\n",
        "      action = action2\n",
        "      if done:\n",
        "        if reward == 1:\n",
        "          win += 1\n",
        "        else:\n",
        "          if win > 0:\n",
        "            win_streaks.append(win)\n",
        "          win = 0\n",
        "        break\n",
        "  return Q, win, win_streaks"
      ],
      "execution_count": null,
      "outputs": []
    },
    {
      "cell_type": "markdown",
      "metadata": {
        "id": "nazZaAbwQGBt",
        "colab_type": "text"
      },
      "source": [
        "Получение состояний одной игры. Применяется жадный выбор действий, при учете обученной модели"
      ]
    },
    {
      "cell_type": "code",
      "metadata": {
        "id": "5ysllZjEQXLa",
        "colab_type": "code",
        "colab": {}
      },
      "source": [
        "def choose_action_one_game(state, Q):\n",
        "    action = np.random.choice(np.array(np.argwhere(Q[state, :] == np.amax(Q[state, :])).flatten().tolist()))\n",
        "    return action\n",
        "\n",
        "def get_state(Q):\n",
        "  states = []\n",
        "  step = 0\n",
        "  state = env.reset()\n",
        "  while(step < max_steps):\n",
        "    env.render()\n",
        "    time.sleep(0.1)\n",
        "    clear_output(wait=True)\n",
        "    action = choose_action_one_game(state, Q)  \n",
        "    state2, reward, done, info = env.step(action)  \n",
        "    states.append(state)\n",
        "    state = state2\n",
        "    step += 1\n",
        "    if done and reward == 1:\n",
        "      states.append(state)\n",
        "    if done:\n",
        "      break\n",
        "  return states"
      ],
      "execution_count": null,
      "outputs": []
    },
    {
      "cell_type": "markdown",
      "metadata": {
        "id": "x696NulpReFI",
        "colab_type": "text"
      },
      "source": [
        "Отрисовка маршрута игры"
      ]
    },
    {
      "cell_type": "code",
      "metadata": {
        "id": "UKMCMdpOTcXy",
        "colab_type": "code",
        "colab": {}
      },
      "source": [
        "def make_maze_pic(maze):\n",
        "  maze_pic = []\n",
        "  for i in range(len(maze)):\n",
        "    row = []\n",
        "    for j in range(len(maze[i])):\n",
        "      if maze[i][j] == 'S':\n",
        "        row.append(0)\n",
        "      if maze[i][j] == 'F':\n",
        "        row.append(0)\n",
        "      if maze[i][j] == 'H':\n",
        "        row.append(1)\n",
        "      if maze[i][j] == 'G':\n",
        "        row.append(1)\n",
        "    maze_pic.append(row)\n",
        "  maze_pic = np.array(maze_pic)\n",
        "  return maze_pic\n",
        "  \n",
        "def plot_path(states):\n",
        "  maze_pic = make_maze_pic(random_map)\n",
        "  nrows, ncols = maze_pic.shape\n",
        "  rw = np.remainder(states, nrows)\n",
        "  cl = np.floor_divide(states, nrows)\n",
        "\n",
        "  # Отрисовка пути\n",
        "  fig, ax1 = plt.subplots(1, 1, tight_layout=True)\n",
        "  ax1.clear()\n",
        "  ax1.set_xticks(np.arange(0.5, nrows, step=1))\n",
        "  ax1.set_xticklabels([])\n",
        "  ax1.set_yticks(np.arange(0.5, ncols, step=1))\n",
        "  ax1.set_yticklabels([])\n",
        "  ax1.grid(True)\n",
        "  ax1.plot([0], [0], 'gs', markersize=40)\n",
        "  ax1.text(0, 0.2, 'Start', ha='center', va='center', color='white', fontsize=12)\n",
        "  ax1.plot([nrows-1], [ncols-1], 'rs', markersize=40)\n",
        "  ax1.text(nrows-1, ncols-1+0.2,'Finish', ha='center', va='center', color='white', fontsize=12)\n",
        "  ax1.plot(rw, cl, ls='-', color='blue')\n",
        "  ax1.plot(rw, cl, 'bo')\n",
        "  ax1.imshow(maze_pic, cmap='binary')"
      ],
      "execution_count": null,
      "outputs": []
    },
    {
      "cell_type": "markdown",
      "metadata": {
        "id": "PzaLvT1K3BmF",
        "colab_type": "text"
      },
      "source": [
        "Симуляция Q-обучения"
      ]
    },
    {
      "cell_type": "code",
      "metadata": {
        "id": "aq92-dWiOchF",
        "colab_type": "code",
        "colab": {
          "base_uri": "https://localhost:8080/",
          "height": 348
        },
        "outputId": "0f89b0ec-74d2-4942-a56c-ca51afd55363"
      },
      "source": [
        "Q, win, win_streaks = q_simulate(total_games, max_steps)\n",
        "plot_path(get_state(Q))\n",
        "print('Количество побед в серии из {} игр: {}'.format(total_games, sum(win_streaks)))\n",
        "print('Самый большой вин-стрик: {}'.format(max(win_streaks)))\n",
        "print('Симуляция игры после обучения')"
      ],
      "execution_count": null,
      "outputs": [
        {
          "output_type": "stream",
          "text": [
            "Количество побед в серии из 30000 игр: 21924\n",
            "Самый большой вин-стрик: 46\n",
            "Симуляция игры после обучения\n"
          ],
          "name": "stdout"
        },
        {
          "output_type": "display_data",
          "data": {
            "image/png": "[encoded data removed]",
            "text/plain": [
              "<Figure size 432x288 with 1 Axes>"
            ]
          },
          "metadata": {
            "tags": [],
            "needs_background": "light"
          }
        }
      ]
    },
    {
      "cell_type": "markdown",
      "metadata": {
        "id": "2ekCMw0e8L5l",
        "colab_type": "text"
      },
      "source": [
        "Симуляция SARSA-алгоритма"
      ]
    },
    {
      "cell_type": "code",
      "metadata": {
        "id": "VvBzBhm58MNG",
        "colab_type": "code",
        "colab": {
          "base_uri": "https://localhost:8080/",
          "height": 348
        },
        "outputId": "fcdd9b10-098b-4a41-b8cd-b0ed9721c3c3"
      },
      "source": [
        "Q, win, win_streaks = sarsa_simulate(total_games, max_steps)\n",
        "plot_path(get_state(Q))\n",
        "print('Количество побед в серии из {} игр: {}'.format(total_games, sum(win_streaks)))\n",
        "print('Самый большой вин-стрик: {}'.format(max(win_streaks)))\n",
        "print('Симуляция игры после обучения')"
      ],
      "execution_count": null,
      "outputs": [
        {
          "output_type": "stream",
          "text": [
            "Количество побед в серии из 30000 игр: 19907\n",
            "Самый большой вин-стрик: 53\n",
            "Симуляция игры после обучения\n"
          ],
          "name": "stdout"
        },
        {
          "output_type": "display_data",
          "data": {
            "image/png": "[encoded data removed]",
            "text/plain": [
              "<Figure size 432x288 with 1 Axes>"
            ]
          },
          "metadata": {
            "tags": [],
            "needs_background": "light"
          }
        }
      ]
    }
  ]
}