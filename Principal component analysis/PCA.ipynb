{
  "nbformat": 4,
  "nbformat_minor": 0,
  "metadata": {
    "colab": {
      "name": "PCA",
      "provenance": [],
      "collapsed_sections": [],
      "toc_visible": true,
      "authorship_tag": "ABX9TyOpiuVk+cdYIYXTv71fQ70n",
      "include_colab_link": true
    },
    "kernelspec": {
      "name": "python3",
      "display_name": "Python 3"
    }
  },
  "cells": [
    {
      "cell_type": "markdown",
      "metadata": {
        "id": "view-in-github",
        "colab_type": "text"
      },
      "source": [
        "<a href=\"https://colab.research.google.com/github/Geerford/data-science-ipynb/blob/master/Principal%20component%20analysis/PCA.ipynb\" target=\"_parent\"><img src=\"https://colab.research.google.com/assets/colab-badge.svg\" alt=\"Open In Colab\"/></a>"
      ]
    },
    {
      "cell_type": "markdown",
      "metadata": {
        "id": "3bDn_VdZ99B5",
        "colab_type": "text"
      },
      "source": [
        "Подключение базовых библиотек"
      ]
    },
    {
      "cell_type": "code",
      "metadata": {
        "id": "Xjo7g2LN9HZo",
        "colab_type": "code",
        "colab": {}
      },
      "source": [
        "import numpy as np\n",
        "import pandas as pd\n",
        "import matplotlib.pyplot as plt\n",
        "from sklearn.decomposition import PCA"
      ],
      "execution_count": null,
      "outputs": []
    },
    {
      "cell_type": "markdown",
      "metadata": {
        "id": "bPsgmLtYNU2f",
        "colab_type": "text"
      },
      "source": [
        "Подключим gdrive"
      ]
    },
    {
      "cell_type": "code",
      "metadata": {
        "id": "x-6VzC_E93iB",
        "colab_type": "code",
        "colab": {
          "base_uri": "https://localhost:8080/",
          "height": 122
        },
        "outputId": "4bd52db9-93a6-464c-e20e-28b028257ea4"
      },
      "source": [
        "from google.colab import drive\n",
        "drive.mount('/content/drive')"
      ],
      "execution_count": null,
      "outputs": [
        {
          "output_type": "stream",
          "text": [
            "Go to this URL in a browser: https://accounts.google.com/o/oauth2/auth?client_id=947318989803-6bn6qk8qdgf4n4g3pfee6491hc0brc4i.apps.googleusercontent.com&redirect_uri=urn%3aietf%3awg%3aoauth%3a2.0%3aoob&response_type=code&scope=email%20https%3a%2f%2fwww.googleapis.com%2fauth%2fdocs.test%20https%3a%2f%2fwww.googleapis.com%2fauth%2fdrive%20https%3a%2f%2fwww.googleapis.com%2fauth%2fdrive.photos.readonly%20https%3a%2f%2fwww.googleapis.com%2fauth%2fpeopleapi.readonly\n",
            "\n",
            "Enter your authorization code:\n",
            "··········\n",
            "Mounted at /content/drive\n"
          ],
          "name": "stdout"
        }
      ]
    },
    {
      "cell_type": "code",
      "metadata": {
        "id": "eYINjZRZ-Dmf",
        "colab_type": "code",
        "colab": {
          "base_uri": "https://localhost:8080/",
          "height": 34
        },
        "outputId": "132961a7-5d9d-4fd3-c370-65d6d1cc903e"
      },
      "source": [
        "%cd '/content/drive/My Drive/Colab Notebooks/Data Science/Principal component analysis'"
      ],
      "execution_count": null,
      "outputs": [
        {
          "output_type": "stream",
          "text": [
            "/content/drive/My Drive/Colab Notebooks/Data Science/Principal component analysis\n"
          ],
          "name": "stdout"
        }
      ]
    },
    {
      "cell_type": "markdown",
      "metadata": {
        "id": "uDvSyWv8Gjwq",
        "colab_type": "text"
      },
      "source": [
        "#Уменьшение размерности"
      ]
    },
    {
      "cell_type": "markdown",
      "metadata": {
        "id": "ThB5hLik-Vu-",
        "colab_type": "text"
      },
      "source": [
        "Считываем датасет"
      ]
    },
    {
      "cell_type": "code",
      "metadata": {
        "id": "hZ8cvgUr-SAX",
        "colab_type": "code",
        "colab": {}
      },
      "source": [
        "df = pd.read_csv('mgk.csv', header=None)"
      ],
      "execution_count": null,
      "outputs": []
    },
    {
      "cell_type": "markdown",
      "metadata": {
        "id": "Bu5cg5vEB74H",
        "colab_type": "text"
      },
      "source": [
        "Уменьшение размерности. Параметр svd_solver отвечает за метод оптимизации,  n_components - количество главных компонент.\n",
        "`X_transformed` - ndarray объектов, где каждый объект описывается заданным ранее числом главных компонент (в данном случае 2)"
      ]
    },
    {
      "cell_type": "code",
      "metadata": {
        "id": "sowMDdQ-9sP8",
        "colab_type": "code",
        "colab": {
          "base_uri": "https://localhost:8080/",
          "height": 1000
        },
        "outputId": "ca642536-4b1e-4b50-dcea-067e0418923b"
      },
      "source": [
        "pca = PCA(n_components=2, svd_solver='full')\n",
        "X_transformed = pca.fit(df).transform(df)\n",
        "print(X_transformed)"
      ],
      "execution_count": null,
      "outputs": [
        {
          "output_type": "stream",
          "text": [
            "[[ 22.90768784 -14.30123929]\n",
            " [-16.06897804  35.65216288]\n",
            " [ 35.92512747   5.44744293]\n",
            " [ 33.9576993    6.09042439]\n",
            " [-15.22324272  39.89044149]\n",
            " [ -8.3396631   -3.87608347]\n",
            " [-14.91049858  37.41457292]\n",
            " [-11.60687177  -5.50019527]\n",
            " [-12.56536097  -7.08884825]\n",
            " [ -9.74808826  -3.84952392]\n",
            " [ -9.34548701  -4.44152189]\n",
            " [ 35.88344391   7.27968896]\n",
            " [-32.06163215 -22.5208281 ]\n",
            " [-16.49542103  39.38373475]\n",
            " [-10.85727582  -3.87940321]\n",
            " [ 24.15207816 -13.86464394]\n",
            " [ 35.79449726   6.47490327]\n",
            " [-30.91190764 -25.75949219]\n",
            " [-31.29578077 -24.2950086 ]\n",
            " [-10.49217308  -5.04555461]\n",
            " [-17.05049705  39.79978691]\n",
            " [-32.31482456 -23.21485318]\n",
            " [-32.147156   -23.66918643]\n",
            " [ -7.82538011  -3.7779587 ]\n",
            " [-14.80939139  36.40596374]\n",
            " [ 33.78834984   7.78888236]\n",
            " [-18.05695826  38.86565033]\n",
            " [ 34.61485076   4.99844035]\n",
            " [ 24.08031487 -18.53742438]\n",
            " [ 37.89698436   5.65084362]\n",
            " [-34.22323108 -22.03353381]\n",
            " [ 30.09345431   5.25611849]\n",
            " [ 23.78115086 -17.23849214]\n",
            " [ 33.94138532   2.63390951]\n",
            " [ 33.61258916   4.46608288]\n",
            " [-11.5993699   -2.95775447]\n",
            " [-11.2887535   -6.46912275]\n",
            " [-30.29714646 -22.17659517]\n",
            " [ 25.04705875 -17.20413392]\n",
            " [ 31.94620191   5.27405377]\n",
            " [-34.45767908 -23.89705177]\n",
            " [-31.3783155  -21.37295348]\n",
            " [ 27.32731519 -15.93647467]\n",
            " [-33.57813409 -23.92072696]\n",
            " [ 25.12794862 -15.91048916]\n",
            " [ 33.2029199    7.78564963]\n",
            " [ 24.78980923 -14.80735598]\n",
            " [ 25.55866397 -15.24037718]\n",
            " [-15.28826681  39.33120748]\n",
            " [-33.73687181 -23.16187667]\n",
            " [ 23.13089721 -15.29304955]\n",
            " [-18.14149495  37.65042153]\n",
            " [-16.60452054  37.08630265]\n",
            " [ 24.63003666 -14.258199  ]\n",
            " [-15.41831455  38.84159573]\n",
            " [-16.20756348  37.70815277]\n",
            " [-11.75392368  -6.80134574]\n",
            " [-32.16790409 -23.75209587]\n",
            " [ 25.23419713 -15.37881223]\n",
            " [ -8.15658412  -5.74422741]]\n"
          ],
          "name": "stdout"
        }
      ]
    },
    {
      "cell_type": "markdown",
      "metadata": {
        "id": "7TIwiQhEDNZg",
        "colab_type": "text"
      },
      "source": [
        "Изображение 60 объектов на диаграмме рассеивания"
      ]
    },
    {
      "cell_type": "code",
      "metadata": {
        "id": "01Cbg-9ADM8L",
        "colab_type": "code",
        "colab": {
          "base_uri": "https://localhost:8080/",
          "height": 282
        },
        "outputId": "31fe4077-6a07-4468-e1ce-b5266e21a494"
      },
      "source": [
        "plt.scatter(X_transformed[:60, 0], X_transformed[:60, 1], edgecolor='none', s=30, cmap='winter')"
      ],
      "execution_count": null,
      "outputs": [
        {
          "output_type": "execute_result",
          "data": {
            "text/plain": [
              "<matplotlib.collections.PathCollection at 0x7f39075455f8>"
            ]
          },
          "metadata": {
            "tags": []
          },
          "execution_count": 6
        },
        {
          "output_type": "display_data",
          "data": {
            "image/png": "[encoded data removed]",
            "text/plain": [
              "<Figure size 432x288 with 1 Axes>"
            ]
          },
          "metadata": {
            "tags": [],
            "needs_background": "light"
          }
        }
      ]
    },
    {
      "cell_type": "markdown",
      "metadata": {
        "id": "H7zfcuAQEFot",
        "colab_type": "text"
      },
      "source": [
        "Доля объясненной дисперсии от количества используемых главных компонент"
      ]
    },
    {
      "cell_type": "code",
      "metadata": {
        "id": "ayeLAPV6EFzh",
        "colab_type": "code",
        "colab": {
          "base_uri": "https://localhost:8080/",
          "height": 51
        },
        "outputId": "67ba3685-0414-405d-8b10-884dcf3f6d7a"
      },
      "source": [
        "explained_variance = np.round(np.cumsum(pca.explained_variance_ratio_), 3)\n",
        "print(explained_variance)\n",
        "print(explained_variance[-1])"
      ],
      "execution_count": null,
      "outputs": [
        {
          "output_type": "stream",
          "text": [
            "[0.459 0.79 ]\n",
            "0.79\n"
          ],
          "name": "stdout"
        }
      ]
    },
    {
      "cell_type": "markdown",
      "metadata": {
        "id": "mihu4weKFr7r",
        "colab_type": "text"
      },
      "source": [
        "График зависимости доли объясненной дисперсии от количества главных компонент\n"
      ]
    },
    {
      "cell_type": "code",
      "metadata": {
        "id": "1o6D8reXFslv",
        "colab_type": "code",
        "colab": {
          "base_uri": "https://localhost:8080/",
          "height": 282
        },
        "outputId": "58f07fde-282e-489a-ad47-3d821e37af23"
      },
      "source": [
        "plt.plot(np.arange(2), explained_variance, ls = '-')"
      ],
      "execution_count": null,
      "outputs": [
        {
          "output_type": "execute_result",
          "data": {
            "text/plain": [
              "[<matplotlib.lines.Line2D at 0x7f3907027d30>]"
            ]
          },
          "metadata": {
            "tags": []
          },
          "execution_count": 8
        },
        {
          "output_type": "display_data",
          "data": {
            "image/png": "[encoded data removed]",
            "text/plain": [
              "<Figure size 432x288 with 1 Axes>"
            ]
          },
          "metadata": {
            "tags": [],
            "needs_background": "light"
          }
        }
      ]
    },
    {
      "cell_type": "markdown",
      "metadata": {
        "id": "YXx6OMJVFVjZ",
        "colab_type": "text"
      },
      "source": [
        "Повторим эксперимент для 10 главных компонент"
      ]
    },
    {
      "cell_type": "code",
      "metadata": {
        "colab_type": "code",
        "id": "X9nAZ0erFQPI",
        "colab": {
          "base_uri": "https://localhost:8080/",
          "height": 1000
        },
        "outputId": "ece27819-7ae7-4344-ff59-a8492c4ae589"
      },
      "source": [
        "pca = PCA(n_components=10, svd_solver='full')\n",
        "X_transformed = pca.fit(df).transform(df)\n",
        "print(X_transformed)"
      ],
      "execution_count": null,
      "outputs": [
        {
          "output_type": "stream",
          "text": [
            "[[ 2.29076878e+01 -1.43012393e+01 -8.60588282e+00  1.26818103e+01\n",
            "   1.61360306e+00  1.23067498e-01  9.22777624e-01 -5.61956635e-01\n",
            "   1.04879661e+00 -7.19294055e-01]\n",
            " [-1.60689780e+01  3.56521629e+01 -8.22307703e+00  2.07503194e+00\n",
            "   8.67072105e-02  2.29277062e+00 -1.14523069e+00 -3.82480176e-01\n",
            "  -1.21680371e+00 -2.63409859e-01]\n",
            " [ 3.59251275e+01  5.44744293e+00  2.60693510e-01 -1.34791688e+01\n",
            "  -2.60477995e+00 -7.88742230e-01  8.30012140e-02  1.31634708e+00\n",
            "  -3.70417621e-01  2.95683464e-01]\n",
            " [ 3.39576993e+01  6.09042439e+00 -1.48145072e+00 -1.52562098e+01\n",
            "  -1.67587284e+00 -4.10426982e-01  9.59442696e-01  1.53840770e+00\n",
            "  -1.66888207e+00 -1.31174394e+00]\n",
            " [-1.52232427e+01  3.98904415e+01 -8.47086641e+00  3.92893676e+00\n",
            "  -1.94394141e+00 -1.64609893e+00  1.70985933e+00 -5.81570974e-01\n",
            "  -4.76952991e-01 -1.24033690e+00]\n",
            " [-8.33966310e+00 -3.87608347e+00  2.48419821e+01  7.00143763e-01\n",
            "  -1.90297412e+00  1.66028991e+00 -3.32790257e+00  5.45532899e-01\n",
            "   5.04003095e-01 -2.28068311e+00]\n",
            " [-1.49104986e+01  3.74145729e+01 -7.68753336e+00  4.34941543e+00\n",
            "  -2.02975554e+00 -4.91362341e-02  2.02209313e+00 -7.44056978e-01\n",
            "   3.19893998e+00  5.51013784e-01]\n",
            " [-1.16068718e+01 -5.50019527e+00  2.93827940e+01  1.44753905e+00\n",
            "  -2.34035617e-01  6.56404608e-01  9.69653639e-01  1.44613856e+00\n",
            "  -5.65513084e-02  2.81626472e+00]\n",
            " [-1.25653610e+01 -7.08884825e+00  2.60676056e+01  3.30308680e+00\n",
            "  -1.92869149e+00 -2.35406455e+00  5.94336289e-01  7.83038125e-01\n",
            "  -1.22060438e+00  7.07343510e-01]\n",
            " [-9.74808826e+00 -3.84952392e+00  2.63355330e+01  3.59842131e+00\n",
            "  -1.95106391e+00  1.27965384e+00 -7.36719618e-01 -1.32357345e+00\n",
            "   1.30763942e+00  8.50649448e-01]\n",
            " [-9.34548701e+00 -4.44152189e+00  2.58682655e+01  4.83683416e+00\n",
            "   2.36081875e+00  4.13795840e+00  5.13011052e-01 -3.24634505e-02\n",
            "  -9.02188503e-01  8.91045729e-01]\n",
            " [ 3.58834439e+01  7.27968896e+00  8.18246712e-01 -1.37764772e+01\n",
            "  -1.85811848e-01 -1.78367557e+00  1.64415597e+00 -6.33707449e-01\n",
            "   3.17451689e-01 -8.86095019e-01]\n",
            " [-3.20616321e+01 -2.25208281e+01 -1.08942019e+01 -6.21790006e+00\n",
            "  -1.15962923e+00  5.22046847e-02  1.08117767e+00 -3.06334351e-01\n",
            "   2.63474087e+00 -7.91860430e-01]\n",
            " [-1.64954210e+01  3.93837347e+01 -3.00005127e+00  7.88575116e+00\n",
            "  -2.92287638e-01 -1.22781415e+00 -1.40205827e+00  1.08037491e+00\n",
            "  -1.26681796e+00  6.64599918e-01]\n",
            " [-1.08572758e+01 -3.87940321e+00  2.61971362e+01  2.96980979e+00\n",
            "  -1.45164786e+00 -1.79374550e+00 -2.64253037e+00 -1.58854999e+00\n",
            "   2.40481990e-01  6.67972412e-01]\n",
            " [ 2.41520782e+01 -1.38646439e+01 -1.01436974e+01  1.32256564e+01\n",
            "  -2.49521116e+00 -1.15863719e+00 -6.05518124e-01 -1.50469773e+00\n",
            "  -1.19896298e+00  1.09141203e+00]\n",
            " [ 3.57944973e+01  6.47490327e+00 -6.22428295e-02 -1.41229233e+01\n",
            "   2.79469767e+00 -1.98162697e-01  1.17188802e+00 -5.69712209e-01\n",
            "   1.25414007e+00  2.19859627e+00]\n",
            " [-3.09119076e+01 -2.57594922e+01 -8.65483713e+00 -8.13915525e+00\n",
            "   1.86116344e-01 -9.93874114e-01 -4.53744700e-01 -7.38112643e-01\n",
            "  -8.02213276e-01  1.93964147e+00]\n",
            " [-3.12957808e+01 -2.42950086e+01 -1.03890701e+01 -4.21372614e+00\n",
            "   6.32314078e-01 -1.84189269e-01 -4.83422101e-01 -1.45374807e+00\n",
            "  -1.73370074e+00 -6.79556696e-01]\n",
            " [-1.04921731e+01 -5.04555461e+00  2.27013663e+01  1.16696631e+00\n",
            "   2.95304909e-01  4.42464986e-01  8.23133029e-01 -6.58930940e-01\n",
            "   1.46689606e-02 -1.53353130e+00]\n",
            " [-1.70504970e+01  3.97997869e+01 -6.34670403e+00  2.02514888e+00\n",
            "  -1.03432838e-01 -9.09754755e-01 -6.49449401e-01  1.05994820e-01\n",
            "   7.59061348e-01  1.90945725e-01]\n",
            " [-3.23148246e+01 -2.32148532e+01 -1.27154000e+01 -5.87731402e+00\n",
            "   3.08410348e-01 -2.75620463e-01 -7.40785251e-01  9.40856883e-01\n",
            "   1.44484295e-01 -7.09377885e-01]\n",
            " [-3.21471560e+01 -2.36691864e+01 -1.12177250e+01 -6.64531206e+00\n",
            "  -1.45196604e+00  1.46307371e-01 -5.52140399e-01 -1.68287891e-01\n",
            "   2.84376657e+00 -5.72675914e-01]\n",
            " [-7.82538011e+00 -3.77795870e+00  2.31585726e+01  8.93996550e-01\n",
            "   1.80840188e+00 -1.41796361e-01  1.23377507e+00  8.74695288e-01\n",
            "   1.28991677e+00  1.98391230e-01]\n",
            " [-1.48093914e+01  3.64059637e+01 -5.51016768e+00  5.22884326e+00\n",
            "   1.80266451e-01  1.48332227e+00  3.65033489e+00  7.74406205e-01\n",
            "  -8.87501718e-01  2.78751048e-01]\n",
            " [ 3.37883498e+01  7.78888236e+00  2.02357949e+00 -1.35628606e+01\n",
            "   1.23845512e-01 -7.42956470e-01 -1.79427403e+00 -3.07285500e+00\n",
            "  -6.25005470e-01 -3.55850257e-01]\n",
            " [-1.80569583e+01  3.88656503e+01 -7.92021535e+00  3.61451852e+00\n",
            "   2.58797060e+00  1.11144830e+00  5.55192863e-01 -9.69474887e-01\n",
            "  -1.70396995e+00  1.11167065e-01]\n",
            " [ 3.46148508e+01  4.99844035e+00 -1.49834103e+00 -1.39247064e+01\n",
            "  -1.23042889e+00 -2.08292364e+00  1.15096758e+00 -2.78857556e+00\n",
            "   1.18476426e-01  8.07783976e-01]\n",
            " [ 2.40803149e+01 -1.85374244e+01 -9.16549808e+00  1.24426706e+01\n",
            "   1.65383433e+00 -1.38609146e+00 -2.12985543e+00  3.75331229e-01\n",
            "   3.57419120e-01  8.45703308e-01]\n",
            " [ 3.78969844e+01  5.65084362e+00 -1.72974506e+00 -1.44886993e+01\n",
            "  -6.74390581e-01  3.80250826e+00 -3.94560876e-01 -4.25601115e-01\n",
            "   5.26246431e-01  6.35563239e-01]\n",
            " [-3.42232311e+01 -2.20335338e+01 -8.81425896e+00 -8.58144726e+00\n",
            "  -2.36369895e+00  7.29604227e-02  4.96086225e-01 -2.00492006e+00\n",
            "  -1.15330070e-03 -9.61010534e-01]\n",
            " [ 3.00934543e+01  5.25611849e+00 -1.22600429e+00 -1.38437858e+01\n",
            "   3.48366508e+00 -4.46910555e-02 -1.33388123e+00  1.14573058e+00\n",
            "   7.95568126e-01  7.45956186e-01]\n",
            " [ 2.37811509e+01 -1.72384921e+01 -8.37096483e+00  1.32406991e+01\n",
            "  -3.87646282e+00 -1.12116656e+00  9.56336325e-01  2.33146325e-01\n",
            "  -3.03316277e-01  2.75051266e-01]\n",
            " [ 3.39413853e+01  2.63390951e+00 -1.09032207e+00 -1.57176682e+01\n",
            "   9.98391470e-01 -2.83966217e-01  5.64827276e-01  2.36716316e+00\n",
            "  -4.94646121e-02 -5.90148943e-01]\n",
            " [ 3.36125892e+01  4.46608288e+00  6.30263350e-02 -1.47700101e+01\n",
            "   1.80728763e-01  3.04559050e+00 -1.47342141e+00 -1.39625900e+00\n",
            "  -2.64387359e-01 -1.09667588e+00]\n",
            " [-1.15993699e+01 -2.95775447e+00  2.67910523e+01  4.00184030e+00\n",
            "  -4.40781737e-01  1.53146906e+00  2.45937837e+00  3.37276891e-01\n",
            "  -8.14789743e-01 -1.27198394e+00]\n",
            " [-1.12887535e+01 -6.46912275e+00  2.63641928e+01  1.79537333e+00\n",
            "   1.32219028e+00 -9.45186227e-01 -6.23641227e-01 -9.48779589e-01\n",
            "   1.98066461e-01 -1.40423366e+00]\n",
            " [-3.02971465e+01 -2.21765952e+01 -1.10460893e+01 -6.40991086e+00\n",
            "   3.34733352e+00  1.97383537e+00  9.39791860e-01 -1.77937848e+00\n",
            "  -4.51186095e-01 -2.19394234e-01]\n",
            " [ 2.50470588e+01 -1.72041339e+01 -9.63185996e+00  1.71962571e+01\n",
            "  -1.88392438e+00  2.06584221e+00  5.97612501e-01 -4.76536191e-01\n",
            "  -7.93338742e-01  1.10563532e+00]\n",
            " [ 3.19462019e+01  5.27405377e+00  4.79754288e-01 -1.56962591e+01\n",
            "  -3.96457191e-01  1.22145156e+00 -2.90042525e-01  2.07762562e+00\n",
            "   6.85870697e-01 -6.49877015e-01]\n",
            " [-3.44576791e+01 -2.38970518e+01 -1.18681974e+01 -4.91545943e+00\n",
            "   4.22632879e+00 -1.62008097e+00  2.05689264e+00  1.39658229e+00\n",
            "  -1.72553142e+00 -8.24578038e-01]\n",
            " [-3.13783155e+01 -2.13729535e+01 -1.23404704e+01 -5.32382529e+00\n",
            "  -2.12815457e+00  8.05955260e-01 -1.30317265e+00  3.33227941e+00\n",
            "  -1.18419426e+00  1.14310914e-01]\n",
            " [ 2.73273152e+01 -1.59364747e+01 -5.92078860e+00  1.60130455e+01\n",
            "  -1.01581861e-01 -3.51683617e-01 -1.30474342e+00  7.68624456e-01\n",
            "  -1.40254948e+00 -1.99282933e+00]\n",
            " [-3.35781341e+01 -2.39207270e+01 -1.03610123e+01 -7.47605012e+00\n",
            "   1.34281593e+00 -3.27358612e-01 -1.71259229e+00  9.56019485e-01\n",
            "   1.63535514e+00 -1.31556018e-01]\n",
            " [ 2.51279486e+01 -1.59104892e+01 -6.22720212e+00  1.09760763e+01\n",
            "  -1.40422753e-02  5.51498645e-01  2.42804665e+00  9.06363429e-01\n",
            "   1.56322338e-01 -5.80719133e-01]\n",
            " [ 3.32029199e+01  7.78564963e+00 -6.18471157e-01 -1.32353074e+01\n",
            "  -2.34309010e-01 -1.54567151e+00 -5.45908454e-01  7.74446454e-01\n",
            "  -1.00288848e+00  6.12576226e-01]\n",
            " [ 2.47898092e+01 -1.48073560e+01 -5.83757162e+00  1.81265084e+01\n",
            "  -2.94248829e-01 -1.74893788e-01  1.02719389e+00 -2.50481549e-01\n",
            "   2.36079095e+00  1.14431652e+00]\n",
            " [ 2.55586640e+01 -1.52403772e+01 -7.53551745e+00  1.53671052e+01\n",
            "   8.69048060e-01  1.07473516e+00 -2.19123849e+00 -1.55133619e+00\n",
            "  -1.15803054e+00 -2.86615891e-01]\n",
            " [-1.52882668e+01  3.93312075e+01 -8.14468159e+00  7.13954620e+00\n",
            "  -2.03854759e+00  3.65267794e+00  3.35323568e-01  6.57830716e-01\n",
            "   4.66867735e-01 -2.17021859e-01]\n",
            " [-3.37368718e+01 -2.31618767e+01 -1.19832122e+01 -8.80996355e+00\n",
            "  -2.74032194e+00  1.34309036e+00 -8.71571155e-01  1.87300902e+00\n",
            "   5.55754958e-02  1.70585275e+00]\n",
            " [ 2.31308972e+01 -1.52930495e+01 -5.06254769e+00  1.80115216e+01\n",
            "   2.89523031e+00 -1.32606812e+00 -1.38416941e+00  8.78505204e-01\n",
            "   1.30407717e+00  1.13149643e-01]\n",
            " [-1.81414949e+01  3.76504215e+01 -7.57402049e+00  3.47496826e+00\n",
            "   8.24271464e-01 -1.97466519e+00 -6.61752641e-01 -3.83902992e-01\n",
            "  -1.84122565e+00  1.26075759e+00]\n",
            " [-1.66045205e+01  3.70863027e+01 -6.36580416e+00  3.81583667e+00\n",
            "   6.33029505e-01 -1.79842876e+00 -1.12143945e+00  7.10944614e-01\n",
            "   1.78896728e+00 -9.93994145e-01]\n",
            " [ 2.46300367e+01 -1.42581990e+01 -7.36863354e+00  1.28493427e+01\n",
            "  -5.30742079e-03 -1.03309159e+00  1.80670670e+00 -3.26147031e-01\n",
            "  -2.68582778e-01 -2.29335266e+00]\n",
            " [-1.54183146e+01  3.88415957e+01 -5.61895925e+00  3.37004674e+00\n",
            "   1.97653141e+00 -1.67545385e+00 -1.00162597e+00 -9.39100194e-02\n",
            "   2.32281417e+00 -3.77888362e-01]\n",
            " [-1.62075635e+01  3.77081528e+01 -4.25350154e+00  4.11133816e+00\n",
            "   2.09525067e-01  4.14045458e-01 -2.31084036e+00 -1.69495656e-02\n",
            "  -1.15724692e+00  1.68566988e-01]\n",
            " [-1.17539237e+01 -6.80134574e+00  2.71061798e+01  7.65866672e-02\n",
            "  -1.26344915e-01 -4.01171040e+00  5.02074279e-01  1.41278986e+00\n",
            "  -7.96355131e-01  1.07422169e-01]\n",
            " [-3.21679041e+01 -2.37520959e+01 -1.37381984e+01 -8.80644831e+00\n",
            "  -2.00301736e-01 -4.51606917e-01  1.39850678e+00 -2.27845649e+00\n",
            "  -1.24712020e+00  1.16370553e+00]\n",
            " [ 2.52341971e+01 -1.53788122e+01 -8.57945706e+00  1.54961944e+01\n",
            "   1.40727258e+00  1.58058396e+00 -1.97311337e-01  1.49427639e+00\n",
            "   7.25980272e-02  9.98875372e-01]\n",
            " [-8.15658412e+00 -5.74422741e+00  2.48344727e+01  1.85372081e+00\n",
            "   1.81175280e+00  2.91297297e-01  7.31966713e-01 -1.09199095e+00\n",
            "   1.88826409e-01 -2.24098087e-02]]\n"
          ],
          "name": "stdout"
        }
      ]
    },
    {
      "cell_type": "code",
      "metadata": {
        "colab_type": "code",
        "id": "dfWGb4TjFQPQ",
        "colab": {
          "base_uri": "https://localhost:8080/",
          "height": 299
        },
        "outputId": "5ddfd56a-9bbf-4d4e-b479-329f275f7bf4"
      },
      "source": [
        "explained_variance = np.round(np.cumsum(pca.explained_variance_ratio_), 3)\n",
        "print(explained_variance)\n",
        "print(explained_variance[-1])\n",
        "plt.plot(np.arange(10), explained_variance, ls='-')\n",
        "plt.show()\n"
      ],
      "execution_count": null,
      "outputs": [
        {
          "output_type": "stream",
          "text": [
            "[0.459 0.79  0.92  0.992 0.994 0.996 0.997 0.998 0.999 1.   ]\n",
            "1.0\n"
          ],
          "name": "stdout"
        },
        {
          "output_type": "display_data",
          "data": {
            "image/png": "[encoded data removed]",
            "text/plain": [
              "<Figure size 432x288 with 1 Axes>"
            ]
          },
          "metadata": {
            "tags": [],
            "needs_background": "light"
          }
        }
      ]
    },
    {
      "cell_type": "markdown",
      "metadata": {
        "id": "SzGmNhKkGtB7",
        "colab_type": "text"
      },
      "source": [
        "#Восстановление исходного изображения"
      ]
    },
    {
      "cell_type": "markdown",
      "metadata": {
        "id": "I4VEbm0MHMvy",
        "colab_type": "text"
      },
      "source": [
        "Считываем датасет счетов и весов"
      ]
    },
    {
      "cell_type": "code",
      "metadata": {
        "id": "POC2XnttHV_S",
        "colab_type": "code",
        "colab": {}
      },
      "source": [
        "scores = np.genfromtxt('mgk_X_reduced.csv', delimiter=';')\n",
        "loadings = np.genfromtxt('mgk_X_loadings.csv', delimiter=';')"
      ],
      "execution_count": null,
      "outputs": []
    },
    {
      "cell_type": "markdown",
      "metadata": {
        "id": "C6HkXh7VG6O6",
        "colab_type": "text"
      },
      "source": [
        "Матрица восстановленных данных → произведение матрицы счетов на транспонированную матрицу весов.\n"
      ]
    },
    {
      "cell_type": "code",
      "metadata": {
        "id": "-ItsEEAgHjvs",
        "colab_type": "code",
        "colab": {
          "base_uri": "https://localhost:8080/",
          "height": 238
        },
        "outputId": "27bc4db8-8a96-4626-ad8c-52921e1596bf"
      },
      "source": [
        "values = np.dot(scores, loadings.T)\n",
        "print(values)"
      ],
      "execution_count": null,
      "outputs": [
        {
          "output_type": "stream",
          "text": [
            "[[1.13031992e-14 1.09019050e-13 3.67543477e-15 ... 0.00000000e+00\n",
            "  0.00000000e+00 0.00000000e+00]\n",
            " [1.13031992e-14 1.09019050e-13 3.67543477e-15 ... 0.00000000e+00\n",
            "  0.00000000e+00 0.00000000e+00]\n",
            " [1.13031992e-14 1.09019050e-13 3.67543477e-15 ... 0.00000000e+00\n",
            "  0.00000000e+00 0.00000000e+00]\n",
            " ...\n",
            " [1.13031992e-14 1.09019050e-13 3.67543477e-15 ... 0.00000000e+00\n",
            "  0.00000000e+00 0.00000000e+00]\n",
            " [1.13031992e-14 1.09019050e-13 3.67543477e-15 ... 0.00000000e+00\n",
            "  0.00000000e+00 0.00000000e+00]\n",
            " [1.13031992e-14 1.09019050e-13 3.67543477e-15 ... 0.00000000e+00\n",
            "  0.00000000e+00 0.00000000e+00]]\n"
          ],
          "name": "stdout"
        }
      ]
    },
    {
      "cell_type": "markdown",
      "metadata": {
        "id": "jTy9zp4THsmr",
        "colab_type": "text"
      },
      "source": [
        "Создадим изображение на основе полученных данных"
      ]
    },
    {
      "cell_type": "code",
      "metadata": {
        "id": "pbB4DxZKHs1H",
        "colab_type": "code",
        "colab": {
          "base_uri": "https://localhost:8080/",
          "height": 268
        },
        "outputId": "0dec02ab-a52d-48d9-d535-0a23d36d048d"
      },
      "source": [
        "plt.imshow(values, cmap='Greys_r')\n",
        "plt.show()"
      ],
      "execution_count": null,
      "outputs": [
        {
          "output_type": "display_data",
          "data": {
            "image/png": "[encoded data removed]",
            "text/plain": [
              "<Figure size 432x288 with 1 Axes>"
            ]
          },
          "metadata": {
            "tags": [],
            "needs_background": "light"
          }
        }
      ]
    }
  ]
}